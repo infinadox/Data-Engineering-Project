{
 "cells": [
  {
   "cell_type": "code",
   "execution_count": 3,
   "id": "1414f61e-d6c7-4bca-b25a-4466f461c29f",
   "metadata": {},
   "outputs": [],
   "source": [
    "import sqlite3\n",
    "import pandas as pd\n",
    "import psycopg2\n",
    "from sqlalchemy import create_engine"
   ]
  },
  {
   "cell_type": "code",
   "execution_count": 4,
   "id": "df72faa0-1b63-44dc-b42e-383226f9d830",
   "metadata": {},
   "outputs": [],
   "source": [
    "#Connect to SQLite database (create if not exists)\n",
    "conn = sqlite3.connect('ecommerce_db.sqlite')"
   ]
  },
  {
   "cell_type": "code",
   "execution_count": 5,
   "id": "8c85c015-4570-409b-9d22-014579f6100c",
   "metadata": {},
   "outputs": [],
   "source": [
    "#Load data from CSV into Pandas DataFrame\n",
    "df = pd.read_csv('e-commerce_data.csv')"
   ]
  },
  {
   "cell_type": "code",
   "execution_count": 6,
   "id": "e2abb8e1-44ee-4cc3-9ac4-1a17980d8383",
   "metadata": {},
   "outputs": [
    {
     "data": {
      "text/plain": [
       "1000"
      ]
     },
     "execution_count": 6,
     "metadata": {},
     "output_type": "execute_result"
    }
   ],
   "source": [
    "#Clean and transform data as needed before loading into SQL tables\n",
    "#For simplicity, assuming columns match exactly with the table schema\n",
    "#Create Products table\n",
    "df_products = df[['ProductID', 'ProductName', 'Rating', 'NumReviews', 'DateAdded']].drop_duplicates()\n",
    "df_products.to_sql('Products', conn, if_exists='replace', index=False)\n"
   ]
  },
  {
   "cell_type": "code",
   "execution_count": 7,
   "id": "9e42e652-a562-4dcc-a603-4552c104a29f",
   "metadata": {},
   "outputs": [
    {
     "data": {
      "text/plain": [
       "1000"
      ]
     },
     "execution_count": 7,
     "metadata": {},
     "output_type": "execute_result"
    }
   ],
   "source": [
    "#Create Transactions table\n",
    "df_transactions = df[['ProductID', 'Price', 'Discount', 'Sales', 'StockQuantity', 'Category']]\n",
    "df_transactions.to_sql('Transactions', conn, if_exists='replace', index=False)"
   ]
  },
  {
   "cell_type": "code",
   "execution_count": 8,
   "id": "5e5bdbce-f840-48ba-9bdb-dc317f35239c",
   "metadata": {},
   "outputs": [],
   "source": [
    "#Commit changes and close connection\n",
    "#conn.commit()\n",
    "#conn.close()"
   ]
  },
  {
   "cell_type": "code",
   "execution_count": 9,
   "id": "c4a21edf-241c-431f-8e8d-30d6d9671c86",
   "metadata": {},
   "outputs": [
    {
     "name": "stdout",
     "output_type": "stream",
     "text": [
      "Tables 'Products' and 'Transactions' created successfully and data loaded.\n"
     ]
    }
   ],
   "source": [
    "print(\"Tables 'Products' and 'Transactions' created successfully and data loaded.\")\n"
   ]
  },
  {
   "cell_type": "code",
   "execution_count": 3,
   "id": "eadaa70e-81a3-47d4-b611-6c6deda1fbc6",
   "metadata": {},
   "outputs": [
    {
     "name": "stdout",
     "output_type": "stream",
     "text": [
      "Transactions DataFrame:\n",
      "   ProductID   Price  Discount  Sales  StockQuantity     Category\n",
      "0          1  400.31      0.08    466             20  Electronics\n",
      "1          2  235.03      0.33   1332            663  Electronics\n",
      "2          3  417.90      0.31    252            459  Electronics\n",
      "3          4  152.70      0.49   1806            475  Electronics\n",
      "4          5  394.74      0.23   1508            831  Electronics\n",
      "\n",
      "Products DataFrame:\n",
      "   ProductID ProductName  Rating  NumReviews   DateAdded\n",
      "0          1  Headphones     1.7        3772  2023-11-08\n",
      "1          2  Headphones     2.3        2919  2023-09-26\n",
      "2          3  Smartwatch     1.8        1184  2023-10-18\n",
      "3          4  Smartphone     3.4        2047  2023-12-03\n",
      "4          5      Laptop     1.8        1267  2023-08-08\n"
     ]
    }
   ],
   "source": [
    "import pandas as pd\n",
    "import sqlite3\n",
    "\n",
    "# Connect to SQLite database\n",
    "conn = sqlite3.connect('ecommerce_db.sqlite')\n",
    "\n",
    "# Query data from database\n",
    "transactions_df = pd.read_sql_query('SELECT * FROM Transactions', conn)\n",
    "products_df = pd.read_sql_query('SELECT * FROM Products', conn)\n",
    "\n",
    "# Close the database connection\n",
    "conn.close()\n",
    "\n",
    "# Display the data\n",
    "print(\"Transactions DataFrame:\")\n",
    "print(transactions_df.head())\n",
    "\n",
    "print(\"\\nProducts DataFrame:\")\n",
    "print(products_df.head())\n"
   ]
  },
  {
   "cell_type": "code",
   "execution_count": 10,
   "id": "4c3fe0c7-1945-4fd4-bad7-5f0944aabcd4",
   "metadata": {},
   "outputs": [
    {
     "name": "stdout",
     "output_type": "stream",
     "text": [
      "First few rows of the dataset:\n",
      "   ProductID ProductName     Category   Price  Rating  NumReviews  \\\n",
      "0          1  Headphones  Electronics  400.31     1.7        3772   \n",
      "1          2  Headphones  Electronics  235.03     2.3        2919   \n",
      "2          3  Smartwatch  Electronics  417.90     1.8        1184   \n",
      "3          4  Smartphone  Electronics  152.70     3.4        2047   \n",
      "4          5      Laptop  Electronics  394.74     1.8        1267   \n",
      "\n",
      "   StockQuantity  Discount  Sales   DateAdded  \n",
      "0             20      0.08    466  2023-11-08  \n",
      "1            663      0.33   1332  2023-09-26  \n",
      "2            459      0.31    252  2023-10-18  \n",
      "3            475      0.49   1806  2023-12-03  \n",
      "4            831      0.23   1508  2023-08-08  \n",
      "\n",
      "Summary statistics:\n",
      "         ProductID       Price       Rating   NumReviews  StockQuantity  \\\n",
      "count  1000.000000  1000.00000  1000.000000  1000.000000    1000.000000   \n",
      "mean    500.500000   253.77551     3.025600  2498.753000     495.395000   \n",
      "std     288.819436   141.40362     1.151004  1463.241871     292.799253   \n",
      "min       1.000000    10.11000     1.000000     3.000000       0.000000   \n",
      "25%     250.750000   133.09250     2.100000  1201.750000     241.750000   \n",
      "50%     500.500000   251.31000     3.100000  2476.000000     505.000000   \n",
      "75%     750.250000   375.82750     4.000000  3797.500000     743.500000   \n",
      "max    1000.000000   499.74000     5.000000  4994.000000     993.000000   \n",
      "\n",
      "          Discount        Sales  \n",
      "count  1000.000000  1000.000000  \n",
      "mean      0.251640  1011.037000  \n",
      "std       0.146455   582.113466  \n",
      "min       0.000000     0.000000  \n",
      "25%       0.130000   502.000000  \n",
      "50%       0.250000   998.000000  \n",
      "75%       0.380000  1540.000000  \n",
      "max       0.500000  1997.000000  \n"
     ]
    }
   ],
   "source": [
    "import numpy as np\n",
    "import pandas as pd\n",
    "import matplotlib.pyplot as plt\n",
    "import seaborn as sns\n",
    "import plotly.express as px\n",
    "import plotly.graph_objects as go\n",
    "from plotly.subplots import make_subplots\n",
    "\n",
    "df = pd.read_csv('e-commerce_data.csv')\n",
    "\n",
    "print(\"First few rows of the dataset:\")\n",
    "print(df.head())\n",
    "\n",
    "print(\"\\nSummary statistics:\")\n",
    "print(df.describe())"
   ]
  },
  {
   "cell_type": "code",
   "execution_count": 12,
   "id": "6ef0f3aa-2405-43da-8e5c-b769672b7061",
   "metadata": {},
   "outputs": [
    {
     "data": {
      "text/html": [
       "<div>\n",
       "<style scoped>\n",
       "    .dataframe tbody tr th:only-of-type {\n",
       "        vertical-align: middle;\n",
       "    }\n",
       "\n",
       "    .dataframe tbody tr th {\n",
       "        vertical-align: top;\n",
       "    }\n",
       "\n",
       "    .dataframe thead th {\n",
       "        text-align: right;\n",
       "    }\n",
       "</style>\n",
       "<table border=\"1\" class=\"dataframe\">\n",
       "  <thead>\n",
       "    <tr style=\"text-align: right;\">\n",
       "      <th></th>\n",
       "      <th>ProductID</th>\n",
       "      <th>ProductName</th>\n",
       "      <th>Category</th>\n",
       "      <th>Price</th>\n",
       "      <th>Rating</th>\n",
       "      <th>NumReviews</th>\n",
       "      <th>StockQuantity</th>\n",
       "      <th>Discount</th>\n",
       "      <th>Sales</th>\n",
       "      <th>DateAdded</th>\n",
       "    </tr>\n",
       "  </thead>\n",
       "  <tbody>\n",
       "    <tr>\n",
       "      <th>0</th>\n",
       "      <td>1</td>\n",
       "      <td>Headphones</td>\n",
       "      <td>Electronics</td>\n",
       "      <td>400.31</td>\n",
       "      <td>1.7</td>\n",
       "      <td>3772</td>\n",
       "      <td>20</td>\n",
       "      <td>0.08</td>\n",
       "      <td>466</td>\n",
       "      <td>2023-11-08</td>\n",
       "    </tr>\n",
       "    <tr>\n",
       "      <th>1</th>\n",
       "      <td>2</td>\n",
       "      <td>Headphones</td>\n",
       "      <td>Electronics</td>\n",
       "      <td>235.03</td>\n",
       "      <td>2.3</td>\n",
       "      <td>2919</td>\n",
       "      <td>663</td>\n",
       "      <td>0.33</td>\n",
       "      <td>1332</td>\n",
       "      <td>2023-09-26</td>\n",
       "    </tr>\n",
       "    <tr>\n",
       "      <th>2</th>\n",
       "      <td>3</td>\n",
       "      <td>Smartwatch</td>\n",
       "      <td>Electronics</td>\n",
       "      <td>417.90</td>\n",
       "      <td>1.8</td>\n",
       "      <td>1184</td>\n",
       "      <td>459</td>\n",
       "      <td>0.31</td>\n",
       "      <td>252</td>\n",
       "      <td>2023-10-18</td>\n",
       "    </tr>\n",
       "    <tr>\n",
       "      <th>3</th>\n",
       "      <td>4</td>\n",
       "      <td>Smartphone</td>\n",
       "      <td>Electronics</td>\n",
       "      <td>152.70</td>\n",
       "      <td>3.4</td>\n",
       "      <td>2047</td>\n",
       "      <td>475</td>\n",
       "      <td>0.49</td>\n",
       "      <td>1806</td>\n",
       "      <td>2023-12-03</td>\n",
       "    </tr>\n",
       "    <tr>\n",
       "      <th>4</th>\n",
       "      <td>5</td>\n",
       "      <td>Laptop</td>\n",
       "      <td>Electronics</td>\n",
       "      <td>394.74</td>\n",
       "      <td>1.8</td>\n",
       "      <td>1267</td>\n",
       "      <td>831</td>\n",
       "      <td>0.23</td>\n",
       "      <td>1508</td>\n",
       "      <td>2023-08-08</td>\n",
       "    </tr>\n",
       "  </tbody>\n",
       "</table>\n",
       "</div>"
      ],
      "text/plain": [
       "   ProductID ProductName     Category   Price  Rating  NumReviews  \\\n",
       "0          1  Headphones  Electronics  400.31     1.7        3772   \n",
       "1          2  Headphones  Electronics  235.03     2.3        2919   \n",
       "2          3  Smartwatch  Electronics  417.90     1.8        1184   \n",
       "3          4  Smartphone  Electronics  152.70     3.4        2047   \n",
       "4          5      Laptop  Electronics  394.74     1.8        1267   \n",
       "\n",
       "   StockQuantity  Discount  Sales  DateAdded  \n",
       "0             20      0.08    466 2023-11-08  \n",
       "1            663      0.33   1332 2023-09-26  \n",
       "2            459      0.31    252 2023-10-18  \n",
       "3            475      0.49   1806 2023-12-03  \n",
       "4            831      0.23   1508 2023-08-08  "
      ]
     },
     "execution_count": 12,
     "metadata": {},
     "output_type": "execute_result"
    }
   ],
   "source": [
    "df.head()"
   ]
  },
  {
   "cell_type": "code",
   "execution_count": 11,
   "id": "9a388fb7-17d8-41cb-83da-3212c966730e",
   "metadata": {},
   "outputs": [
    {
     "name": "stdout",
     "output_type": "stream",
     "text": [
      "\n",
      "Dataset info:\n",
      "<class 'pandas.core.frame.DataFrame'>\n",
      "RangeIndex: 1000 entries, 0 to 999\n",
      "Data columns (total 10 columns):\n",
      " #   Column         Non-Null Count  Dtype  \n",
      "---  ------         --------------  -----  \n",
      " 0   ProductID      1000 non-null   int64  \n",
      " 1   ProductName    1000 non-null   object \n",
      " 2   Category       1000 non-null   object \n",
      " 3   Price          1000 non-null   float64\n",
      " 4   Rating         1000 non-null   float64\n",
      " 5   NumReviews     1000 non-null   int64  \n",
      " 6   StockQuantity  1000 non-null   int64  \n",
      " 7   Discount       1000 non-null   float64\n",
      " 8   Sales          1000 non-null   int64  \n",
      " 9   DateAdded      1000 non-null   object \n",
      "dtypes: float64(3), int64(4), object(3)\n",
      "memory usage: 78.3+ KB\n",
      "None\n",
      "\n",
      "Missing values:\n",
      "ProductID        0\n",
      "ProductName      0\n",
      "Category         0\n",
      "Price            0\n",
      "Rating           0\n",
      "NumReviews       0\n",
      "StockQuantity    0\n",
      "Discount         0\n",
      "Sales            0\n",
      "DateAdded        0\n",
      "dtype: int64\n",
      "\n",
      "Cleaned data preview:\n",
      "   ProductID ProductName     Category   Price  Rating  NumReviews  \\\n",
      "0          1  Headphones  Electronics  400.31     1.7        3772   \n",
      "1          2  Headphones  Electronics  235.03     2.3        2919   \n",
      "2          3  Smartwatch  Electronics  417.90     1.8        1184   \n",
      "3          4  Smartphone  Electronics  152.70     3.4        2047   \n",
      "4          5      Laptop  Electronics  394.74     1.8        1267   \n",
      "\n",
      "   StockQuantity  Discount  Sales  DateAdded  \n",
      "0             20      0.08    466 2023-11-08  \n",
      "1            663      0.33   1332 2023-09-26  \n",
      "2            459      0.31    252 2023-10-18  \n",
      "3            475      0.49   1806 2023-12-03  \n",
      "4            831      0.23   1508 2023-08-08  \n",
      "\n",
      "Total Sales: 1011037\n",
      "Average Sales: 1011.04\n"
     ]
    }
   ],
   "source": [
    "import numpy as np\n",
    "import pandas as pd\n",
    "import matplotlib.pyplot as plt\n",
    "import seaborn as sns\n",
    "import plotly.express as px\n",
    "import plotly.graph_objects as go\n",
    "from plotly.subplots import make_subplots\n",
    "\n",
    "# Load dataset\n",
    "df = pd.read_csv('e-commerce_data.csv')\n",
    "\n",
    "# Display dataset information\n",
    "print(\"\\nDataset info:\")\n",
    "print(df.info())\n",
    "\n",
    "# Check for missing values\n",
    "print(\"\\nMissing values:\")\n",
    "print(df.isnull().sum())\n",
    "\n",
    "# Data cleaning\n",
    "df = df.dropna()  # Dropping rows with missing values for simplicity\n",
    "\n",
    "# Convert 'DateAdded' to datetime\n",
    "df['DateAdded'] = pd.to_datetime(df['DateAdded'])\n",
    "\n",
    "# Preview cleaned data\n",
    "print(\"\\nCleaned data preview:\")\n",
    "print(df.head())\n",
    "\n",
    "# Calculate total sales and average sales\n",
    "total_sales = df['Sales'].sum()\n",
    "average_sales = df['Sales'].mean()\n",
    "\n",
    "print(f\"\\nTotal Sales: {total_sales}\")\n",
    "print(f\"Average Sales: {average_sales:.2f}\")\n",
    "\n"
   ]
  },
  {
   "cell_type": "code",
   "execution_count": 14,
   "id": "82be732f-bc02-4c52-9da4-f02435b2536b",
   "metadata": {
    "scrolled": true
   },
   "outputs": [
    {
     "name": "stderr",
     "output_type": "stream",
     "text": [
      "C:\\Users\\sraza\\anaconda3\\Lib\\site-packages\\seaborn\\_oldcore.py:1119: FutureWarning:\n",
      "\n",
      "use_inf_as_na option is deprecated and will be removed in a future version. Convert inf values to NaN before operating instead.\n",
      "\n"
     ]
    },
    {
     "data": {
      "image/png": "[encoded data removed]",
      "text/plain": [
       "<Figure size 1000x600 with 1 Axes>"
      ]
     },
     "metadata": {},
     "output_type": "display_data"
    },
    {
     "data": {
      "image/png": "[encoded data removed]",
      "text/plain": [
       "<Figure size 1400x700 with 1 Axes>"
      ]
     },
     "metadata": {},
     "output_type": "display_data"
    },
    {
     "data": {
      "application/vnd.plotly.v1+json": {
       "config": {
        "plotlyServerURL": "https://plot.ly"
       },
       "data": [
        {
         "customdata": [
          [
           "Headphones"
          ],
          [
           "Headphones"
          ],
          [
           "Smartwatch"
          ],
          [
           "Smartphone"
          ],
          [
           "Laptop"
          ],
          [
           "Headphones"
          ],
          [
           "Laptop"
          ],
          [
           "Laptop"
          ],
          [
           "Smartphone"
          ],
          [
           "Smartwatch"
          ],
          [
           "Laptop"
          ],
          [
           "Headphones"
          ],
          [
           "Headphones"
          ],
          [
           "Laptop"
          ],
          [
           "Smartwatch"
          ],
          [
           "Headphones"
          ],
          [
           "Headphones"
          ],
          [
           "Smartwatch"
          ],
          [
           "Headphones"
          ],
          [
           "Smartwatch"
          ],
          [
           "Laptop"
          ],
          [
           "Headphones"
          ],
          [
           "Smartwatch"
          ],
          [
           "Smartwatch"
          ],
          [
           "Laptop"
          ],
          [
           "Smartwatch"
          ],
          [
           "Laptop"
          ],
          [
           "Smartphone"
          ],
          [
           "Headphones"
          ],
          [
           "Headphones"
          ],
          [
           "Laptop"
          ],
          [
           "Smartphone"
          ],
          [
           "Headphones"
          ],
          [
           "Smartwatch"
          ],
          [
           "Laptop"
          ],
          [
           "Smartwatch"
          ],
          [
           "Laptop"
          ],
          [
           "Smartphone"
          ],
          [
           "Headphones"
          ],
          [
           "Smartphone"
          ]
         ],
         "hovertemplate": "Category=Electronics<br>Price=%{x}<br>Sales=%{y}<br>ProductName=%{customdata[0]}<extra></extra>",
         "legendgroup": "Electronics",
         "marker": {
          "color": "#636efa",
          "symbol": "circle"
         },
         "mode": "markers",
         "name": "Electronics",
         "orientation": "v",
         "showlegend": true,
         "type": "scatter",
         "x": [
          400.31,
          235.03,
          417.9,
          152.7,
          394.74,
          93.56,
          57.86,
          201.62,
          485.1,
          170,
          274.45,
          90.98,
          107.43,
          66.78,
          336.3,
          359.49,
          64.34,
          454.71,
          151.98,
          403.8,
          63.93,
          90.68,
          472.03,
          133.37,
          256.31,
          280.92,
          190.21,
          83.85,
          406.66,
          469,
          491.26,
          451.2,
          429.6,
          294.54,
          349.03,
          375.78,
          299.04,
          256.29,
          290.28,
          442.91
         ],
         "xaxis": "x",
         "y": [
          466,
          1332,
          252,
          1806,
          1508,
          241,
          1966,
          1795,
          269,
          719,
          1064,
          647,
          1513,
          502,
          1762,
          794,
          1020,
          524,
          1976,
          1371,
          1768,
          1257,
          1853,
          698,
          1707,
          400,
          751,
          763,
          1959,
          1787,
          253,
          815,
          1648,
          1919,
          397,
          687,
          26,
          1852,
          476,
          301
         ],
         "yaxis": "y"
        },
        {
         "customdata": [
          [
           "Jacket"
          ],
          [
           "Jacket"
          ],
          [
           "Sweater"
          ],
          [
           "T-Shirt"
          ],
          [
           "Sweater"
          ],
          [
           "Sweater"
          ],
          [
           "T-Shirt"
          ],
          [
           "T-Shirt"
          ],
          [
           "Jacket"
          ],
          [
           "T-Shirt"
          ],
          [
           "Jacket"
          ],
          [
           "Jeans"
          ],
          [
           "Jeans"
          ],
          [
           "T-Shirt"
          ],
          [
           "Sweater"
          ],
          [
           "Jacket"
          ],
          [
           "Jeans"
          ],
          [
           "T-Shirt"
          ],
          [
           "T-Shirt"
          ],
          [
           "Jacket"
          ],
          [
           "T-Shirt"
          ],
          [
           "T-Shirt"
          ],
          [
           "T-Shirt"
          ],
          [
           "Jacket"
          ],
          [
           "T-Shirt"
          ],
          [
           "Jacket"
          ],
          [
           "Sweater"
          ],
          [
           "Sweater"
          ],
          [
           "Jeans"
          ],
          [
           "Jacket"
          ],
          [
           "Jeans"
          ],
          [
           "T-Shirt"
          ],
          [
           "T-Shirt"
          ],
          [
           "Jacket"
          ],
          [
           "Jeans"
          ],
          [
           "Jeans"
          ],
          [
           "Sweater"
          ],
          [
           "Sweater"
          ],
          [
           "Jacket"
          ],
          [
           "Jeans"
          ]
         ],
         "hovertemplate": "Category=Clothing<br>Price=%{x}<br>Sales=%{y}<br>ProductName=%{customdata[0]}<extra></extra>",
         "legendgroup": "Clothing",
         "marker": {
          "color": "#EF553B",
          "symbol": "circle"
         },
         "mode": "markers",
         "name": "Clothing",
         "orientation": "v",
         "showlegend": true,
         "type": "scatter",
         "x": [
          482.17,
          93.05,
          338.86,
          76.94,
          260.56,
          444.44,
          85.97,
          415.66,
          352.76,
          205.42,
          351.03,
          56,
          367.72,
          66.88,
          57.94,
          33.55,
          255.51,
          434.93,
          407.49,
          194.86,
          423.99,
          180.68,
          288.57,
          466.07,
          195.09,
          200.71,
          246.44,
          339.53,
          487.38,
          67.36,
          353.47,
          124.28,
          300.03,
          131.87,
          373.08,
          206.11,
          489.17,
          46.16,
          232.73,
          475.7
         ],
         "xaxis": "x",
         "y": [
          1184,
          1815,
          784,
          920,
          511,
          853,
          1077,
          876,
          1693,
          1853,
          801,
          703,
          1109,
          452,
          1757,
          761,
          1782,
          1698,
          396,
          89,
          1219,
          675,
          95,
          216,
          396,
          717,
          395,
          108,
          732,
          1253,
          1540,
          1680,
          1205,
          1243,
          386,
          133,
          1236,
          1328,
          970,
          1031
         ],
         "yaxis": "y"
        },
        {
         "customdata": [
          [
           "Coffee Maker"
          ],
          [
           "Microwave"
          ],
          [
           "Microwave"
          ],
          [
           "Coffee Maker"
          ],
          [
           "Microwave"
          ],
          [
           "Blender"
          ],
          [
           "Coffee Maker"
          ],
          [
           "Toaster"
          ],
          [
           "Toaster"
          ],
          [
           "Coffee Maker"
          ],
          [
           "Microwave"
          ],
          [
           "Coffee Maker"
          ],
          [
           "Toaster"
          ],
          [
           "Blender"
          ],
          [
           "Toaster"
          ],
          [
           "Blender"
          ],
          [
           "Blender"
          ],
          [
           "Microwave"
          ],
          [
           "Blender"
          ],
          [
           "Toaster"
          ],
          [
           "Blender"
          ],
          [
           "Microwave"
          ],
          [
           "Toaster"
          ],
          [
           "Toaster"
          ],
          [
           "Microwave"
          ],
          [
           "Toaster"
          ],
          [
           "Coffee Maker"
          ],
          [
           "Toaster"
          ],
          [
           "Toaster"
          ],
          [
           "Coffee Maker"
          ],
          [
           "Toaster"
          ],
          [
           "Coffee Maker"
          ],
          [
           "Coffee Maker"
          ],
          [
           "Microwave"
          ],
          [
           "Blender"
          ],
          [
           "Toaster"
          ],
          [
           "Microwave"
          ],
          [
           "Coffee Maker"
          ],
          [
           "Blender"
          ],
          [
           "Microwave"
          ]
         ],
         "hovertemplate": "Category=Home & Kitchen<br>Price=%{x}<br>Sales=%{y}<br>ProductName=%{customdata[0]}<extra></extra>",
         "legendgroup": "Home & Kitchen",
         "marker": {
          "color": "#00cc96",
          "symbol": "circle"
         },
         "mode": "markers",
         "name": "Home & Kitchen",
         "orientation": "v",
         "showlegend": true,
         "type": "scatter",
         "x": [
          326.96,
          352.1,
          413.04,
          439.56,
          83.7,
          41.12,
          408.32,
          195.15,
          185.5,
          410.03,
          24.1,
          490.43,
          230.95,
          82.07,
          251.38,
          235.46,
          449.43,
          412.68,
          235.78,
          401.71,
          11.27,
          191.53,
          82.39,
          183.53,
          53.71,
          396.69,
          297.4,
          129.73,
          189.02,
          449.42,
          204.95,
          364.22,
          110.49,
          356.54,
          270.97,
          167.95,
          241.85,
          482.86,
          373.15,
          90.49
         ],
         "xaxis": "x",
         "y": [
          739,
          908,
          449,
          145,
          794,
          822,
          676,
          1795,
          770,
          400,
          102,
          1331,
          80,
          68,
          1906,
          359,
          633,
          837,
          1836,
          830,
          1715,
          1239,
          1774,
          1976,
          24,
          33,
          1305,
          661,
          349,
          547,
          880,
          1049,
          112,
          1534,
          1673,
          784,
          1604,
          587,
          1851,
          600
         ],
         "yaxis": "y"
        },
        {
         "customdata": [
          [
           "Biography"
          ],
          [
           "Biography"
          ],
          [
           "Fantasy Book"
          ],
          [
           "Fantasy Book"
          ],
          [
           "Biography"
          ],
          [
           "Biography"
          ],
          [
           "Fantasy Book"
          ],
          [
           "Science Book"
          ],
          [
           "Biography"
          ],
          [
           "Fantasy Book"
          ],
          [
           "Science Book"
          ],
          [
           "Science Book"
          ],
          [
           "Biography"
          ],
          [
           "Science Book"
          ],
          [
           "Biography"
          ],
          [
           "Science Book"
          ],
          [
           "Novel"
          ],
          [
           "Biography"
          ],
          [
           "Novel"
          ],
          [
           "Biography"
          ],
          [
           "Biography"
          ],
          [
           "Biography"
          ],
          [
           "Biography"
          ],
          [
           "Biography"
          ],
          [
           "Novel"
          ],
          [
           "Biography"
          ],
          [
           "Biography"
          ],
          [
           "Science Book"
          ],
          [
           "Novel"
          ],
          [
           "Novel"
          ],
          [
           "Biography"
          ],
          [
           "Biography"
          ],
          [
           "Biography"
          ],
          [
           "Biography"
          ],
          [
           "Biography"
          ],
          [
           "Science Book"
          ],
          [
           "Biography"
          ],
          [
           "Novel"
          ],
          [
           "Biography"
          ],
          [
           "Science Book"
          ]
         ],
         "hovertemplate": "Category=Books<br>Price=%{x}<br>Sales=%{y}<br>ProductName=%{customdata[0]}<extra></extra>",
         "legendgroup": "Books",
         "marker": {
          "color": "#ab63fa",
          "symbol": "circle"
         },
         "mode": "markers",
         "name": "Books",
         "orientation": "v",
         "showlegend": true,
         "type": "scatter",
         "x": [
          202.3,
          274.49,
          122.22,
          91.7,
          378.68,
          252.05,
          204.67,
          324.16,
          455.14,
          456.81,
          466.74,
          307.29,
          125.59,
          299.72,
          173.41,
          371.38,
          254.2,
          335.13,
          100.39,
          110.52,
          154.08,
          284.22,
          142.66,
          434.83,
          301.57,
          404.6,
          110.44,
          425.58,
          410.55,
          179.14,
          248.84,
          373.43,
          492.36,
          269.53,
          416.57,
          302.73,
          216.8,
          200.75,
          204.36,
          138.51
         ],
         "xaxis": "x",
         "y": [
          1714,
          1006,
          1202,
          419,
          597,
          227,
          1708,
          1683,
          301,
          1639,
          1129,
          778,
          1854,
          312,
          385,
          1205,
          665,
          341,
          434,
          1447,
          1136,
          1666,
          1499,
          442,
          1627,
          1935,
          774,
          81,
          1142,
          592,
          1138,
          1301,
          74,
          1700,
          1310,
          921,
          1315,
          1250,
          1785,
          481
         ],
         "yaxis": "y"
        },
        {
         "customdata": [
          [
           "Board Game"
          ],
          [
           "Board Game"
          ],
          [
           "Board Game"
          ],
          [
           "Puzzle"
          ],
          [
           "Puzzle"
          ],
          [
           "Puzzle"
          ],
          [
           "Puzzle"
          ],
          [
           "Puzzle"
          ],
          [
           "Action Figure"
          ],
          [
           "Puzzle"
          ],
          [
           "Action Figure"
          ],
          [
           "Puzzle"
          ],
          [
           "Puzzle"
          ],
          [
           "Toy Car"
          ],
          [
           "Toy Car"
          ],
          [
           "Board Game"
          ],
          [
           "Action Figure"
          ],
          [
           "Puzzle"
          ],
          [
           "Toy Car"
          ],
          [
           "Board Game"
          ],
          [
           "Board Game"
          ],
          [
           "Board Game"
          ],
          [
           "Action Figure"
          ],
          [
           "Action Figure"
          ],
          [
           "Puzzle"
          ],
          [
           "Board Game"
          ],
          [
           "Board Game"
          ],
          [
           "Board Game"
          ],
          [
           "Toy Car"
          ],
          [
           "Board Game"
          ],
          [
           "Action Figure"
          ],
          [
           "Toy Car"
          ],
          [
           "Puzzle"
          ],
          [
           "Puzzle"
          ],
          [
           "Board Game"
          ],
          [
           "Action Figure"
          ],
          [
           "Board Game"
          ],
          [
           "Action Figure"
          ],
          [
           "Action Figure"
          ],
          [
           "Toy Car"
          ]
         ],
         "hovertemplate": "Category=Toys & Games<br>Price=%{x}<br>Sales=%{y}<br>ProductName=%{customdata[0]}<extra></extra>",
         "legendgroup": "Toys & Games",
         "marker": {
          "color": "#FFA15A",
          "symbol": "circle"
         },
         "mode": "markers",
         "name": "Toys & Games",
         "orientation": "v",
         "showlegend": true,
         "type": "scatter",
         "x": [
          242.38,
          235.24,
          60.52,
          265.44,
          364.81,
          31.64,
          26.63,
          399.72,
          328.58,
          176.54,
          334.21,
          436.35,
          44.31,
          317.48,
          371.42,
          124.47,
          343.03,
          440.77,
          41.84,
          198.2,
          484.86,
          351.05,
          448.51,
          31.74,
          52.62,
          270.98,
          252.62,
          276.45,
          426.79,
          61.86,
          24.33,
          282.53,
          490.78,
          382.9,
          379.31,
          387.78,
          495.17,
          20.84,
          472.71,
          421.57
         ],
         "xaxis": "x",
         "y": [
          60,
          1458,
          329,
          660,
          1900,
          1109,
          1521,
          1466,
          130,
          496,
          893,
          1439,
          317,
          920,
          1693,
          584,
          938,
          1176,
          1353,
          1540,
          1596,
          1143,
          634,
          1560,
          1924,
          972,
          1591,
          335,
          1368,
          556,
          1574,
          1548,
          674,
          571,
          730,
          1143,
          947,
          1561,
          156,
          1730
         ],
         "yaxis": "y"
        },
        {
         "customdata": [
          [
           "Fish Oil"
          ],
          [
           "Fish Oil"
          ],
          [
           "Protein Powder"
          ],
          [
           "Protein Powder"
          ],
          [
           "Protein Powder"
          ],
          [
           "Vitamin D"
          ],
          [
           "Fish Oil"
          ],
          [
           "Multivitamin"
          ],
          [
           "Fish Oil"
          ],
          [
           "Vitamin D"
          ],
          [
           "Fish Oil"
          ],
          [
           "Multivitamin"
          ],
          [
           "Fish Oil"
          ],
          [
           "Vitamin D"
          ],
          [
           "Protein Powder"
          ],
          [
           "Vitamin D"
          ],
          [
           "Multivitamin"
          ],
          [
           "Fish Oil"
          ],
          [
           "Protein Powder"
          ],
          [
           "Vitamin D"
          ],
          [
           "Vitamin D"
          ],
          [
           "Protein Powder"
          ],
          [
           "Multivitamin"
          ],
          [
           "Vitamin D"
          ],
          [
           "Protein Powder"
          ],
          [
           "Fish Oil"
          ],
          [
           "Fish Oil"
          ],
          [
           "Vitamin D"
          ],
          [
           "Vitamin D"
          ],
          [
           "Vitamin D"
          ],
          [
           "Protein Powder"
          ],
          [
           "Multivitamin"
          ],
          [
           "Vitamin D"
          ],
          [
           "Protein Powder"
          ],
          [
           "Multivitamin"
          ],
          [
           "Vitamin D"
          ],
          [
           "Vitamin D"
          ],
          [
           "Fish Oil"
          ],
          [
           "Vitamin D"
          ],
          [
           "Vitamin D"
          ]
         ],
         "hovertemplate": "Category=Vitamins and supplements<br>Price=%{x}<br>Sales=%{y}<br>ProductName=%{customdata[0]}<extra></extra>",
         "legendgroup": "Vitamins and supplements",
         "marker": {
          "color": "#19d3f3",
          "symbol": "circle"
         },
         "mode": "markers",
         "name": "Vitamins and supplements",
         "orientation": "v",
         "showlegend": true,
         "type": "scatter",
         "x": [
          84.02,
          382.45,
          435.38,
          100.91,
          18.75,
          245.95,
          120.51,
          83.29,
          152.91,
          61.42,
          113.07,
          53.05,
          349.67,
          449.15,
          474.2,
          448.46,
          90.36,
          171.22,
          254.12,
          49.95,
          236.69,
          370.32,
          224.92,
          145.65,
          419.64,
          126.4,
          57.72,
          90.13,
          298.32,
          226.59,
          312.4,
          184.8,
          435.45,
          35.33,
          258.55,
          18.52,
          336.76,
          102.29,
          489.53,
          289.6
         ],
         "xaxis": "x",
         "y": [
          1978,
          1185,
          1562,
          1709,
          898,
          1763,
          394,
          1518,
          778,
          591,
          1888,
          870,
          1895,
          552,
          382,
          514,
          1324,
          308,
          872,
          1230,
          403,
          946,
          931,
          1260,
          477,
          1004,
          1107,
          1252,
          1418,
          132,
          1144,
          1847,
          1665,
          1082,
          1239,
          1207,
          891,
          1825,
          1561,
          800
         ],
         "yaxis": "y"
        },
        {
         "customdata": [
          [
           "Sunscreen"
          ],
          [
           "Cleanser"
          ],
          [
           "Moisturizer"
          ],
          [
           "Cleanser"
          ],
          [
           "Toner"
          ],
          [
           "Moisturizer"
          ],
          [
           "Cleanser"
          ],
          [
           "Cleanser"
          ],
          [
           "Moisturizer"
          ],
          [
           "Cleanser"
          ],
          [
           "Sunscreen"
          ],
          [
           "Cleanser"
          ],
          [
           "Sunscreen"
          ],
          [
           "Toner"
          ],
          [
           "Sunscreen"
          ],
          [
           "Cleanser"
          ],
          [
           "Cleanser"
          ],
          [
           "Toner"
          ],
          [
           "Toner"
          ],
          [
           "Moisturizer"
          ],
          [
           "Sunscreen"
          ],
          [
           "Moisturizer"
          ],
          [
           "Moisturizer"
          ],
          [
           "Cleanser"
          ],
          [
           "Toner"
          ],
          [
           "Toner"
          ],
          [
           "Moisturizer"
          ],
          [
           "Cleanser"
          ],
          [
           "Moisturizer"
          ],
          [
           "Toner"
          ],
          [
           "Sunscreen"
          ],
          [
           "Moisturizer"
          ],
          [
           "Toner"
          ],
          [
           "Cleanser"
          ],
          [
           "Toner"
          ],
          [
           "Toner"
          ],
          [
           "Toner"
          ],
          [
           "Sunscreen"
          ],
          [
           "Cleanser"
          ],
          [
           "Cleanser"
          ]
         ],
         "hovertemplate": "Category=Skin care<br>Price=%{x}<br>Sales=%{y}<br>ProductName=%{customdata[0]}<extra></extra>",
         "legendgroup": "Skin care",
         "marker": {
          "color": "#FF6692",
          "symbol": "circle"
         },
         "mode": "markers",
         "name": "Skin care",
         "orientation": "v",
         "showlegend": true,
         "type": "scatter",
         "x": [
          471.03,
          499.71,
          287.84,
          224.7,
          155.47,
          196.41,
          297.66,
          476.22,
          205.42,
          375.97,
          44.93,
          105.33,
          270.81,
          413.36,
          154.69,
          279.61,
          300.83,
          387.27,
          217.63,
          92.33,
          122.82,
          494.01,
          349.29,
          453.71,
          189.81,
          402.17,
          233.86,
          228.71,
          348.1,
          10.61,
          205.66,
          339.06,
          393.19,
          196.65,
          437.93,
          112.17,
          270.92,
          207.46,
          413.02,
          416.37
         ],
         "xaxis": "x",
         "y": [
          1981,
          780,
          493,
          1354,
          710,
          290,
          1026,
          664,
          943,
          1014,
          788,
          1562,
          1,
          1062,
          1107,
          1141,
          1660,
          663,
          992,
          661,
          1100,
          636,
          1241,
          1699,
          827,
          66,
          1232,
          452,
          632,
          1565,
          363,
          1012,
          113,
          1725,
          1339,
          1826,
          1549,
          1811,
          1133,
          1676
         ],
         "yaxis": "y"
        },
        {
         "customdata": [
          [
           "Mascara"
          ],
          [
           "Blush"
          ],
          [
           "Lipstick"
          ],
          [
           "Lipstick"
          ],
          [
           "Lipstick"
          ],
          [
           "Blush"
          ],
          [
           "Foundation"
          ],
          [
           "Mascara"
          ],
          [
           "Foundation"
          ],
          [
           "Blush"
          ],
          [
           "Foundation"
          ],
          [
           "Blush"
          ],
          [
           "Lipstick"
          ],
          [
           "Foundation"
          ],
          [
           "Foundation"
          ],
          [
           "Blush"
          ],
          [
           "Lipstick"
          ],
          [
           "Lipstick"
          ],
          [
           "Mascara"
          ],
          [
           "Lipstick"
          ],
          [
           "Lipstick"
          ],
          [
           "Mascara"
          ],
          [
           "Foundation"
          ],
          [
           "Blush"
          ],
          [
           "Mascara"
          ],
          [
           "Blush"
          ],
          [
           "Lipstick"
          ],
          [
           "Foundation"
          ],
          [
           "Blush"
          ],
          [
           "Foundation"
          ],
          [
           "Mascara"
          ],
          [
           "Foundation"
          ],
          [
           "Lipstick"
          ],
          [
           "Foundation"
          ],
          [
           "Foundation"
          ],
          [
           "Mascara"
          ],
          [
           "Lipstick"
          ],
          [
           "Foundation"
          ],
          [
           "Blush"
          ],
          [
           "Lipstick"
          ]
         ],
         "hovertemplate": "Category=Makeup<br>Price=%{x}<br>Sales=%{y}<br>ProductName=%{customdata[0]}<extra></extra>",
         "legendgroup": "Makeup",
         "marker": {
          "color": "#B6E880",
          "symbol": "circle"
         },
         "mode": "markers",
         "name": "Makeup",
         "orientation": "v",
         "showlegend": true,
         "type": "scatter",
         "x": [
          43.4,
          69.8,
          324,
          286.58,
          492,
          348.89,
          315.71,
          330.5,
          15.41,
          272.3,
          480.19,
          58.06,
          194.19,
          60.05,
          422.03,
          448.61,
          61.79,
          332.93,
          236.35,
          95.31,
          50.26,
          337,
          269.85,
          65.84,
          175.75,
          200.44,
          444.59,
          136.63,
          283.33,
          469.32,
          114.62,
          259.1,
          439.8,
          441.91,
          369.2,
          382.89,
          380.57,
          325.25,
          97.4,
          245.68
         ],
         "xaxis": "x",
         "y": [
          1979,
          988,
          466,
          1276,
          1517,
          1382,
          1651,
          1764,
          649,
          1716,
          702,
          593,
          396,
          1583,
          758,
          855,
          1528,
          276,
          498,
          137,
          920,
          1640,
          651,
          1249,
          1850,
          1195,
          1654,
          1661,
          661,
          462,
          1706,
          1830,
          128,
          472,
          1036,
          1441,
          131,
          1765,
          272,
          899
         ],
         "yaxis": "y"
        },
        {
         "customdata": [
          [
           "Denim Jacket"
          ],
          [
           "Rain Jacket"
          ],
          [
           "Denim Jacket"
          ],
          [
           "Denim Jacket"
          ],
          [
           "Denim Jacket"
          ],
          [
           "Leather Jacket"
          ],
          [
           "Winter Coat"
          ],
          [
           "Leather Jacket"
          ],
          [
           "Denim Jacket"
          ],
          [
           "Denim Jacket"
          ],
          [
           "Denim Jacket"
          ],
          [
           "Leather Jacket"
          ],
          [
           "Winter Coat"
          ],
          [
           "Winter Coat"
          ],
          [
           "Leather Jacket"
          ],
          [
           "Winter Coat"
          ],
          [
           "Leather Jacket"
          ],
          [
           "Denim Jacket"
          ],
          [
           "Rain Jacket"
          ],
          [
           "Rain Jacket"
          ],
          [
           "Rain Jacket"
          ],
          [
           "Denim Jacket"
          ],
          [
           "Denim Jacket"
          ],
          [
           "Leather Jacket"
          ],
          [
           "Winter Coat"
          ],
          [
           "Leather Jacket"
          ],
          [
           "Denim Jacket"
          ],
          [
           "Leather Jacket"
          ],
          [
           "Leather Jacket"
          ],
          [
           "Leather Jacket"
          ],
          [
           "Leather Jacket"
          ],
          [
           "Rain Jacket"
          ],
          [
           "Leather Jacket"
          ],
          [
           "Leather Jacket"
          ],
          [
           "Denim Jacket"
          ],
          [
           "Denim Jacket"
          ],
          [
           "Denim Jacket"
          ],
          [
           "Denim Jacket"
          ],
          [
           "Denim Jacket"
          ],
          [
           "Denim Jacket"
          ]
         ],
         "hovertemplate": "Category=Coats and jackets<br>Price=%{x}<br>Sales=%{y}<br>ProductName=%{customdata[0]}<extra></extra>",
         "legendgroup": "Coats and jackets",
         "marker": {
          "color": "#FF97FF",
          "symbol": "circle"
         },
         "mode": "markers",
         "name": "Coats and jackets",
         "orientation": "v",
         "showlegend": true,
         "type": "scatter",
         "x": [
          341.47,
          350.75,
          69.96,
          370.47,
          253.12,
          290.22,
          297.05,
          137.06,
          246.65,
          367.46,
          331.91,
          131.02,
          390.59,
          179.5,
          482.06,
          252.3,
          161.26,
          214.82,
          207.95,
          247.5,
          432.37,
          184.43,
          276.98,
          441,
          56.13,
          331.82,
          184.77,
          458.39,
          187.92,
          100.27,
          442.38,
          320.99,
          346.56,
          101.83,
          494.15,
          174.25,
          453.63,
          182.66,
          372.25,
          121.32
         ],
         "xaxis": "x",
         "y": [
          1342,
          431,
          1136,
          400,
          123,
          1794,
          562,
          48,
          1009,
          1592,
          1365,
          1205,
          249,
          671,
          895,
          1956,
          1201,
          1596,
          965,
          1089,
          1959,
          31,
          743,
          1049,
          226,
          1609,
          904,
          774,
          219,
          989,
          1132,
          246,
          1689,
          210,
          1249,
          189,
          278,
          930,
          1070,
          515
         ],
         "yaxis": "y"
        },
        {
         "customdata": [
          [
           "Road Bike"
          ],
          [
           "Mountain Bike"
          ],
          [
           "Hybrid Bike"
          ],
          [
           "Hybrid Bike"
          ],
          [
           "Road Bike"
          ],
          [
           "Mountain Bike"
          ],
          [
           "Electric Bike"
          ],
          [
           "Mountain Bike"
          ],
          [
           "Mountain Bike"
          ],
          [
           "Mountain Bike"
          ],
          [
           "Mountain Bike"
          ],
          [
           "Mountain Bike"
          ],
          [
           "Hybrid Bike"
          ],
          [
           "Road Bike"
          ],
          [
           "Hybrid Bike"
          ],
          [
           "Hybrid Bike"
          ],
          [
           "Electric Bike"
          ],
          [
           "Mountain Bike"
          ],
          [
           "Mountain Bike"
          ],
          [
           "Road Bike"
          ],
          [
           "Mountain Bike"
          ],
          [
           "Mountain Bike"
          ],
          [
           "Mountain Bike"
          ],
          [
           "Mountain Bike"
          ],
          [
           "Road Bike"
          ],
          [
           "Road Bike"
          ],
          [
           "Mountain Bike"
          ],
          [
           "Mountain Bike"
          ],
          [
           "Mountain Bike"
          ],
          [
           "Road Bike"
          ],
          [
           "Mountain Bike"
          ],
          [
           "Electric Bike"
          ],
          [
           "Mountain Bike"
          ],
          [
           "Electric Bike"
          ],
          [
           "Electric Bike"
          ],
          [
           "Mountain Bike"
          ],
          [
           "Hybrid Bike"
          ],
          [
           "Hybrid Bike"
          ],
          [
           "Electric Bike"
          ],
          [
           "Road Bike"
          ]
         ],
         "hovertemplate": "Category=Bicycles<br>Price=%{x}<br>Sales=%{y}<br>ProductName=%{customdata[0]}<extra></extra>",
         "legendgroup": "Bicycles",
         "marker": {
          "color": "#FECB52",
          "symbol": "circle"
         },
         "mode": "markers",
         "name": "Bicycles",
         "orientation": "v",
         "showlegend": true,
         "type": "scatter",
         "x": [
          186.59,
          396.34,
          92.85,
          212.25,
          483.46,
          421.34,
          321.19,
          16.08,
          33.59,
          420.69,
          265.51,
          26,
          220.91,
          90.76,
          261.06,
          492.08,
          306,
          315.03,
          12.7,
          236.8,
          410.17,
          24.54,
          203.34,
          161.59,
          35.06,
          335.99,
          44.79,
          326.76,
          310.16,
          416.22,
          205.69,
          329.62,
          432.25,
          459.15,
          202.56,
          446.15,
          162.5,
          347.25,
          58.66,
          380.54
         ],
         "xaxis": "x",
         "y": [
          1677,
          1274,
          839,
          855,
          898,
          1659,
          675,
          333,
          694,
          493,
          1952,
          1031,
          1896,
          178,
          1185,
          1745,
          92,
          1712,
          891,
          1845,
          1958,
          126,
          1132,
          1176,
          849,
          1774,
          958,
          562,
          1537,
          1856,
          920,
          1452,
          194,
          1848,
          6,
          1467,
          1227,
          74,
          1586,
          124
         ],
         "yaxis": "y"
        },
        {
         "customdata": [
          [
           "Sketchbook"
          ],
          [
           "Brushes"
          ],
          [
           "Paint Set"
          ],
          [
           "Brushes"
          ],
          [
           "Brushes"
          ],
          [
           "Brushes"
          ],
          [
           "Canvas"
          ],
          [
           "Paint Set"
          ],
          [
           "Paint Set"
          ],
          [
           "Canvas"
          ],
          [
           "Canvas"
          ],
          [
           "Canvas"
          ],
          [
           "Paint Set"
          ],
          [
           "Brushes"
          ],
          [
           "Sketchbook"
          ],
          [
           "Canvas"
          ],
          [
           "Canvas"
          ],
          [
           "Paint Set"
          ],
          [
           "Brushes"
          ],
          [
           "Brushes"
          ],
          [
           "Sketchbook"
          ],
          [
           "Canvas"
          ],
          [
           "Sketchbook"
          ],
          [
           "Paint Set"
          ],
          [
           "Sketchbook"
          ],
          [
           "Sketchbook"
          ],
          [
           "Brushes"
          ],
          [
           "Brushes"
          ],
          [
           "Paint Set"
          ],
          [
           "Canvas"
          ],
          [
           "Sketchbook"
          ],
          [
           "Paint Set"
          ],
          [
           "Brushes"
          ],
          [
           "Canvas"
          ],
          [
           "Canvas"
          ],
          [
           "Canvas"
          ],
          [
           "Paint Set"
          ],
          [
           "Paint Set"
          ],
          [
           "Brushes"
          ],
          [
           "Canvas"
          ]
         ],
         "hovertemplate": "Category=Art and crafting materials<br>Price=%{x}<br>Sales=%{y}<br>ProductName=%{customdata[0]}<extra></extra>",
         "legendgroup": "Art and crafting materials",
         "marker": {
          "color": "#636efa",
          "symbol": "circle"
         },
         "mode": "markers",
         "name": "Art and crafting materials",
         "orientation": "v",
         "showlegend": true,
         "type": "scatter",
         "x": [
          193.65,
          84.28,
          275.44,
          96.81,
          90.97,
          441.35,
          29.34,
          303.57,
          343.57,
          433.14,
          251.24,
          405.23,
          425.01,
          369.67,
          75.87,
          269,
          154.36,
          379.18,
          53.42,
          319.72,
          156.79,
          81.15,
          84.64,
          323.83,
          102.04,
          359.84,
          87.73,
          60.35,
          40.72,
          59.93,
          447.02,
          66.85,
          12.14,
          73.5,
          499.74,
          190.67,
          213.74,
          379.47,
          164.66,
          51.82
         ],
         "xaxis": "x",
         "y": [
          76,
          1188,
          1377,
          358,
          434,
          998,
          63,
          1781,
          619,
          406,
          1710,
          940,
          1517,
          1858,
          1687,
          793,
          0,
          546,
          1378,
          82,
          1679,
          294,
          1830,
          1336,
          1905,
          775,
          1739,
          1749,
          1855,
          1475,
          1995,
          1752,
          928,
          1875,
          1519,
          209,
          1845,
          1827,
          1461,
          53
         ],
         "yaxis": "y"
        },
        {
         "customdata": [
          [
           "Coffee Mug"
          ],
          [
           "Water Bottle"
          ],
          [
           "Tea Cup"
          ],
          [
           "Water Bottle"
          ],
          [
           "Tea Cup"
          ],
          [
           "Wine Glass"
          ],
          [
           "Water Bottle"
          ],
          [
           "Coffee Mug"
          ],
          [
           "Wine Glass"
          ],
          [
           "Wine Glass"
          ],
          [
           "Tea Cup"
          ],
          [
           "Water Bottle"
          ],
          [
           "Wine Glass"
          ],
          [
           "Tea Cup"
          ],
          [
           "Water Bottle"
          ],
          [
           "Wine Glass"
          ],
          [
           "Water Bottle"
          ],
          [
           "Tea Cup"
          ],
          [
           "Tea Cup"
          ],
          [
           "Wine Glass"
          ],
          [
           "Water Bottle"
          ],
          [
           "Coffee Mug"
          ],
          [
           "Water Bottle"
          ],
          [
           "Water Bottle"
          ],
          [
           "Wine Glass"
          ],
          [
           "Water Bottle"
          ],
          [
           "Water Bottle"
          ],
          [
           "Wine Glass"
          ],
          [
           "Water Bottle"
          ],
          [
           "Coffee Mug"
          ],
          [
           "Coffee Mug"
          ],
          [
           "Tea Cup"
          ],
          [
           "Wine Glass"
          ],
          [
           "Water Bottle"
          ],
          [
           "Tea Cup"
          ],
          [
           "Wine Glass"
          ],
          [
           "Coffee Mug"
          ],
          [
           "Water Bottle"
          ],
          [
           "Tea Cup"
          ],
          [
           "Wine Glass"
          ]
         ],
         "hovertemplate": "Category=Drinkware<br>Price=%{x}<br>Sales=%{y}<br>ProductName=%{customdata[0]}<extra></extra>",
         "legendgroup": "Drinkware",
         "marker": {
          "color": "#EF553B",
          "symbol": "circle"
         },
         "mode": "markers",
         "name": "Drinkware",
         "orientation": "v",
         "showlegend": true,
         "type": "scatter",
         "x": [
          141.12,
          357.6,
          301.61,
          383.53,
          71.52,
          18.6,
          289.62,
          278.01,
          158.43,
          39.26,
          495.75,
          105.96,
          491.01,
          175.3,
          82.18,
          183.59,
          277.82,
          449.86,
          332.97,
          490.76,
          16.38,
          480.47,
          361.98,
          305.5,
          32.57,
          220.06,
          204.94,
          202.3,
          496.3,
          103.88,
          122.06,
          223.94,
          448.11,
          445.55,
          428.96,
          407.33,
          237.01,
          270.69,
          120.8,
          103.65
         ],
         "xaxis": "x",
         "y": [
          1815,
          613,
          1211,
          1627,
          1444,
          755,
          622,
          1068,
          411,
          630,
          1552,
          1324,
          1072,
          685,
          421,
          597,
          1116,
          1546,
          695,
          310,
          124,
          361,
          1877,
          1179,
          943,
          739,
          326,
          717,
          960,
          1738,
          1603,
          1132,
          131,
          1391,
          270,
          1858,
          253,
          1848,
          1714,
          1192
         ],
         "yaxis": "y"
        },
        {
         "customdata": [
          [
           "Eau de Toilette"
          ],
          [
           "Eau de Toilette"
          ],
          [
           "Body Spray"
          ],
          [
           "Perfume Oil"
          ],
          [
           "Eau de Parfum"
          ],
          [
           "Eau de Toilette"
          ],
          [
           "Eau de Parfum"
          ],
          [
           "Eau de Toilette"
          ],
          [
           "Eau de Parfum"
          ],
          [
           "Perfume Oil"
          ],
          [
           "Eau de Toilette"
          ],
          [
           "Body Spray"
          ],
          [
           "Eau de Toilette"
          ],
          [
           "Perfume Oil"
          ],
          [
           "Eau de Toilette"
          ],
          [
           "Perfume Oil"
          ],
          [
           "Eau de Parfum"
          ],
          [
           "Eau de Toilette"
          ],
          [
           "Eau de Toilette"
          ],
          [
           "Perfume Oil"
          ],
          [
           "Eau de Parfum"
          ],
          [
           "Eau de Parfum"
          ],
          [
           "Perfume Oil"
          ],
          [
           "Body Spray"
          ],
          [
           "Eau de Toilette"
          ],
          [
           "Perfume Oil"
          ],
          [
           "Eau de Toilette"
          ],
          [
           "Eau de Toilette"
          ],
          [
           "Eau de Parfum"
          ],
          [
           "Eau de Toilette"
          ],
          [
           "Body Spray"
          ],
          [
           "Body Spray"
          ],
          [
           "Eau de Parfum"
          ],
          [
           "Eau de Parfum"
          ],
          [
           "Eau de Toilette"
          ],
          [
           "Body Spray"
          ],
          [
           "Eau de Toilette"
          ],
          [
           "Eau de Parfum"
          ],
          [
           "Body Spray"
          ],
          [
           "Body Spray"
          ]
         ],
         "hovertemplate": "Category=Perfume and cologne<br>Price=%{x}<br>Sales=%{y}<br>ProductName=%{customdata[0]}<extra></extra>",
         "legendgroup": "Perfume and cologne",
         "marker": {
          "color": "#00cc96",
          "symbol": "circle"
         },
         "mode": "markers",
         "name": "Perfume and cologne",
         "orientation": "v",
         "showlegend": true,
         "type": "scatter",
         "x": [
          158.44,
          208.82,
          213.09,
          30.79,
          284.44,
          351.63,
          432.23,
          335.92,
          474.07,
          198.33,
          423.21,
          220.5,
          280.83,
          316.26,
          316.19,
          101.59,
          369.02,
          172.9,
          369.41,
          145.4,
          60.53,
          204.83,
          279.31,
          476.2,
          324.4,
          295.94,
          230.05,
          316.35,
          275.58,
          488.73,
          51.31,
          14.44,
          54.78,
          115.06,
          302.58,
          413.26,
          152.83,
          448.72,
          322.6,
          41.36
         ],
         "xaxis": "x",
         "y": [
          1208,
          752,
          520,
          152,
          488,
          406,
          1164,
          1903,
          863,
          825,
          888,
          1263,
          1683,
          839,
          499,
          1424,
          49,
          1164,
          759,
          1692,
          1497,
          207,
          218,
          1506,
          480,
          1088,
          890,
          1091,
          617,
          1442,
          378,
          169,
          1070,
          945,
          1361,
          832,
          294,
          444,
          1642,
          1228
         ],
         "yaxis": "y"
        },
        {
         "customdata": [
          [
           "White Wine"
          ],
          [
           "Rose Wine"
          ],
          [
           "Red Wine"
          ],
          [
           "Red Wine"
          ],
          [
           "Rose Wine"
          ],
          [
           "White Wine"
          ],
          [
           "White Wine"
          ],
          [
           "Red Wine"
          ],
          [
           "Rose Wine"
          ],
          [
           "Sparkling Wine"
          ],
          [
           "White Wine"
          ],
          [
           "Red Wine"
          ],
          [
           "Rose Wine"
          ],
          [
           "Rose Wine"
          ],
          [
           "White Wine"
          ],
          [
           "Red Wine"
          ],
          [
           "White Wine"
          ],
          [
           "Red Wine"
          ],
          [
           "Sparkling Wine"
          ],
          [
           "Rose Wine"
          ],
          [
           "Rose Wine"
          ],
          [
           "White Wine"
          ],
          [
           "Sparkling Wine"
          ],
          [
           "Sparkling Wine"
          ],
          [
           "Sparkling Wine"
          ],
          [
           "White Wine"
          ],
          [
           "Sparkling Wine"
          ],
          [
           "Rose Wine"
          ],
          [
           "Rose Wine"
          ],
          [
           "Rose Wine"
          ],
          [
           "White Wine"
          ],
          [
           "Sparkling Wine"
          ],
          [
           "Sparkling Wine"
          ],
          [
           "Red Wine"
          ],
          [
           "Red Wine"
          ],
          [
           "Rose Wine"
          ],
          [
           "Sparkling Wine"
          ],
          [
           "Rose Wine"
          ],
          [
           "White Wine"
          ],
          [
           "Red Wine"
          ]
         ],
         "hovertemplate": "Category=Wine<br>Price=%{x}<br>Sales=%{y}<br>ProductName=%{customdata[0]}<extra></extra>",
         "legendgroup": "Wine",
         "marker": {
          "color": "#ab63fa",
          "symbol": "circle"
         },
         "mode": "markers",
         "name": "Wine",
         "orientation": "v",
         "showlegend": true,
         "type": "scatter",
         "x": [
          256.29,
          359.35,
          100.97,
          161.81,
          47.55,
          193.02,
          281.15,
          178.94,
          97.83,
          432.86,
          91.22,
          113.83,
          377.2,
          351.25,
          291.95,
          175.23,
          258.82,
          209.98,
          351.66,
          149.9,
          16.55,
          42.82,
          277.34,
          471.85,
          43.67,
          116.66,
          42.57,
          341.96,
          93.24,
          302.61,
          160.38,
          303.89,
          47.72,
          143.25,
          269.07,
          139.67,
          53.31,
          139.36,
          336.76,
          223.85
         ],
         "xaxis": "x",
         "y": [
          1230,
          1364,
          802,
          276,
          1571,
          828,
          1449,
          1262,
          1424,
          288,
          114,
          146,
          1312,
          1522,
          244,
          304,
          1560,
          24,
          498,
          1960,
          383,
          291,
          334,
          205,
          95,
          1527,
          1452,
          43,
          400,
          1493,
          1082,
          394,
          1341,
          1245,
          922,
          1814,
          768,
          827,
          1767,
          1791
         ],
         "yaxis": "y"
        },
        {
         "customdata": [
          [
           "Knee-High Socks"
          ],
          [
           "Ankle Socks"
          ],
          [
           "Wool Socks"
          ],
          [
           "Ankle Socks"
          ],
          [
           "Ankle Socks"
          ],
          [
           "Knee-High Socks"
          ],
          [
           "Knee-High Socks"
          ],
          [
           "Ankle Socks"
          ],
          [
           "Knee-High Socks"
          ],
          [
           "Cotton Socks"
          ],
          [
           "Ankle Socks"
          ],
          [
           "Wool Socks"
          ],
          [
           "Cotton Socks"
          ],
          [
           "Cotton Socks"
          ],
          [
           "Wool Socks"
          ],
          [
           "Knee-High Socks"
          ],
          [
           "Ankle Socks"
          ],
          [
           "Knee-High Socks"
          ],
          [
           "Ankle Socks"
          ],
          [
           "Wool Socks"
          ],
          [
           "Cotton Socks"
          ],
          [
           "Ankle Socks"
          ],
          [
           "Ankle Socks"
          ],
          [
           "Ankle Socks"
          ],
          [
           "Knee-High Socks"
          ],
          [
           "Cotton Socks"
          ],
          [
           "Knee-High Socks"
          ],
          [
           "Ankle Socks"
          ],
          [
           "Wool Socks"
          ],
          [
           "Wool Socks"
          ],
          [
           "Ankle Socks"
          ],
          [
           "Knee-High Socks"
          ],
          [
           "Wool Socks"
          ],
          [
           "Wool Socks"
          ],
          [
           "Wool Socks"
          ],
          [
           "Knee-High Socks"
          ],
          [
           "Ankle Socks"
          ],
          [
           "Wool Socks"
          ],
          [
           "Knee-High Socks"
          ],
          [
           "Cotton Socks"
          ]
         ],
         "hovertemplate": "Category=Socks<br>Price=%{x}<br>Sales=%{y}<br>ProductName=%{customdata[0]}<extra></extra>",
         "legendgroup": "Socks",
         "marker": {
          "color": "#FFA15A",
          "symbol": "circle"
         },
         "mode": "markers",
         "name": "Socks",
         "orientation": "v",
         "showlegend": true,
         "type": "scatter",
         "visible": "legendonly",
         "x": [
          415.06,
          289.87,
          394.03,
          384.53,
          12.62,
          495.43,
          289.05,
          113.7,
          470.57,
          192.83,
          487.38,
          97.88,
          19.38,
          345.99,
          418.56,
          25.55,
          113.5,
          443.45,
          486.96,
          487.92,
          44.81,
          82.17,
          401.16,
          189.14,
          81.99,
          416.36,
          158.78,
          492.27,
          180.06,
          494.83,
          284.19,
          213.91,
          261.32,
          334.22,
          209.21,
          400.89,
          175.45,
          436.63,
          248.2,
          395.05
         ],
         "xaxis": "x",
         "y": [
          572,
          458,
          597,
          206,
          338,
          938,
          539,
          1136,
          1178,
          1448,
          838,
          92,
          779,
          972,
          1834,
          1167,
          1204,
          464,
          275,
          1938,
          727,
          235,
          1083,
          1817,
          1494,
          191,
          1168,
          776,
          1526,
          1743,
          1462,
          1252,
          1095,
          1757,
          5,
          1822,
          1619,
          1973,
          1799,
          1295
         ],
         "yaxis": "y"
        },
        {
         "customdata": [
          [
           "Silk Sheets"
          ],
          [
           "Silk Sheets"
          ],
          [
           "Linen Sheets"
          ],
          [
           "Bamboo Sheets"
          ],
          [
           "Bamboo Sheets"
          ],
          [
           "Linen Sheets"
          ],
          [
           "Cotton Sheets"
          ],
          [
           "Linen Sheets"
          ],
          [
           "Linen Sheets"
          ],
          [
           "Bamboo Sheets"
          ],
          [
           "Silk Sheets"
          ],
          [
           "Linen Sheets"
          ],
          [
           "Bamboo Sheets"
          ],
          [
           "Linen Sheets"
          ],
          [
           "Linen Sheets"
          ],
          [
           "Silk Sheets"
          ],
          [
           "Bamboo Sheets"
          ],
          [
           "Linen Sheets"
          ],
          [
           "Cotton Sheets"
          ],
          [
           "Silk Sheets"
          ],
          [
           "Cotton Sheets"
          ],
          [
           "Silk Sheets"
          ],
          [
           "Linen Sheets"
          ],
          [
           "Silk Sheets"
          ],
          [
           "Silk Sheets"
          ],
          [
           "Silk Sheets"
          ],
          [
           "Cotton Sheets"
          ],
          [
           "Linen Sheets"
          ],
          [
           "Silk Sheets"
          ],
          [
           "Cotton Sheets"
          ],
          [
           "Cotton Sheets"
          ],
          [
           "Cotton Sheets"
          ],
          [
           "Bamboo Sheets"
          ],
          [
           "Linen Sheets"
          ],
          [
           "Linen Sheets"
          ],
          [
           "Linen Sheets"
          ],
          [
           "Silk Sheets"
          ],
          [
           "Bamboo Sheets"
          ],
          [
           "Linen Sheets"
          ],
          [
           "Silk Sheets"
          ]
         ],
         "hovertemplate": "Category=Bedsheets<br>Price=%{x}<br>Sales=%{y}<br>ProductName=%{customdata[0]}<extra></extra>",
         "legendgroup": "Bedsheets",
         "marker": {
          "color": "#19d3f3",
          "symbol": "circle"
         },
         "mode": "markers",
         "name": "Bedsheets",
         "orientation": "v",
         "showlegend": true,
         "type": "scatter",
         "x": [
          220.69,
          243.09,
          456.2,
          464.91,
          34.31,
          402.71,
          287.23,
          267.12,
          153.95,
          165.6,
          457.34,
          223.47,
          418.94,
          89.77,
          130.86,
          96.82,
          433.83,
          156.44,
          432.94,
          156.97,
          32.17,
          266.34,
          134.43,
          115.2,
          433.1,
          398.85,
          349.09,
          347.49,
          404.8,
          422.05,
          234.97,
          216.17,
          313.43,
          261.03,
          207.57,
          481.51,
          99.07,
          263.96,
          479.48,
          165.13
         ],
         "xaxis": "x",
         "y": [
          1756,
          1490,
          925,
          1743,
          1291,
          272,
          1956,
          816,
          1029,
          1603,
          1128,
          795,
          1957,
          1534,
          1983,
          270,
          1494,
          1922,
          1788,
          888,
          660,
          1203,
          55,
          1723,
          1991,
          542,
          1856,
          1231,
          848,
          1845,
          981,
          709,
          383,
          1938,
          144,
          397,
          428,
          1806,
          370,
          881
         ],
         "yaxis": "y"
        },
        {
         "customdata": [
          [
           "Framed Poster"
          ],
          [
           "Canvas Print"
          ],
          [
           "Canvas Print"
          ],
          [
           "Art Print"
          ],
          [
           "Framed Poster"
          ],
          [
           "Digital Art"
          ],
          [
           "Digital Art"
          ],
          [
           "Digital Art"
          ],
          [
           "Canvas Print"
          ],
          [
           "Digital Art"
          ],
          [
           "Canvas Print"
          ],
          [
           "Digital Art"
          ],
          [
           "Art Print"
          ],
          [
           "Digital Art"
          ],
          [
           "Digital Art"
          ],
          [
           "Art Print"
          ],
          [
           "Framed Poster"
          ],
          [
           "Framed Poster"
          ],
          [
           "Canvas Print"
          ],
          [
           "Canvas Print"
          ],
          [
           "Art Print"
          ],
          [
           "Canvas Print"
          ],
          [
           "Canvas Print"
          ],
          [
           "Art Print"
          ],
          [
           "Digital Art"
          ],
          [
           "Canvas Print"
          ],
          [
           "Canvas Print"
          ],
          [
           "Digital Art"
          ],
          [
           "Digital Art"
          ],
          [
           "Art Print"
          ],
          [
           "Art Print"
          ],
          [
           "Framed Poster"
          ],
          [
           "Canvas Print"
          ],
          [
           "Art Print"
          ],
          [
           "Framed Poster"
          ],
          [
           "Framed Poster"
          ],
          [
           "Canvas Print"
          ],
          [
           "Art Print"
          ],
          [
           "Framed Poster"
          ],
          [
           "Framed Poster"
          ]
         ],
         "hovertemplate": "Category=Posters and artwork<br>Price=%{x}<br>Sales=%{y}<br>ProductName=%{customdata[0]}<extra></extra>",
         "legendgroup": "Posters and artwork",
         "marker": {
          "color": "#FF6692",
          "symbol": "circle"
         },
         "mode": "markers",
         "name": "Posters and artwork",
         "orientation": "v",
         "showlegend": true,
         "type": "scatter",
         "x": [
          219.94,
          472.16,
          132.26,
          29.24,
          113.33,
          232.66,
          469.88,
          214.42,
          59.12,
          125.15,
          463.97,
          24.04,
          204.87,
          193.61,
          119.92,
          34.77,
          436.61,
          290.28,
          179.81,
          202.04,
          448.89,
          32.19,
          24.71,
          383.22,
          211.48,
          21.53,
          266.56,
          113.06,
          482.27,
          12.65,
          168.67,
          306.94,
          301.13,
          23.65,
          483,
          44,
          80.21,
          341.42,
          334.3,
          420.26
         ],
         "xaxis": "x",
         "y": [
          452,
          287,
          1029,
          1411,
          149,
          1553,
          1070,
          717,
          1761,
          1471,
          1778,
          297,
          71,
          1578,
          719,
          969,
          1965,
          1683,
          949,
          1891,
          1311,
          988,
          477,
          287,
          143,
          3,
          991,
          1319,
          181,
          777,
          1269,
          161,
          1887,
          1431,
          870,
          313,
          439,
          122,
          395,
          1424
         ],
         "yaxis": "y"
        },
        {
         "customdata": [
          [
           "Soy Candle"
          ],
          [
           "Beeswax Candle"
          ],
          [
           "Soy Candle"
          ],
          [
           "Scented Candle"
          ],
          [
           "Scented Candle"
          ],
          [
           "Beeswax Candle"
          ],
          [
           "Scented Candle"
          ],
          [
           "Beeswax Candle"
          ],
          [
           "Pillar Candle"
          ],
          [
           "Scented Candle"
          ],
          [
           "Beeswax Candle"
          ],
          [
           "Scented Candle"
          ],
          [
           "Beeswax Candle"
          ],
          [
           "Pillar Candle"
          ],
          [
           "Soy Candle"
          ],
          [
           "Soy Candle"
          ],
          [
           "Scented Candle"
          ],
          [
           "Beeswax Candle"
          ],
          [
           "Soy Candle"
          ],
          [
           "Beeswax Candle"
          ],
          [
           "Soy Candle"
          ],
          [
           "Soy Candle"
          ],
          [
           "Soy Candle"
          ],
          [
           "Pillar Candle"
          ],
          [
           "Soy Candle"
          ],
          [
           "Beeswax Candle"
          ],
          [
           "Scented Candle"
          ],
          [
           "Scented Candle"
          ],
          [
           "Soy Candle"
          ],
          [
           "Scented Candle"
          ],
          [
           "Scented Candle"
          ],
          [
           "Beeswax Candle"
          ],
          [
           "Scented Candle"
          ],
          [
           "Scented Candle"
          ],
          [
           "Scented Candle"
          ],
          [
           "Beeswax Candle"
          ],
          [
           "Scented Candle"
          ],
          [
           "Beeswax Candle"
          ],
          [
           "Soy Candle"
          ],
          [
           "Pillar Candle"
          ]
         ],
         "hovertemplate": "Category=Candles<br>Price=%{x}<br>Sales=%{y}<br>ProductName=%{customdata[0]}<extra></extra>",
         "legendgroup": "Candles",
         "marker": {
          "color": "#B6E880",
          "symbol": "circle"
         },
         "mode": "markers",
         "name": "Candles",
         "orientation": "v",
         "showlegend": true,
         "type": "scatter",
         "x": [
          460.01,
          156.4,
          16.32,
          281.02,
          201.05,
          270.62,
          159.81,
          188.69,
          379.2,
          340.11,
          106.16,
          275.27,
          42.68,
          205.59,
          447.88,
          175.28,
          418.27,
          232.55,
          409.73,
          231.35,
          310.85,
          367.94,
          435.4,
          280.66,
          269.69,
          84.21,
          415.93,
          105.65,
          363.81,
          15.14,
          16.32,
          196.67,
          419.33,
          43.37,
          212.93,
          244.38,
          266.47,
          80.05,
          260.74,
          13.59
         ],
         "xaxis": "x",
         "y": [
          615,
          475,
          290,
          507,
          565,
          1918,
          28,
          211,
          684,
          876,
          1942,
          779,
          426,
          327,
          1689,
          1912,
          1503,
          746,
          347,
          1240,
          1110,
          390,
          643,
          1788,
          507,
          941,
          1553,
          1113,
          606,
          1446,
          769,
          1771,
          880,
          502,
          219,
          196,
          924,
          1419,
          339,
          8
         ],
         "yaxis": "y"
        },
        {
         "customdata": [
          [
           "Body Lotion"
          ],
          [
           "Body Scrub"
          ],
          [
           "Body Scrub"
          ],
          [
           "Bath Salts"
          ],
          [
           "Body Scrub"
          ],
          [
           "Body Scrub"
          ],
          [
           "Body Scrub"
          ],
          [
           "Body Lotion"
          ],
          [
           "Bath Salts"
          ],
          [
           "Body Lotion"
          ],
          [
           "Bath Salts"
          ],
          [
           "Bath Salts"
          ],
          [
           "Bath Salts"
          ],
          [
           "Body Scrub"
          ],
          [
           "Shower Gel"
          ],
          [
           "Bath Salts"
          ],
          [
           "Shower Gel"
          ],
          [
           "Body Scrub"
          ],
          [
           "Shower Gel"
          ],
          [
           "Body Scrub"
          ],
          [
           "Body Lotion"
          ],
          [
           "Body Scrub"
          ],
          [
           "Body Scrub"
          ],
          [
           "Bath Salts"
          ],
          [
           "Body Lotion"
          ],
          [
           "Bath Salts"
          ],
          [
           "Shower Gel"
          ],
          [
           "Body Scrub"
          ],
          [
           "Shower Gel"
          ],
          [
           "Bath Salts"
          ],
          [
           "Body Lotion"
          ],
          [
           "Body Lotion"
          ],
          [
           "Body Scrub"
          ],
          [
           "Body Scrub"
          ],
          [
           "Bath Salts"
          ],
          [
           "Shower Gel"
          ],
          [
           "Body Lotion"
          ],
          [
           "Body Scrub"
          ],
          [
           "Body Lotion"
          ],
          [
           "Bath Salts"
          ]
         ],
         "hovertemplate": "Category=Bath and body<br>Price=%{x}<br>Sales=%{y}<br>ProductName=%{customdata[0]}<extra></extra>",
         "legendgroup": "Bath and body",
         "marker": {
          "color": "#FF97FF",
          "symbol": "circle"
         },
         "mode": "markers",
         "name": "Bath and body",
         "orientation": "v",
         "showlegend": true,
         "type": "scatter",
         "x": [
          480.3,
          267.2,
          492.18,
          348.46,
          47.61,
          329.96,
          481.95,
          400.78,
          224.16,
          438.41,
          18.17,
          265.72,
          213.75,
          320.07,
          222.69,
          247.06,
          241.15,
          134.72,
          212.08,
          138.05,
          213.6,
          73.01,
          209.61,
          298.17,
          457.39,
          198.52,
          49.97,
          17.16,
          401.34,
          334.66,
          112.12,
          135.53,
          184.72,
          112.75,
          84.17,
          367.36,
          111.22,
          407.92,
          99.58,
          131.78
         ],
         "xaxis": "x",
         "y": [
          1448,
          1735,
          419,
          1578,
          110,
          322,
          147,
          1854,
          998,
          562,
          698,
          1634,
          309,
          1462,
          626,
          1878,
          1906,
          648,
          1200,
          1560,
          1677,
          1983,
          428,
          1048,
          1771,
          1093,
          755,
          1191,
          1843,
          771,
          767,
          375,
          1781,
          178,
          492,
          697,
          955,
          1570,
          1013,
          972
         ],
         "yaxis": "y"
        },
        {
         "customdata": [
          [
           "Dutch Oven"
          ],
          [
           "Frying Pan"
          ],
          [
           "Dutch Oven"
          ],
          [
           "Dutch Oven"
          ],
          [
           "Dutch Oven"
          ],
          [
           "Dutch Oven"
          ],
          [
           "Frying Pan"
          ],
          [
           "Grill Pan"
          ],
          [
           "Saucepan"
          ],
          [
           "Frying Pan"
          ],
          [
           "Dutch Oven"
          ],
          [
           "Saucepan"
          ],
          [
           "Saucepan"
          ],
          [
           "Frying Pan"
          ],
          [
           "Frying Pan"
          ],
          [
           "Saucepan"
          ],
          [
           "Frying Pan"
          ],
          [
           "Frying Pan"
          ],
          [
           "Dutch Oven"
          ],
          [
           "Frying Pan"
          ],
          [
           "Frying Pan"
          ],
          [
           "Dutch Oven"
          ],
          [
           "Frying Pan"
          ],
          [
           "Grill Pan"
          ],
          [
           "Frying Pan"
          ],
          [
           "Saucepan"
          ],
          [
           "Saucepan"
          ],
          [
           "Frying Pan"
          ],
          [
           "Frying Pan"
          ],
          [
           "Frying Pan"
          ],
          [
           "Saucepan"
          ],
          [
           "Grill Pan"
          ],
          [
           "Dutch Oven"
          ],
          [
           "Grill Pan"
          ],
          [
           "Grill Pan"
          ],
          [
           "Saucepan"
          ],
          [
           "Dutch Oven"
          ],
          [
           "Grill Pan"
          ],
          [
           "Dutch Oven"
          ],
          [
           "Dutch Oven"
          ]
         ],
         "hovertemplate": "Category=Cookware<br>Price=%{x}<br>Sales=%{y}<br>ProductName=%{customdata[0]}<extra></extra>",
         "legendgroup": "Cookware",
         "marker": {
          "color": "#FECB52",
          "symbol": "circle"
         },
         "mode": "markers",
         "name": "Cookware",
         "orientation": "v",
         "showlegend": true,
         "type": "scatter",
         "x": [
          394.69,
          172.49,
          96.79,
          407.85,
          50.16,
          361.56,
          278.97,
          466.92,
          187.86,
          33.13,
          433.11,
          488.13,
          213.77,
          105.9,
          32.57,
          461.14,
          10.11,
          364.16,
          193.66,
          62.93,
          177.21,
          339.08,
          493.58,
          432.83,
          125.03,
          476.18,
          152.77,
          421.6,
          458.75,
          103.16,
          431.23,
          468.05,
          256.82,
          348.71,
          211.49,
          29.51,
          352.8,
          490.82,
          320.3,
          406.05
         ],
         "xaxis": "x",
         "y": [
          133,
          893,
          1894,
          1644,
          236,
          1146,
          1762,
          1391,
          1525,
          1614,
          1245,
          1105,
          596,
          1296,
          998,
          1449,
          250,
          124,
          227,
          12,
          1102,
          70,
          493,
          1454,
          1957,
          981,
          1436,
          1317,
          1505,
          178,
          847,
          1963,
          1039,
          1861,
          210,
          793,
          1590,
          78,
          1337,
          517
         ],
         "yaxis": "y"
        },
        {
         "customdata": [
          [
           "Nail File"
          ],
          [
           "Nail Clippers"
          ],
          [
           "Nail File"
          ],
          [
           "Nail Polish"
          ],
          [
           "Nail Polish"
          ],
          [
           "Nail Polish"
          ],
          [
           "Nail Clippers"
          ],
          [
           "Nail Polish"
          ],
          [
           "Nail Polish"
          ],
          [
           "Cuticle Oil"
          ],
          [
           "Cuticle Oil"
          ],
          [
           "Nail Clippers"
          ],
          [
           "Nail Polish"
          ],
          [
           "Nail Polish"
          ],
          [
           "Nail Polish"
          ],
          [
           "Nail Clippers"
          ],
          [
           "Nail Polish"
          ],
          [
           "Nail File"
          ],
          [
           "Nail File"
          ],
          [
           "Nail Polish"
          ],
          [
           "Nail Clippers"
          ],
          [
           "Nail File"
          ],
          [
           "Nail Polish"
          ],
          [
           "Nail Clippers"
          ],
          [
           "Nail Polish"
          ],
          [
           "Nail File"
          ],
          [
           "Nail Clippers"
          ],
          [
           "Cuticle Oil"
          ],
          [
           "Nail Polish"
          ],
          [
           "Nail Clippers"
          ],
          [
           "Cuticle Oil"
          ],
          [
           "Nail Clippers"
          ],
          [
           "Nail Clippers"
          ],
          [
           "Nail File"
          ],
          [
           "Nail Clippers"
          ],
          [
           "Cuticle Oil"
          ],
          [
           "Nail File"
          ],
          [
           "Nail Clippers"
          ],
          [
           "Nail File"
          ],
          [
           "Nail File"
          ]
         ],
         "hovertemplate": "Category=Nail care<br>Price=%{x}<br>Sales=%{y}<br>ProductName=%{customdata[0]}<extra></extra>",
         "legendgroup": "Nail care",
         "marker": {
          "color": "#636efa",
          "symbol": "circle"
         },
         "mode": "markers",
         "name": "Nail care",
         "orientation": "v",
         "showlegend": true,
         "type": "scatter",
         "x": [
          82.77,
          467.15,
          240.94,
          345.1,
          186.59,
          53.98,
          463.77,
          227.45,
          303.69,
          371.58,
          52.68,
          249.63,
          162.97,
          304.68,
          206.92,
          245.34,
          376.82,
          404.75,
          228.9,
          335.02,
          387.18,
          253.65,
          202.88,
          184.49,
          272.32,
          336.79,
          55.43,
          246.31,
          485.21,
          170.91,
          76.82,
          258.28,
          462.1,
          174.8,
          169.06,
          393.67,
          257.41,
          218.23,
          59.28,
          172.89
         ],
         "xaxis": "x",
         "y": [
          1705,
          1744,
          12,
          73,
          365,
          1341,
          1738,
          1577,
          131,
          987,
          1456,
          1952,
          1331,
          1152,
          859,
          1357,
          1945,
          1613,
          86,
          1206,
          1532,
          1269,
          618,
          580,
          1290,
          1675,
          957,
          1108,
          865,
          519,
          803,
          477,
          1724,
          241,
          38,
          1321,
          737,
          1236,
          1020,
          905
         ],
         "yaxis": "y"
        },
        {
         "customdata": [
          [
           "Thongs"
          ],
          [
           "Thongs"
          ],
          [
           "Thongs"
          ],
          [
           "Boxers"
          ],
          [
           "Briefs"
          ],
          [
           "Boxers"
          ],
          [
           "Panties"
          ],
          [
           "Thongs"
          ],
          [
           "Thongs"
          ],
          [
           "Panties"
          ],
          [
           "Panties"
          ],
          [
           "Thongs"
          ],
          [
           "Boxers"
          ],
          [
           "Boxers"
          ],
          [
           "Boxers"
          ],
          [
           "Panties"
          ],
          [
           "Boxers"
          ],
          [
           "Boxers"
          ],
          [
           "Briefs"
          ],
          [
           "Briefs"
          ],
          [
           "Panties"
          ],
          [
           "Thongs"
          ],
          [
           "Panties"
          ],
          [
           "Briefs"
          ],
          [
           "Thongs"
          ],
          [
           "Boxers"
          ],
          [
           "Briefs"
          ],
          [
           "Thongs"
          ],
          [
           "Boxers"
          ],
          [
           "Thongs"
          ],
          [
           "Briefs"
          ],
          [
           "Thongs"
          ],
          [
           "Briefs"
          ],
          [
           "Briefs"
          ],
          [
           "Briefs"
          ],
          [
           "Panties"
          ],
          [
           "Boxers"
          ],
          [
           "Boxers"
          ],
          [
           "Boxers"
          ],
          [
           "Panties"
          ]
         ],
         "hovertemplate": "Category=Underwear<br>Price=%{x}<br>Sales=%{y}<br>ProductName=%{customdata[0]}<extra></extra>",
         "legendgroup": "Underwear",
         "marker": {
          "color": "#EF553B",
          "symbol": "circle"
         },
         "mode": "markers",
         "name": "Underwear",
         "orientation": "v",
         "showlegend": true,
         "type": "scatter",
         "x": [
          496.7,
          425.61,
          165.84,
          165.52,
          17.85,
          203.1,
          450.63,
          341.44,
          312.14,
          112.46,
          20.29,
          207.49,
          228.18,
          172.76,
          125.44,
          324.96,
          426.75,
          308.02,
          242.41,
          340.28,
          135.64,
          216.16,
          361.51,
          432.85,
          109.96,
          206.83,
          261.46,
          194.17,
          230.62,
          481.09,
          239.18,
          447.72,
          455.34,
          259.39,
          168.92,
          50.46,
          436.14,
          407.23,
          16.96,
          434.92
         ],
         "xaxis": "x",
         "y": [
          1831,
          1274,
          4,
          1278,
          1281,
          782,
          1798,
          576,
          236,
          615,
          1755,
          481,
          421,
          1609,
          521,
          100,
          104,
          1651,
          1954,
          58,
          1262,
          1103,
          1237,
          707,
          667,
          44,
          1784,
          1320,
          391,
          1081,
          1676,
          1289,
          79,
          631,
          236,
          54,
          200,
          314,
          1552,
          428
         ],
         "yaxis": "y"
        },
        {
         "customdata": [
          [
           "Oil Filter"
          ],
          [
           "Oil Filter"
          ],
          [
           "Brake Pads"
          ],
          [
           "Spark Plugs"
          ],
          [
           "Spark Plugs"
          ],
          [
           "Car Battery"
          ],
          [
           "Oil Filter"
          ],
          [
           "Spark Plugs"
          ],
          [
           "Oil Filter"
          ],
          [
           "Car Battery"
          ],
          [
           "Car Battery"
          ],
          [
           "Car Battery"
          ],
          [
           "Oil Filter"
          ],
          [
           "Brake Pads"
          ],
          [
           "Brake Pads"
          ],
          [
           "Car Battery"
          ],
          [
           "Car Battery"
          ],
          [
           "Oil Filter"
          ],
          [
           "Brake Pads"
          ],
          [
           "Brake Pads"
          ],
          [
           "Spark Plugs"
          ],
          [
           "Brake Pads"
          ],
          [
           "Car Battery"
          ],
          [
           "Oil Filter"
          ],
          [
           "Brake Pads"
          ],
          [
           "Brake Pads"
          ],
          [
           "Spark Plugs"
          ],
          [
           "Spark Plugs"
          ],
          [
           "Oil Filter"
          ],
          [
           "Spark Plugs"
          ],
          [
           "Brake Pads"
          ],
          [
           "Spark Plugs"
          ],
          [
           "Spark Plugs"
          ],
          [
           "Spark Plugs"
          ],
          [
           "Spark Plugs"
          ],
          [
           "Oil Filter"
          ],
          [
           "Spark Plugs"
          ],
          [
           "Brake Pads"
          ],
          [
           "Oil Filter"
          ],
          [
           "Brake Pads"
          ]
         ],
         "hovertemplate": "Category=Motor vehicle parts<br>Price=%{x}<br>Sales=%{y}<br>ProductName=%{customdata[0]}<extra></extra>",
         "legendgroup": "Motor vehicle parts",
         "marker": {
          "color": "#00cc96",
          "symbol": "circle"
         },
         "mode": "markers",
         "name": "Motor vehicle parts",
         "orientation": "v",
         "showlegend": true,
         "type": "scatter",
         "x": [
          254.18,
          54.37,
          448.91,
          177.61,
          80.34,
          433.08,
          192.3,
          279.67,
          267.79,
          412.66,
          104.21,
          208.5,
          302.11,
          235.56,
          180.43,
          114.64,
          434.45,
          185.74,
          186.24,
          210.5,
          409.89,
          308.74,
          173.55,
          227.87,
          35.83,
          159.02,
          325.51,
          133.39,
          139.91,
          249.39,
          73.25,
          76.47,
          232.42,
          498.86,
          119.27,
          440.87,
          225.17,
          219.18,
          466.42,
          377.28
         ],
         "xaxis": "x",
         "y": [
          13,
          1634,
          1723,
          640,
          1903,
          821,
          1278,
          959,
          677,
          617,
          121,
          1697,
          325,
          1602,
          599,
          722,
          1191,
          813,
          769,
          1130,
          1848,
          1570,
          1897,
          446,
          394,
          1875,
          1813,
          1778,
          821,
          1860,
          1945,
          737,
          636,
          1893,
          1187,
          896,
          491,
          1099,
          1412,
          1284
         ],
         "yaxis": "y"
        },
        {
         "customdata": [
          [
           "Charger"
          ],
          [
           "Charger"
          ],
          [
           "Screen Protector"
          ],
          [
           "Charger"
          ],
          [
           "Screen Protector"
          ],
          [
           "Earbuds"
          ],
          [
           "Screen Protector"
          ],
          [
           "Earbuds"
          ],
          [
           "Phone Case"
          ],
          [
           "Phone Case"
          ],
          [
           "Screen Protector"
          ],
          [
           "Earbuds"
          ],
          [
           "Charger"
          ],
          [
           "Charger"
          ],
          [
           "Earbuds"
          ],
          [
           "Earbuds"
          ],
          [
           "Phone Case"
          ],
          [
           "Charger"
          ],
          [
           "Screen Protector"
          ],
          [
           "Earbuds"
          ],
          [
           "Earbuds"
          ],
          [
           "Phone Case"
          ],
          [
           "Screen Protector"
          ],
          [
           "Screen Protector"
          ],
          [
           "Phone Case"
          ],
          [
           "Charger"
          ],
          [
           "Charger"
          ],
          [
           "Phone Case"
          ],
          [
           "Phone Case"
          ],
          [
           "Screen Protector"
          ],
          [
           "Screen Protector"
          ],
          [
           "Earbuds"
          ],
          [
           "Earbuds"
          ],
          [
           "Screen Protector"
          ],
          [
           "Phone Case"
          ],
          [
           "Earbuds"
          ],
          [
           "Earbuds"
          ],
          [
           "Earbuds"
          ],
          [
           "Phone Case"
          ],
          [
           "Phone Case"
          ]
         ],
         "hovertemplate": "Category=Mobile phone accessories<br>Price=%{x}<br>Sales=%{y}<br>ProductName=%{customdata[0]}<extra></extra>",
         "legendgroup": "Mobile phone accessories",
         "marker": {
          "color": "#ab63fa",
          "symbol": "circle"
         },
         "mode": "markers",
         "name": "Mobile phone accessories",
         "orientation": "v",
         "showlegend": true,
         "type": "scatter",
         "x": [
          331.2,
          252.05,
          469.45,
          319.21,
          177.77,
          102.23,
          34.01,
          483.61,
          340.86,
          382.03,
          293.59,
          339.69,
          479.41,
          116.69,
          255.3,
          291.23,
          208.68,
          133.64,
          454.42,
          265.23,
          217.24,
          277.04,
          273.27,
          94.38,
          99.88,
          119.57,
          48.37,
          438.62,
          320.26,
          234.29,
          95.24,
          499.68,
          256.41,
          265.65,
          177.69,
          77.49,
          395.39,
          492.03,
          26.86,
          360.33
         ],
         "xaxis": "x",
         "y": [
          524,
          1853,
          532,
          1325,
          1820,
          1116,
          1272,
          839,
          1837,
          1148,
          1622,
          1984,
          45,
          535,
          1973,
          1603,
          177,
          175,
          675,
          35,
          1132,
          1487,
          38,
          1997,
          946,
          540,
          1194,
          1597,
          1884,
          1922,
          1555,
          1075,
          1055,
          252,
          1164,
          575,
          811,
          1590,
          809,
          947
         ],
         "yaxis": "y"
        },
        {
         "customdata": [
          [
           "Throw Blanket"
          ],
          [
           "Throw Blanket"
          ],
          [
           "Electric Blanket"
          ],
          [
           "Fleece Blanket"
          ],
          [
           "Electric Blanket"
          ],
          [
           "Fleece Blanket"
          ],
          [
           "Weighted Blanket"
          ],
          [
           "Weighted Blanket"
          ],
          [
           "Throw Blanket"
          ],
          [
           "Weighted Blanket"
          ],
          [
           "Weighted Blanket"
          ],
          [
           "Throw Blanket"
          ],
          [
           "Electric Blanket"
          ],
          [
           "Throw Blanket"
          ],
          [
           "Throw Blanket"
          ],
          [
           "Throw Blanket"
          ],
          [
           "Throw Blanket"
          ],
          [
           "Weighted Blanket"
          ],
          [
           "Throw Blanket"
          ],
          [
           "Fleece Blanket"
          ],
          [
           "Electric Blanket"
          ],
          [
           "Weighted Blanket"
          ],
          [
           "Fleece Blanket"
          ],
          [
           "Electric Blanket"
          ],
          [
           "Fleece Blanket"
          ],
          [
           "Throw Blanket"
          ],
          [
           "Fleece Blanket"
          ],
          [
           "Throw Blanket"
          ],
          [
           "Throw Blanket"
          ],
          [
           "Throw Blanket"
          ],
          [
           "Throw Blanket"
          ],
          [
           "Throw Blanket"
          ],
          [
           "Electric Blanket"
          ],
          [
           "Fleece Blanket"
          ],
          [
           "Weighted Blanket"
          ],
          [
           "Throw Blanket"
          ],
          [
           "Fleece Blanket"
          ],
          [
           "Throw Blanket"
          ],
          [
           "Weighted Blanket"
          ],
          [
           "Throw Blanket"
          ]
         ],
         "hovertemplate": "Category=Blankets<br>Price=%{x}<br>Sales=%{y}<br>ProductName=%{customdata[0]}<extra></extra>",
         "legendgroup": "Blankets",
         "marker": {
          "color": "#FFA15A",
          "symbol": "circle"
         },
         "mode": "markers",
         "name": "Blankets",
         "orientation": "v",
         "showlegend": true,
         "type": "scatter",
         "x": [
          438.03,
          442.17,
          14.22,
          217.12,
          298.33,
          136.57,
          37.31,
          152.59,
          104.23,
          271.2,
          465.67,
          209.1,
          336.54,
          481.48,
          311.1,
          118.14,
          111.33,
          141.74,
          311.98,
          206.17,
          347.7,
          404.51,
          194.73,
          80.1,
          177.42,
          345.37,
          94.47,
          383.64,
          255.92,
          409.36,
          48.75,
          57.35,
          214.76,
          61.84,
          269.34,
          207.72,
          268.6,
          92.74,
          152.28,
          136.53
         ],
         "xaxis": "x",
         "y": [
          891,
          718,
          1919,
          527,
          1712,
          1770,
          1711,
          1946,
          1269,
          454,
          1544,
          130,
          614,
          128,
          1196,
          28,
          63,
          1218,
          1172,
          1452,
          961,
          610,
          219,
          870,
          1340,
          1346,
          370,
          386,
          1969,
          991,
          991,
          1328,
          1564,
          56,
          800,
          325,
          1546,
          1295,
          1962,
          1089
         ],
         "yaxis": "y"
        }
       ],
       "layout": {
        "autosize": true,
        "legend": {
         "title": {
          "text": "Category"
         },
         "tracegroupgap": 0
        },
        "margin": {
         "t": 60
        },
        "template": {
         "data": {
          "bar": [
           {
            "error_x": {
             "color": "#2a3f5f"
            },
            "error_y": {
             "color": "#2a3f5f"
            },
            "marker": {
             "line": {
              "color": "#E5ECF6",
              "width": 0.5
             },
             "pattern": {
              "fillmode": "overlay",
              "size": 10,
              "solidity": 0.2
             }
            },
            "type": "bar"
           }
          ],
          "barpolar": [
           {
            "marker": {
             "line": {
              "color": "#E5ECF6",
              "width": 0.5
             },
             "pattern": {
              "fillmode": "overlay",
              "size": 10,
              "solidity": 0.2
             }
            },
            "type": "barpolar"
           }
          ],
          "carpet": [
           {
            "aaxis": {
             "endlinecolor": "#2a3f5f",
             "gridcolor": "white",
             "linecolor": "white",
             "minorgridcolor": "white",
             "startlinecolor": "#2a3f5f"
            },
            "baxis": {
             "endlinecolor": "#2a3f5f",
             "gridcolor": "white",
             "linecolor": "white",
             "minorgridcolor": "white",
             "startlinecolor": "#2a3f5f"
            },
            "type": "carpet"
           }
          ],
          "choropleth": [
           {
            "colorbar": {
             "outlinewidth": 0,
             "ticks": ""
            },
            "type": "choropleth"
           }
          ],
          "contour": [
           {
            "colorbar": {
             "outlinewidth": 0,
             "ticks": ""
            },
            "colorscale": [
             [
              0,
              "#0d0887"
             ],
             [
              0.1111111111111111,
              "#46039f"
             ],
             [
              0.2222222222222222,
              "#7201a8"
             ],
             [
              0.3333333333333333,
              "#9c179e"
             ],
             [
              0.4444444444444444,
              "#bd3786"
             ],
             [
              0.5555555555555556,
              "#d8576b"
             ],
             [
              0.6666666666666666,
              "#ed7953"
             ],
             [
              0.7777777777777778,
              "#fb9f3a"
             ],
             [
              0.8888888888888888,
              "#fdca26"
             ],
             [
              1,
              "#f0f921"
             ]
            ],
            "type": "contour"
           }
          ],
          "contourcarpet": [
           {
            "colorbar": {
             "outlinewidth": 0,
             "ticks": ""
            },
            "type": "contourcarpet"
           }
          ],
          "heatmap": [
           {
            "colorbar": {
             "outlinewidth": 0,
             "ticks": ""
            },
            "colorscale": [
             [
              0,
              "#0d0887"
             ],
             [
              0.1111111111111111,
              "#46039f"
             ],
             [
              0.2222222222222222,
              "#7201a8"
             ],
             [
              0.3333333333333333,
              "#9c179e"
             ],
             [
              0.4444444444444444,
              "#bd3786"
             ],
             [
              0.5555555555555556,
              "#d8576b"
             ],
             [
              0.6666666666666666,
              "#ed7953"
             ],
             [
              0.7777777777777778,
              "#fb9f3a"
             ],
             [
              0.8888888888888888,
              "#fdca26"
             ],
             [
              1,
              "#f0f921"
             ]
            ],
            "type": "heatmap"
           }
          ],
          "heatmapgl": [
           {
            "colorbar": {
             "outlinewidth": 0,
             "ticks": ""
            },
            "colorscale": [
             [
              0,
              "#0d0887"
             ],
             [
              0.1111111111111111,
              "#46039f"
             ],
             [
              0.2222222222222222,
              "#7201a8"
             ],
             [
              0.3333333333333333,
              "#9c179e"
             ],
             [
              0.4444444444444444,
              "#bd3786"
             ],
             [
              0.5555555555555556,
              "#d8576b"
             ],
             [
              0.6666666666666666,
              "#ed7953"
             ],
             [
              0.7777777777777778,
              "#fb9f3a"
             ],
             [
              0.8888888888888888,
              "#fdca26"
             ],
             [
              1,
              "#f0f921"
             ]
            ],
            "type": "heatmapgl"
           }
          ],
          "histogram": [
           {
            "marker": {
             "pattern": {
              "fillmode": "overlay",
              "size": 10,
              "solidity": 0.2
             }
            },
            "type": "histogram"
           }
          ],
          "histogram2d": [
           {
            "colorbar": {
             "outlinewidth": 0,
             "ticks": ""
            },
            "colorscale": [
             [
              0,
              "#0d0887"
             ],
             [
              0.1111111111111111,
              "#46039f"
             ],
             [
              0.2222222222222222,
              "#7201a8"
             ],
             [
              0.3333333333333333,
              "#9c179e"
             ],
             [
              0.4444444444444444,
              "#bd3786"
             ],
             [
              0.5555555555555556,
              "#d8576b"
             ],
             [
              0.6666666666666666,
              "#ed7953"
             ],
             [
              0.7777777777777778,
              "#fb9f3a"
             ],
             [
              0.8888888888888888,
              "#fdca26"
             ],
             [
              1,
              "#f0f921"
             ]
            ],
            "type": "histogram2d"
           }
          ],
          "histogram2dcontour": [
           {
            "colorbar": {
             "outlinewidth": 0,
             "ticks": ""
            },
            "colorscale": [
             [
              0,
              "#0d0887"
             ],
             [
              0.1111111111111111,
              "#46039f"
             ],
             [
              0.2222222222222222,
              "#7201a8"
             ],
             [
              0.3333333333333333,
              "#9c179e"
             ],
             [
              0.4444444444444444,
              "#bd3786"
             ],
             [
              0.5555555555555556,
              "#d8576b"
             ],
             [
              0.6666666666666666,
              "#ed7953"
             ],
             [
              0.7777777777777778,
              "#fb9f3a"
             ],
             [
              0.8888888888888888,
              "#fdca26"
             ],
             [
              1,
              "#f0f921"
             ]
            ],
            "type": "histogram2dcontour"
           }
          ],
          "mesh3d": [
           {
            "colorbar": {
             "outlinewidth": 0,
             "ticks": ""
            },
            "type": "mesh3d"
           }
          ],
          "parcoords": [
           {
            "line": {
             "colorbar": {
              "outlinewidth": 0,
              "ticks": ""
             }
            },
            "type": "parcoords"
           }
          ],
          "pie": [
           {
            "automargin": true,
            "type": "pie"
           }
          ],
          "scatter": [
           {
            "fillpattern": {
             "fillmode": "overlay",
             "size": 10,
             "solidity": 0.2
            },
            "type": "scatter"
           }
          ],
          "scatter3d": [
           {
            "line": {
             "colorbar": {
              "outlinewidth": 0,
              "ticks": ""
             }
            },
            "marker": {
             "colorbar": {
              "outlinewidth": 0,
              "ticks": ""
             }
            },
            "type": "scatter3d"
           }
          ],
          "scattercarpet": [
           {
            "marker": {
             "colorbar": {
              "outlinewidth": 0,
              "ticks": ""
             }
            },
            "type": "scattercarpet"
           }
          ],
          "scattergeo": [
           {
            "marker": {
             "colorbar": {
              "outlinewidth": 0,
              "ticks": ""
             }
            },
            "type": "scattergeo"
           }
          ],
          "scattergl": [
           {
            "marker": {
             "colorbar": {
              "outlinewidth": 0,
              "ticks": ""
             }
            },
            "type": "scattergl"
           }
          ],
          "scattermapbox": [
           {
            "marker": {
             "colorbar": {
              "outlinewidth": 0,
              "ticks": ""
             }
            },
            "type": "scattermapbox"
           }
          ],
          "scatterpolar": [
           {
            "marker": {
             "colorbar": {
              "outlinewidth": 0,
              "ticks": ""
             }
            },
            "type": "scatterpolar"
           }
          ],
          "scatterpolargl": [
           {
            "marker": {
             "colorbar": {
              "outlinewidth": 0,
              "ticks": ""
             }
            },
            "type": "scatterpolargl"
           }
          ],
          "scatterternary": [
           {
            "marker": {
             "colorbar": {
              "outlinewidth": 0,
              "ticks": ""
             }
            },
            "type": "scatterternary"
           }
          ],
          "surface": [
           {
            "colorbar": {
             "outlinewidth": 0,
             "ticks": ""
            },
            "colorscale": [
             [
              0,
              "#0d0887"
             ],
             [
              0.1111111111111111,
              "#46039f"
             ],
             [
              0.2222222222222222,
              "#7201a8"
             ],
             [
              0.3333333333333333,
              "#9c179e"
             ],
             [
              0.4444444444444444,
              "#bd3786"
             ],
             [
              0.5555555555555556,
              "#d8576b"
             ],
             [
              0.6666666666666666,
              "#ed7953"
             ],
             [
              0.7777777777777778,
              "#fb9f3a"
             ],
             [
              0.8888888888888888,
              "#fdca26"
             ],
             [
              1,
              "#f0f921"
             ]
            ],
            "type": "surface"
           }
          ],
          "table": [
           {
            "cells": {
             "fill": {
              "color": "#EBF0F8"
             },
             "line": {
              "color": "white"
             }
            },
            "header": {
             "fill": {
              "color": "#C8D4E3"
             },
             "line": {
              "color": "white"
             }
            },
            "type": "table"
           }
          ]
         },
         "layout": {
          "annotationdefaults": {
           "arrowcolor": "#2a3f5f",
           "arrowhead": 0,
           "arrowwidth": 1
          },
          "autotypenumbers": "strict",
          "coloraxis": {
           "colorbar": {
            "outlinewidth": 0,
            "ticks": ""
           }
          },
          "colorscale": {
           "diverging": [
            [
             0,
             "#8e0152"
            ],
            [
             0.1,
             "#c51b7d"
            ],
            [
             0.2,
             "#de77ae"
            ],
            [
             0.3,
             "#f1b6da"
            ],
            [
             0.4,
             "#fde0ef"
            ],
            [
             0.5,
             "#f7f7f7"
            ],
            [
             0.6,
             "#e6f5d0"
            ],
            [
             0.7,
             "#b8e186"
            ],
            [
             0.8,
             "#7fbc41"
            ],
            [
             0.9,
             "#4d9221"
            ],
            [
             1,
             "#276419"
            ]
           ],
           "sequential": [
            [
             0,
             "#0d0887"
            ],
            [
             0.1111111111111111,
             "#46039f"
            ],
            [
             0.2222222222222222,
             "#7201a8"
            ],
            [
             0.3333333333333333,
             "#9c179e"
            ],
            [
             0.4444444444444444,
             "#bd3786"
            ],
            [
             0.5555555555555556,
             "#d8576b"
            ],
            [
             0.6666666666666666,
             "#ed7953"
            ],
            [
             0.7777777777777778,
             "#fb9f3a"
            ],
            [
             0.8888888888888888,
             "#fdca26"
            ],
            [
             1,
             "#f0f921"
            ]
           ],
           "sequentialminus": [
            [
             0,
             "#0d0887"
            ],
            [
             0.1111111111111111,
             "#46039f"
            ],
            [
             0.2222222222222222,
             "#7201a8"
            ],
            [
             0.3333333333333333,
             "#9c179e"
            ],
            [
             0.4444444444444444,
             "#bd3786"
            ],
            [
             0.5555555555555556,
             "#d8576b"
            ],
            [
             0.6666666666666666,
             "#ed7953"
            ],
            [
             0.7777777777777778,
             "#fb9f3a"
            ],
            [
             0.8888888888888888,
             "#fdca26"
            ],
            [
             1,
             "#f0f921"
            ]
           ]
          },
          "colorway": [
           "#636efa",
           "#EF553B",
           "#00cc96",
           "#ab63fa",
           "#FFA15A",
           "#19d3f3",
           "#FF6692",
           "#B6E880",
           "#FF97FF",
           "#FECB52"
          ],
          "font": {
           "color": "#2a3f5f"
          },
          "geo": {
           "bgcolor": "white",
           "lakecolor": "white",
           "landcolor": "#E5ECF6",
           "showlakes": true,
           "showland": true,
           "subunitcolor": "white"
          },
          "hoverlabel": {
           "align": "left"
          },
          "hovermode": "closest",
          "mapbox": {
           "style": "light"
          },
          "paper_bgcolor": "white",
          "plot_bgcolor": "#E5ECF6",
          "polar": {
           "angularaxis": {
            "gridcolor": "white",
            "linecolor": "white",
            "ticks": ""
           },
           "bgcolor": "#E5ECF6",
           "radialaxis": {
            "gridcolor": "white",
            "linecolor": "white",
            "ticks": ""
           }
          },
          "scene": {
           "xaxis": {
            "backgroundcolor": "#E5ECF6",
            "gridcolor": "white",
            "gridwidth": 2,
            "linecolor": "white",
            "showbackground": true,
            "ticks": "",
            "zerolinecolor": "white"
           },
           "yaxis": {
            "backgroundcolor": "#E5ECF6",
            "gridcolor": "white",
            "gridwidth": 2,
            "linecolor": "white",
            "showbackground": true,
            "ticks": "",
            "zerolinecolor": "white"
           },
           "zaxis": {
            "backgroundcolor": "#E5ECF6",
            "gridcolor": "white",
            "gridwidth": 2,
            "linecolor": "white",
            "showbackground": true,
            "ticks": "",
            "zerolinecolor": "white"
           }
          },
          "shapedefaults": {
           "line": {
            "color": "#2a3f5f"
           }
          },
          "ternary": {
           "aaxis": {
            "gridcolor": "white",
            "linecolor": "white",
            "ticks": ""
           },
           "baxis": {
            "gridcolor": "white",
            "linecolor": "white",
            "ticks": ""
           },
           "bgcolor": "#E5ECF6",
           "caxis": {
            "gridcolor": "white",
            "linecolor": "white",
            "ticks": ""
           }
          },
          "title": {
           "x": 0.05
          },
          "xaxis": {
           "automargin": true,
           "gridcolor": "white",
           "linecolor": "white",
           "ticks": "",
           "title": {
            "standoff": 15
           },
           "zerolinecolor": "white",
           "zerolinewidth": 2
          },
          "yaxis": {
           "automargin": true,
           "gridcolor": "white",
           "linecolor": "white",
           "ticks": "",
           "title": {
            "standoff": 15
           },
           "zerolinecolor": "white",
           "zerolinewidth": 2
          }
         }
        },
        "title": {
         "text": "Price vs. Sales by Category"
        },
        "xaxis": {
         "anchor": "y",
         "autorange": true,
         "domain": [
          0,
          1
         ],
         "range": [
          -20.067778993435446,
          529.9177789934355
         ],
         "title": {
          "text": "Price"
         },
         "type": "linear"
        },
        "yaxis": {
         "anchor": "x",
         "autorange": true,
         "domain": [
          0,
          1
         ],
         "range": [
          -154.6233595800525,
          2151.6233595800527
         ],
         "title": {
          "text": "Sales"
         },
         "type": "linear"
        }
       }
      },
      "image/png": "[encoded data removed]",
      "text/html": [
       "<div>                            <div id=\"64133538-f780-4323-9867-ae84d193ec33\" class=\"plotly-graph-div\" style=\"height:525px; width:100%;\"></div>            <script type=\"text/javascript\">                require([\"plotly\"], function(Plotly) {                    window.PLOTLYENV=window.PLOTLYENV || {};                                    if (document.getElementById(\"64133538-f780-4323-9867-ae84d193ec33\")) {                    Plotly.newPlot(                        \"64133538-f780-4323-9867-ae84d193ec33\",                        [{\"customdata\":[[\"Headphones\"],[\"Headphones\"],[\"Smartwatch\"],[\"Smartphone\"],[\"Laptop\"],[\"Headphones\"],[\"Laptop\"],[\"Laptop\"],[\"Smartphone\"],[\"Smartwatch\"],[\"Laptop\"],[\"Headphones\"],[\"Headphones\"],[\"Laptop\"],[\"Smartwatch\"],[\"Headphones\"],[\"Headphones\"],[\"Smartwatch\"],[\"Headphones\"],[\"Smartwatch\"],[\"Laptop\"],[\"Headphones\"],[\"Smartwatch\"],[\"Smartwatch\"],[\"Laptop\"],[\"Smartwatch\"],[\"Laptop\"],[\"Smartphone\"],[\"Headphones\"],[\"Headphones\"],[\"Laptop\"],[\"Smartphone\"],[\"Headphones\"],[\"Smartwatch\"],[\"Laptop\"],[\"Smartwatch\"],[\"Laptop\"],[\"Smartphone\"],[\"Headphones\"],[\"Smartphone\"]],\"hovertemplate\":\"Category=Electronics<br>Price=%{x}<br>Sales=%{y}<br>ProductName=%{customdata[0]}<extra></extra>\",\"legendgroup\":\"Electronics\",\"marker\":{\"color\":\"#636efa\",\"symbol\":\"circle\"},\"mode\":\"markers\",\"name\":\"Electronics\",\"orientation\":\"v\",\"showlegend\":true,\"x\":[400.31,235.03,417.9,152.7,394.74,93.56,57.86,201.62,485.1,170.0,274.45,90.98,107.43,66.78,336.3,359.49,64.34,454.71,151.98,403.8,63.93,90.68,472.03,133.37,256.31,280.92,190.21,83.85,406.66,469.0,491.26,451.2,429.6,294.54,349.03,375.78,299.04,256.29,290.28,442.91],\"xaxis\":\"x\",\"y\":[466,1332,252,1806,1508,241,1966,1795,269,719,1064,647,1513,502,1762,794,1020,524,1976,1371,1768,1257,1853,698,1707,400,751,763,1959,1787,253,815,1648,1919,397,687,26,1852,476,301],\"yaxis\":\"y\",\"type\":\"scatter\"},{\"customdata\":[[\"Jacket\"],[\"Jacket\"],[\"Sweater\"],[\"T-Shirt\"],[\"Sweater\"],[\"Sweater\"],[\"T-Shirt\"],[\"T-Shirt\"],[\"Jacket\"],[\"T-Shirt\"],[\"Jacket\"],[\"Jeans\"],[\"Jeans\"],[\"T-Shirt\"],[\"Sweater\"],[\"Jacket\"],[\"Jeans\"],[\"T-Shirt\"],[\"T-Shirt\"],[\"Jacket\"],[\"T-Shirt\"],[\"T-Shirt\"],[\"T-Shirt\"],[\"Jacket\"],[\"T-Shirt\"],[\"Jacket\"],[\"Sweater\"],[\"Sweater\"],[\"Jeans\"],[\"Jacket\"],[\"Jeans\"],[\"T-Shirt\"],[\"T-Shirt\"],[\"Jacket\"],[\"Jeans\"],[\"Jeans\"],[\"Sweater\"],[\"Sweater\"],[\"Jacket\"],[\"Jeans\"]],\"hovertemplate\":\"Category=Clothing<br>Price=%{x}<br>Sales=%{y}<br>ProductName=%{customdata[0]}<extra></extra>\",\"legendgroup\":\"Clothing\",\"marker\":{\"color\":\"#EF553B\",\"symbol\":\"circle\"},\"mode\":\"markers\",\"name\":\"Clothing\",\"orientation\":\"v\",\"showlegend\":true,\"x\":[482.17,93.05,338.86,76.94,260.56,444.44,85.97,415.66,352.76,205.42,351.03,56.0,367.72,66.88,57.94,33.55,255.51,434.93,407.49,194.86,423.99,180.68,288.57,466.07,195.09,200.71,246.44,339.53,487.38,67.36,353.47,124.28,300.03,131.87,373.08,206.11,489.17,46.16,232.73,475.7],\"xaxis\":\"x\",\"y\":[1184,1815,784,920,511,853,1077,876,1693,1853,801,703,1109,452,1757,761,1782,1698,396,89,1219,675,95,216,396,717,395,108,732,1253,1540,1680,1205,1243,386,133,1236,1328,970,1031],\"yaxis\":\"y\",\"type\":\"scatter\"},{\"customdata\":[[\"Coffee Maker\"],[\"Microwave\"],[\"Microwave\"],[\"Coffee Maker\"],[\"Microwave\"],[\"Blender\"],[\"Coffee Maker\"],[\"Toaster\"],[\"Toaster\"],[\"Coffee Maker\"],[\"Microwave\"],[\"Coffee Maker\"],[\"Toaster\"],[\"Blender\"],[\"Toaster\"],[\"Blender\"],[\"Blender\"],[\"Microwave\"],[\"Blender\"],[\"Toaster\"],[\"Blender\"],[\"Microwave\"],[\"Toaster\"],[\"Toaster\"],[\"Microwave\"],[\"Toaster\"],[\"Coffee Maker\"],[\"Toaster\"],[\"Toaster\"],[\"Coffee Maker\"],[\"Toaster\"],[\"Coffee Maker\"],[\"Coffee Maker\"],[\"Microwave\"],[\"Blender\"],[\"Toaster\"],[\"Microwave\"],[\"Coffee Maker\"],[\"Blender\"],[\"Microwave\"]],\"hovertemplate\":\"Category=Home & Kitchen<br>Price=%{x}<br>Sales=%{y}<br>ProductName=%{customdata[0]}<extra></extra>\",\"legendgroup\":\"Home & Kitchen\",\"marker\":{\"color\":\"#00cc96\",\"symbol\":\"circle\"},\"mode\":\"markers\",\"name\":\"Home & Kitchen\",\"orientation\":\"v\",\"showlegend\":true,\"x\":[326.96,352.1,413.04,439.56,83.7,41.12,408.32,195.15,185.5,410.03,24.1,490.43,230.95,82.07,251.38,235.46,449.43,412.68,235.78,401.71,11.27,191.53,82.39,183.53,53.71,396.69,297.4,129.73,189.02,449.42,204.95,364.22,110.49,356.54,270.97,167.95,241.85,482.86,373.15,90.49],\"xaxis\":\"x\",\"y\":[739,908,449,145,794,822,676,1795,770,400,102,1331,80,68,1906,359,633,837,1836,830,1715,1239,1774,1976,24,33,1305,661,349,547,880,1049,112,1534,1673,784,1604,587,1851,600],\"yaxis\":\"y\",\"type\":\"scatter\"},{\"customdata\":[[\"Biography\"],[\"Biography\"],[\"Fantasy Book\"],[\"Fantasy Book\"],[\"Biography\"],[\"Biography\"],[\"Fantasy Book\"],[\"Science Book\"],[\"Biography\"],[\"Fantasy Book\"],[\"Science Book\"],[\"Science Book\"],[\"Biography\"],[\"Science Book\"],[\"Biography\"],[\"Science Book\"],[\"Novel\"],[\"Biography\"],[\"Novel\"],[\"Biography\"],[\"Biography\"],[\"Biography\"],[\"Biography\"],[\"Biography\"],[\"Novel\"],[\"Biography\"],[\"Biography\"],[\"Science Book\"],[\"Novel\"],[\"Novel\"],[\"Biography\"],[\"Biography\"],[\"Biography\"],[\"Biography\"],[\"Biography\"],[\"Science Book\"],[\"Biography\"],[\"Novel\"],[\"Biography\"],[\"Science Book\"]],\"hovertemplate\":\"Category=Books<br>Price=%{x}<br>Sales=%{y}<br>ProductName=%{customdata[0]}<extra></extra>\",\"legendgroup\":\"Books\",\"marker\":{\"color\":\"#ab63fa\",\"symbol\":\"circle\"},\"mode\":\"markers\",\"name\":\"Books\",\"orientation\":\"v\",\"showlegend\":true,\"x\":[202.3,274.49,122.22,91.7,378.68,252.05,204.67,324.16,455.14,456.81,466.74,307.29,125.59,299.72,173.41,371.38,254.2,335.13,100.39,110.52,154.08,284.22,142.66,434.83,301.57,404.6,110.44,425.58,410.55,179.14,248.84,373.43,492.36,269.53,416.57,302.73,216.8,200.75,204.36,138.51],\"xaxis\":\"x\",\"y\":[1714,1006,1202,419,597,227,1708,1683,301,1639,1129,778,1854,312,385,1205,665,341,434,1447,1136,1666,1499,442,1627,1935,774,81,1142,592,1138,1301,74,1700,1310,921,1315,1250,1785,481],\"yaxis\":\"y\",\"type\":\"scatter\"},{\"customdata\":[[\"Board Game\"],[\"Board Game\"],[\"Board Game\"],[\"Puzzle\"],[\"Puzzle\"],[\"Puzzle\"],[\"Puzzle\"],[\"Puzzle\"],[\"Action Figure\"],[\"Puzzle\"],[\"Action Figure\"],[\"Puzzle\"],[\"Puzzle\"],[\"Toy Car\"],[\"Toy Car\"],[\"Board Game\"],[\"Action Figure\"],[\"Puzzle\"],[\"Toy Car\"],[\"Board Game\"],[\"Board Game\"],[\"Board Game\"],[\"Action Figure\"],[\"Action Figure\"],[\"Puzzle\"],[\"Board Game\"],[\"Board Game\"],[\"Board Game\"],[\"Toy Car\"],[\"Board Game\"],[\"Action Figure\"],[\"Toy Car\"],[\"Puzzle\"],[\"Puzzle\"],[\"Board Game\"],[\"Action Figure\"],[\"Board Game\"],[\"Action Figure\"],[\"Action Figure\"],[\"Toy Car\"]],\"hovertemplate\":\"Category=Toys & Games<br>Price=%{x}<br>Sales=%{y}<br>ProductName=%{customdata[0]}<extra></extra>\",\"legendgroup\":\"Toys & Games\",\"marker\":{\"color\":\"#FFA15A\",\"symbol\":\"circle\"},\"mode\":\"markers\",\"name\":\"Toys & Games\",\"orientation\":\"v\",\"showlegend\":true,\"x\":[242.38,235.24,60.52,265.44,364.81,31.64,26.63,399.72,328.58,176.54,334.21,436.35,44.31,317.48,371.42,124.47,343.03,440.77,41.84,198.2,484.86,351.05,448.51,31.74,52.62,270.98,252.62,276.45,426.79,61.86,24.33,282.53,490.78,382.9,379.31,387.78,495.17,20.84,472.71,421.57],\"xaxis\":\"x\",\"y\":[60,1458,329,660,1900,1109,1521,1466,130,496,893,1439,317,920,1693,584,938,1176,1353,1540,1596,1143,634,1560,1924,972,1591,335,1368,556,1574,1548,674,571,730,1143,947,1561,156,1730],\"yaxis\":\"y\",\"type\":\"scatter\"},{\"customdata\":[[\"Fish Oil\"],[\"Fish Oil\"],[\"Protein Powder\"],[\"Protein Powder\"],[\"Protein Powder\"],[\"Vitamin D\"],[\"Fish Oil\"],[\"Multivitamin\"],[\"Fish Oil\"],[\"Vitamin D\"],[\"Fish Oil\"],[\"Multivitamin\"],[\"Fish Oil\"],[\"Vitamin D\"],[\"Protein Powder\"],[\"Vitamin D\"],[\"Multivitamin\"],[\"Fish Oil\"],[\"Protein Powder\"],[\"Vitamin D\"],[\"Vitamin D\"],[\"Protein Powder\"],[\"Multivitamin\"],[\"Vitamin D\"],[\"Protein Powder\"],[\"Fish Oil\"],[\"Fish Oil\"],[\"Vitamin D\"],[\"Vitamin D\"],[\"Vitamin D\"],[\"Protein Powder\"],[\"Multivitamin\"],[\"Vitamin D\"],[\"Protein Powder\"],[\"Multivitamin\"],[\"Vitamin D\"],[\"Vitamin D\"],[\"Fish Oil\"],[\"Vitamin D\"],[\"Vitamin D\"]],\"hovertemplate\":\"Category=Vitamins and supplements<br>Price=%{x}<br>Sales=%{y}<br>ProductName=%{customdata[0]}<extra></extra>\",\"legendgroup\":\"Vitamins and supplements\",\"marker\":{\"color\":\"#19d3f3\",\"symbol\":\"circle\"},\"mode\":\"markers\",\"name\":\"Vitamins and supplements\",\"orientation\":\"v\",\"showlegend\":true,\"x\":[84.02,382.45,435.38,100.91,18.75,245.95,120.51,83.29,152.91,61.42,113.07,53.05,349.67,449.15,474.2,448.46,90.36,171.22,254.12,49.95,236.69,370.32,224.92,145.65,419.64,126.4,57.72,90.13,298.32,226.59,312.4,184.8,435.45,35.33,258.55,18.52,336.76,102.29,489.53,289.6],\"xaxis\":\"x\",\"y\":[1978,1185,1562,1709,898,1763,394,1518,778,591,1888,870,1895,552,382,514,1324,308,872,1230,403,946,931,1260,477,1004,1107,1252,1418,132,1144,1847,1665,1082,1239,1207,891,1825,1561,800],\"yaxis\":\"y\",\"type\":\"scatter\"},{\"customdata\":[[\"Sunscreen\"],[\"Cleanser\"],[\"Moisturizer\"],[\"Cleanser\"],[\"Toner\"],[\"Moisturizer\"],[\"Cleanser\"],[\"Cleanser\"],[\"Moisturizer\"],[\"Cleanser\"],[\"Sunscreen\"],[\"Cleanser\"],[\"Sunscreen\"],[\"Toner\"],[\"Sunscreen\"],[\"Cleanser\"],[\"Cleanser\"],[\"Toner\"],[\"Toner\"],[\"Moisturizer\"],[\"Sunscreen\"],[\"Moisturizer\"],[\"Moisturizer\"],[\"Cleanser\"],[\"Toner\"],[\"Toner\"],[\"Moisturizer\"],[\"Cleanser\"],[\"Moisturizer\"],[\"Toner\"],[\"Sunscreen\"],[\"Moisturizer\"],[\"Toner\"],[\"Cleanser\"],[\"Toner\"],[\"Toner\"],[\"Toner\"],[\"Sunscreen\"],[\"Cleanser\"],[\"Cleanser\"]],\"hovertemplate\":\"Category=Skin care<br>Price=%{x}<br>Sales=%{y}<br>ProductName=%{customdata[0]}<extra></extra>\",\"legendgroup\":\"Skin care\",\"marker\":{\"color\":\"#FF6692\",\"symbol\":\"circle\"},\"mode\":\"markers\",\"name\":\"Skin care\",\"orientation\":\"v\",\"showlegend\":true,\"x\":[471.03,499.71,287.84,224.7,155.47,196.41,297.66,476.22,205.42,375.97,44.93,105.33,270.81,413.36,154.69,279.61,300.83,387.27,217.63,92.33,122.82,494.01,349.29,453.71,189.81,402.17,233.86,228.71,348.1,10.61,205.66,339.06,393.19,196.65,437.93,112.17,270.92,207.46,413.02,416.37],\"xaxis\":\"x\",\"y\":[1981,780,493,1354,710,290,1026,664,943,1014,788,1562,1,1062,1107,1141,1660,663,992,661,1100,636,1241,1699,827,66,1232,452,632,1565,363,1012,113,1725,1339,1826,1549,1811,1133,1676],\"yaxis\":\"y\",\"type\":\"scatter\"},{\"customdata\":[[\"Mascara\"],[\"Blush\"],[\"Lipstick\"],[\"Lipstick\"],[\"Lipstick\"],[\"Blush\"],[\"Foundation\"],[\"Mascara\"],[\"Foundation\"],[\"Blush\"],[\"Foundation\"],[\"Blush\"],[\"Lipstick\"],[\"Foundation\"],[\"Foundation\"],[\"Blush\"],[\"Lipstick\"],[\"Lipstick\"],[\"Mascara\"],[\"Lipstick\"],[\"Lipstick\"],[\"Mascara\"],[\"Foundation\"],[\"Blush\"],[\"Mascara\"],[\"Blush\"],[\"Lipstick\"],[\"Foundation\"],[\"Blush\"],[\"Foundation\"],[\"Mascara\"],[\"Foundation\"],[\"Lipstick\"],[\"Foundation\"],[\"Foundation\"],[\"Mascara\"],[\"Lipstick\"],[\"Foundation\"],[\"Blush\"],[\"Lipstick\"]],\"hovertemplate\":\"Category=Makeup<br>Price=%{x}<br>Sales=%{y}<br>ProductName=%{customdata[0]}<extra></extra>\",\"legendgroup\":\"Makeup\",\"marker\":{\"color\":\"#B6E880\",\"symbol\":\"circle\"},\"mode\":\"markers\",\"name\":\"Makeup\",\"orientation\":\"v\",\"showlegend\":true,\"x\":[43.4,69.8,324.0,286.58,492.0,348.89,315.71,330.5,15.41,272.3,480.19,58.06,194.19,60.05,422.03,448.61,61.79,332.93,236.35,95.31,50.26,337.0,269.85,65.84,175.75,200.44,444.59,136.63,283.33,469.32,114.62,259.1,439.8,441.91,369.2,382.89,380.57,325.25,97.4,245.68],\"xaxis\":\"x\",\"y\":[1979,988,466,1276,1517,1382,1651,1764,649,1716,702,593,396,1583,758,855,1528,276,498,137,920,1640,651,1249,1850,1195,1654,1661,661,462,1706,1830,128,472,1036,1441,131,1765,272,899],\"yaxis\":\"y\",\"type\":\"scatter\"},{\"customdata\":[[\"Denim Jacket\"],[\"Rain Jacket\"],[\"Denim Jacket\"],[\"Denim Jacket\"],[\"Denim Jacket\"],[\"Leather Jacket\"],[\"Winter Coat\"],[\"Leather Jacket\"],[\"Denim Jacket\"],[\"Denim Jacket\"],[\"Denim Jacket\"],[\"Leather Jacket\"],[\"Winter Coat\"],[\"Winter Coat\"],[\"Leather Jacket\"],[\"Winter Coat\"],[\"Leather Jacket\"],[\"Denim Jacket\"],[\"Rain Jacket\"],[\"Rain Jacket\"],[\"Rain Jacket\"],[\"Denim Jacket\"],[\"Denim Jacket\"],[\"Leather Jacket\"],[\"Winter Coat\"],[\"Leather Jacket\"],[\"Denim Jacket\"],[\"Leather Jacket\"],[\"Leather Jacket\"],[\"Leather Jacket\"],[\"Leather Jacket\"],[\"Rain Jacket\"],[\"Leather Jacket\"],[\"Leather Jacket\"],[\"Denim Jacket\"],[\"Denim Jacket\"],[\"Denim Jacket\"],[\"Denim Jacket\"],[\"Denim Jacket\"],[\"Denim Jacket\"]],\"hovertemplate\":\"Category=Coats and jackets<br>Price=%{x}<br>Sales=%{y}<br>ProductName=%{customdata[0]}<extra></extra>\",\"legendgroup\":\"Coats and jackets\",\"marker\":{\"color\":\"#FF97FF\",\"symbol\":\"circle\"},\"mode\":\"markers\",\"name\":\"Coats and jackets\",\"orientation\":\"v\",\"showlegend\":true,\"x\":[341.47,350.75,69.96,370.47,253.12,290.22,297.05,137.06,246.65,367.46,331.91,131.02,390.59,179.5,482.06,252.3,161.26,214.82,207.95,247.5,432.37,184.43,276.98,441.0,56.13,331.82,184.77,458.39,187.92,100.27,442.38,320.99,346.56,101.83,494.15,174.25,453.63,182.66,372.25,121.32],\"xaxis\":\"x\",\"y\":[1342,431,1136,400,123,1794,562,48,1009,1592,1365,1205,249,671,895,1956,1201,1596,965,1089,1959,31,743,1049,226,1609,904,774,219,989,1132,246,1689,210,1249,189,278,930,1070,515],\"yaxis\":\"y\",\"type\":\"scatter\"},{\"customdata\":[[\"Road Bike\"],[\"Mountain Bike\"],[\"Hybrid Bike\"],[\"Hybrid Bike\"],[\"Road Bike\"],[\"Mountain Bike\"],[\"Electric Bike\"],[\"Mountain Bike\"],[\"Mountain Bike\"],[\"Mountain Bike\"],[\"Mountain Bike\"],[\"Mountain Bike\"],[\"Hybrid Bike\"],[\"Road Bike\"],[\"Hybrid Bike\"],[\"Hybrid Bike\"],[\"Electric Bike\"],[\"Mountain Bike\"],[\"Mountain Bike\"],[\"Road Bike\"],[\"Mountain Bike\"],[\"Mountain Bike\"],[\"Mountain Bike\"],[\"Mountain Bike\"],[\"Road Bike\"],[\"Road Bike\"],[\"Mountain Bike\"],[\"Mountain Bike\"],[\"Mountain Bike\"],[\"Road Bike\"],[\"Mountain Bike\"],[\"Electric Bike\"],[\"Mountain Bike\"],[\"Electric Bike\"],[\"Electric Bike\"],[\"Mountain Bike\"],[\"Hybrid Bike\"],[\"Hybrid Bike\"],[\"Electric Bike\"],[\"Road Bike\"]],\"hovertemplate\":\"Category=Bicycles<br>Price=%{x}<br>Sales=%{y}<br>ProductName=%{customdata[0]}<extra></extra>\",\"legendgroup\":\"Bicycles\",\"marker\":{\"color\":\"#FECB52\",\"symbol\":\"circle\"},\"mode\":\"markers\",\"name\":\"Bicycles\",\"orientation\":\"v\",\"showlegend\":true,\"x\":[186.59,396.34,92.85,212.25,483.46,421.34,321.19,16.08,33.59,420.69,265.51,26.0,220.91,90.76,261.06,492.08,306.0,315.03,12.7,236.8,410.17,24.54,203.34,161.59,35.06,335.99,44.79,326.76,310.16,416.22,205.69,329.62,432.25,459.15,202.56,446.15,162.5,347.25,58.66,380.54],\"xaxis\":\"x\",\"y\":[1677,1274,839,855,898,1659,675,333,694,493,1952,1031,1896,178,1185,1745,92,1712,891,1845,1958,126,1132,1176,849,1774,958,562,1537,1856,920,1452,194,1848,6,1467,1227,74,1586,124],\"yaxis\":\"y\",\"type\":\"scatter\"},{\"customdata\":[[\"Sketchbook\"],[\"Brushes\"],[\"Paint Set\"],[\"Brushes\"],[\"Brushes\"],[\"Brushes\"],[\"Canvas\"],[\"Paint Set\"],[\"Paint Set\"],[\"Canvas\"],[\"Canvas\"],[\"Canvas\"],[\"Paint Set\"],[\"Brushes\"],[\"Sketchbook\"],[\"Canvas\"],[\"Canvas\"],[\"Paint Set\"],[\"Brushes\"],[\"Brushes\"],[\"Sketchbook\"],[\"Canvas\"],[\"Sketchbook\"],[\"Paint Set\"],[\"Sketchbook\"],[\"Sketchbook\"],[\"Brushes\"],[\"Brushes\"],[\"Paint Set\"],[\"Canvas\"],[\"Sketchbook\"],[\"Paint Set\"],[\"Brushes\"],[\"Canvas\"],[\"Canvas\"],[\"Canvas\"],[\"Paint Set\"],[\"Paint Set\"],[\"Brushes\"],[\"Canvas\"]],\"hovertemplate\":\"Category=Art and crafting materials<br>Price=%{x}<br>Sales=%{y}<br>ProductName=%{customdata[0]}<extra></extra>\",\"legendgroup\":\"Art and crafting materials\",\"marker\":{\"color\":\"#636efa\",\"symbol\":\"circle\"},\"mode\":\"markers\",\"name\":\"Art and crafting materials\",\"orientation\":\"v\",\"showlegend\":true,\"x\":[193.65,84.28,275.44,96.81,90.97,441.35,29.34,303.57,343.57,433.14,251.24,405.23,425.01,369.67,75.87,269.0,154.36,379.18,53.42,319.72,156.79,81.15,84.64,323.83,102.04,359.84,87.73,60.35,40.72,59.93,447.02,66.85,12.14,73.5,499.74,190.67,213.74,379.47,164.66,51.82],\"xaxis\":\"x\",\"y\":[76,1188,1377,358,434,998,63,1781,619,406,1710,940,1517,1858,1687,793,0,546,1378,82,1679,294,1830,1336,1905,775,1739,1749,1855,1475,1995,1752,928,1875,1519,209,1845,1827,1461,53],\"yaxis\":\"y\",\"type\":\"scatter\"},{\"customdata\":[[\"Coffee Mug\"],[\"Water Bottle\"],[\"Tea Cup\"],[\"Water Bottle\"],[\"Tea Cup\"],[\"Wine Glass\"],[\"Water Bottle\"],[\"Coffee Mug\"],[\"Wine Glass\"],[\"Wine Glass\"],[\"Tea Cup\"],[\"Water Bottle\"],[\"Wine Glass\"],[\"Tea Cup\"],[\"Water Bottle\"],[\"Wine Glass\"],[\"Water Bottle\"],[\"Tea Cup\"],[\"Tea Cup\"],[\"Wine Glass\"],[\"Water Bottle\"],[\"Coffee Mug\"],[\"Water Bottle\"],[\"Water Bottle\"],[\"Wine Glass\"],[\"Water Bottle\"],[\"Water Bottle\"],[\"Wine Glass\"],[\"Water Bottle\"],[\"Coffee Mug\"],[\"Coffee Mug\"],[\"Tea Cup\"],[\"Wine Glass\"],[\"Water Bottle\"],[\"Tea Cup\"],[\"Wine Glass\"],[\"Coffee Mug\"],[\"Water Bottle\"],[\"Tea Cup\"],[\"Wine Glass\"]],\"hovertemplate\":\"Category=Drinkware<br>Price=%{x}<br>Sales=%{y}<br>ProductName=%{customdata[0]}<extra></extra>\",\"legendgroup\":\"Drinkware\",\"marker\":{\"color\":\"#EF553B\",\"symbol\":\"circle\"},\"mode\":\"markers\",\"name\":\"Drinkware\",\"orientation\":\"v\",\"showlegend\":true,\"x\":[141.12,357.6,301.61,383.53,71.52,18.6,289.62,278.01,158.43,39.26,495.75,105.96,491.01,175.3,82.18,183.59,277.82,449.86,332.97,490.76,16.38,480.47,361.98,305.5,32.57,220.06,204.94,202.3,496.3,103.88,122.06,223.94,448.11,445.55,428.96,407.33,237.01,270.69,120.8,103.65],\"xaxis\":\"x\",\"y\":[1815,613,1211,1627,1444,755,622,1068,411,630,1552,1324,1072,685,421,597,1116,1546,695,310,124,361,1877,1179,943,739,326,717,960,1738,1603,1132,131,1391,270,1858,253,1848,1714,1192],\"yaxis\":\"y\",\"type\":\"scatter\"},{\"customdata\":[[\"Eau de Toilette\"],[\"Eau de Toilette\"],[\"Body Spray\"],[\"Perfume Oil\"],[\"Eau de Parfum\"],[\"Eau de Toilette\"],[\"Eau de Parfum\"],[\"Eau de Toilette\"],[\"Eau de Parfum\"],[\"Perfume Oil\"],[\"Eau de Toilette\"],[\"Body Spray\"],[\"Eau de Toilette\"],[\"Perfume Oil\"],[\"Eau de Toilette\"],[\"Perfume Oil\"],[\"Eau de Parfum\"],[\"Eau de Toilette\"],[\"Eau de Toilette\"],[\"Perfume Oil\"],[\"Eau de Parfum\"],[\"Eau de Parfum\"],[\"Perfume Oil\"],[\"Body Spray\"],[\"Eau de Toilette\"],[\"Perfume Oil\"],[\"Eau de Toilette\"],[\"Eau de Toilette\"],[\"Eau de Parfum\"],[\"Eau de Toilette\"],[\"Body Spray\"],[\"Body Spray\"],[\"Eau de Parfum\"],[\"Eau de Parfum\"],[\"Eau de Toilette\"],[\"Body Spray\"],[\"Eau de Toilette\"],[\"Eau de Parfum\"],[\"Body Spray\"],[\"Body Spray\"]],\"hovertemplate\":\"Category=Perfume and cologne<br>Price=%{x}<br>Sales=%{y}<br>ProductName=%{customdata[0]}<extra></extra>\",\"legendgroup\":\"Perfume and cologne\",\"marker\":{\"color\":\"#00cc96\",\"symbol\":\"circle\"},\"mode\":\"markers\",\"name\":\"Perfume and cologne\",\"orientation\":\"v\",\"showlegend\":true,\"x\":[158.44,208.82,213.09,30.79,284.44,351.63,432.23,335.92,474.07,198.33,423.21,220.5,280.83,316.26,316.19,101.59,369.02,172.9,369.41,145.4,60.53,204.83,279.31,476.2,324.4,295.94,230.05,316.35,275.58,488.73,51.31,14.44,54.78,115.06,302.58,413.26,152.83,448.72,322.6,41.36],\"xaxis\":\"x\",\"y\":[1208,752,520,152,488,406,1164,1903,863,825,888,1263,1683,839,499,1424,49,1164,759,1692,1497,207,218,1506,480,1088,890,1091,617,1442,378,169,1070,945,1361,832,294,444,1642,1228],\"yaxis\":\"y\",\"type\":\"scatter\"},{\"customdata\":[[\"White Wine\"],[\"Rose Wine\"],[\"Red Wine\"],[\"Red Wine\"],[\"Rose Wine\"],[\"White Wine\"],[\"White Wine\"],[\"Red Wine\"],[\"Rose Wine\"],[\"Sparkling Wine\"],[\"White Wine\"],[\"Red Wine\"],[\"Rose Wine\"],[\"Rose Wine\"],[\"White Wine\"],[\"Red Wine\"],[\"White Wine\"],[\"Red Wine\"],[\"Sparkling Wine\"],[\"Rose Wine\"],[\"Rose Wine\"],[\"White Wine\"],[\"Sparkling Wine\"],[\"Sparkling Wine\"],[\"Sparkling Wine\"],[\"White Wine\"],[\"Sparkling Wine\"],[\"Rose Wine\"],[\"Rose Wine\"],[\"Rose Wine\"],[\"White Wine\"],[\"Sparkling Wine\"],[\"Sparkling Wine\"],[\"Red Wine\"],[\"Red Wine\"],[\"Rose Wine\"],[\"Sparkling Wine\"],[\"Rose Wine\"],[\"White Wine\"],[\"Red Wine\"]],\"hovertemplate\":\"Category=Wine<br>Price=%{x}<br>Sales=%{y}<br>ProductName=%{customdata[0]}<extra></extra>\",\"legendgroup\":\"Wine\",\"marker\":{\"color\":\"#ab63fa\",\"symbol\":\"circle\"},\"mode\":\"markers\",\"name\":\"Wine\",\"orientation\":\"v\",\"showlegend\":true,\"x\":[256.29,359.35,100.97,161.81,47.55,193.02,281.15,178.94,97.83,432.86,91.22,113.83,377.2,351.25,291.95,175.23,258.82,209.98,351.66,149.9,16.55,42.82,277.34,471.85,43.67,116.66,42.57,341.96,93.24,302.61,160.38,303.89,47.72,143.25,269.07,139.67,53.31,139.36,336.76,223.85],\"xaxis\":\"x\",\"y\":[1230,1364,802,276,1571,828,1449,1262,1424,288,114,146,1312,1522,244,304,1560,24,498,1960,383,291,334,205,95,1527,1452,43,400,1493,1082,394,1341,1245,922,1814,768,827,1767,1791],\"yaxis\":\"y\",\"type\":\"scatter\"},{\"customdata\":[[\"Knee-High Socks\"],[\"Ankle Socks\"],[\"Wool Socks\"],[\"Ankle Socks\"],[\"Ankle Socks\"],[\"Knee-High Socks\"],[\"Knee-High Socks\"],[\"Ankle Socks\"],[\"Knee-High Socks\"],[\"Cotton Socks\"],[\"Ankle Socks\"],[\"Wool Socks\"],[\"Cotton Socks\"],[\"Cotton Socks\"],[\"Wool Socks\"],[\"Knee-High Socks\"],[\"Ankle Socks\"],[\"Knee-High Socks\"],[\"Ankle Socks\"],[\"Wool Socks\"],[\"Cotton Socks\"],[\"Ankle Socks\"],[\"Ankle Socks\"],[\"Ankle Socks\"],[\"Knee-High Socks\"],[\"Cotton Socks\"],[\"Knee-High Socks\"],[\"Ankle Socks\"],[\"Wool Socks\"],[\"Wool Socks\"],[\"Ankle Socks\"],[\"Knee-High Socks\"],[\"Wool Socks\"],[\"Wool Socks\"],[\"Wool Socks\"],[\"Knee-High Socks\"],[\"Ankle Socks\"],[\"Wool Socks\"],[\"Knee-High Socks\"],[\"Cotton Socks\"]],\"hovertemplate\":\"Category=Socks<br>Price=%{x}<br>Sales=%{y}<br>ProductName=%{customdata[0]}<extra></extra>\",\"legendgroup\":\"Socks\",\"marker\":{\"color\":\"#FFA15A\",\"symbol\":\"circle\"},\"mode\":\"markers\",\"name\":\"Socks\",\"orientation\":\"v\",\"showlegend\":true,\"x\":[415.06,289.87,394.03,384.53,12.62,495.43,289.05,113.7,470.57,192.83,487.38,97.88,19.38,345.99,418.56,25.55,113.5,443.45,486.96,487.92,44.81,82.17,401.16,189.14,81.99,416.36,158.78,492.27,180.06,494.83,284.19,213.91,261.32,334.22,209.21,400.89,175.45,436.63,248.2,395.05],\"xaxis\":\"x\",\"y\":[572,458,597,206,338,938,539,1136,1178,1448,838,92,779,972,1834,1167,1204,464,275,1938,727,235,1083,1817,1494,191,1168,776,1526,1743,1462,1252,1095,1757,5,1822,1619,1973,1799,1295],\"yaxis\":\"y\",\"type\":\"scatter\"},{\"customdata\":[[\"Silk Sheets\"],[\"Silk Sheets\"],[\"Linen Sheets\"],[\"Bamboo Sheets\"],[\"Bamboo Sheets\"],[\"Linen Sheets\"],[\"Cotton Sheets\"],[\"Linen Sheets\"],[\"Linen Sheets\"],[\"Bamboo Sheets\"],[\"Silk Sheets\"],[\"Linen Sheets\"],[\"Bamboo Sheets\"],[\"Linen Sheets\"],[\"Linen Sheets\"],[\"Silk Sheets\"],[\"Bamboo Sheets\"],[\"Linen Sheets\"],[\"Cotton Sheets\"],[\"Silk Sheets\"],[\"Cotton Sheets\"],[\"Silk Sheets\"],[\"Linen Sheets\"],[\"Silk Sheets\"],[\"Silk Sheets\"],[\"Silk Sheets\"],[\"Cotton Sheets\"],[\"Linen Sheets\"],[\"Silk Sheets\"],[\"Cotton Sheets\"],[\"Cotton Sheets\"],[\"Cotton Sheets\"],[\"Bamboo Sheets\"],[\"Linen Sheets\"],[\"Linen Sheets\"],[\"Linen Sheets\"],[\"Silk Sheets\"],[\"Bamboo Sheets\"],[\"Linen Sheets\"],[\"Silk Sheets\"]],\"hovertemplate\":\"Category=Bedsheets<br>Price=%{x}<br>Sales=%{y}<br>ProductName=%{customdata[0]}<extra></extra>\",\"legendgroup\":\"Bedsheets\",\"marker\":{\"color\":\"#19d3f3\",\"symbol\":\"circle\"},\"mode\":\"markers\",\"name\":\"Bedsheets\",\"orientation\":\"v\",\"showlegend\":true,\"x\":[220.69,243.09,456.2,464.91,34.31,402.71,287.23,267.12,153.95,165.6,457.34,223.47,418.94,89.77,130.86,96.82,433.83,156.44,432.94,156.97,32.17,266.34,134.43,115.2,433.1,398.85,349.09,347.49,404.8,422.05,234.97,216.17,313.43,261.03,207.57,481.51,99.07,263.96,479.48,165.13],\"xaxis\":\"x\",\"y\":[1756,1490,925,1743,1291,272,1956,816,1029,1603,1128,795,1957,1534,1983,270,1494,1922,1788,888,660,1203,55,1723,1991,542,1856,1231,848,1845,981,709,383,1938,144,397,428,1806,370,881],\"yaxis\":\"y\",\"type\":\"scatter\"},{\"customdata\":[[\"Framed Poster\"],[\"Canvas Print\"],[\"Canvas Print\"],[\"Art Print\"],[\"Framed Poster\"],[\"Digital Art\"],[\"Digital Art\"],[\"Digital Art\"],[\"Canvas Print\"],[\"Digital Art\"],[\"Canvas Print\"],[\"Digital Art\"],[\"Art Print\"],[\"Digital Art\"],[\"Digital Art\"],[\"Art Print\"],[\"Framed Poster\"],[\"Framed Poster\"],[\"Canvas Print\"],[\"Canvas Print\"],[\"Art Print\"],[\"Canvas Print\"],[\"Canvas Print\"],[\"Art Print\"],[\"Digital Art\"],[\"Canvas Print\"],[\"Canvas Print\"],[\"Digital Art\"],[\"Digital Art\"],[\"Art Print\"],[\"Art Print\"],[\"Framed Poster\"],[\"Canvas Print\"],[\"Art Print\"],[\"Framed Poster\"],[\"Framed Poster\"],[\"Canvas Print\"],[\"Art Print\"],[\"Framed Poster\"],[\"Framed Poster\"]],\"hovertemplate\":\"Category=Posters and artwork<br>Price=%{x}<br>Sales=%{y}<br>ProductName=%{customdata[0]}<extra></extra>\",\"legendgroup\":\"Posters and artwork\",\"marker\":{\"color\":\"#FF6692\",\"symbol\":\"circle\"},\"mode\":\"markers\",\"name\":\"Posters and artwork\",\"orientation\":\"v\",\"showlegend\":true,\"x\":[219.94,472.16,132.26,29.24,113.33,232.66,469.88,214.42,59.12,125.15,463.97,24.04,204.87,193.61,119.92,34.77,436.61,290.28,179.81,202.04,448.89,32.19,24.71,383.22,211.48,21.53,266.56,113.06,482.27,12.65,168.67,306.94,301.13,23.65,483.0,44.0,80.21,341.42,334.3,420.26],\"xaxis\":\"x\",\"y\":[452,287,1029,1411,149,1553,1070,717,1761,1471,1778,297,71,1578,719,969,1965,1683,949,1891,1311,988,477,287,143,3,991,1319,181,777,1269,161,1887,1431,870,313,439,122,395,1424],\"yaxis\":\"y\",\"type\":\"scatter\"},{\"customdata\":[[\"Soy Candle\"],[\"Beeswax Candle\"],[\"Soy Candle\"],[\"Scented Candle\"],[\"Scented Candle\"],[\"Beeswax Candle\"],[\"Scented Candle\"],[\"Beeswax Candle\"],[\"Pillar Candle\"],[\"Scented Candle\"],[\"Beeswax Candle\"],[\"Scented Candle\"],[\"Beeswax Candle\"],[\"Pillar Candle\"],[\"Soy Candle\"],[\"Soy Candle\"],[\"Scented Candle\"],[\"Beeswax Candle\"],[\"Soy Candle\"],[\"Beeswax Candle\"],[\"Soy Candle\"],[\"Soy Candle\"],[\"Soy Candle\"],[\"Pillar Candle\"],[\"Soy Candle\"],[\"Beeswax Candle\"],[\"Scented Candle\"],[\"Scented Candle\"],[\"Soy Candle\"],[\"Scented Candle\"],[\"Scented Candle\"],[\"Beeswax Candle\"],[\"Scented Candle\"],[\"Scented Candle\"],[\"Scented Candle\"],[\"Beeswax Candle\"],[\"Scented Candle\"],[\"Beeswax Candle\"],[\"Soy Candle\"],[\"Pillar Candle\"]],\"hovertemplate\":\"Category=Candles<br>Price=%{x}<br>Sales=%{y}<br>ProductName=%{customdata[0]}<extra></extra>\",\"legendgroup\":\"Candles\",\"marker\":{\"color\":\"#B6E880\",\"symbol\":\"circle\"},\"mode\":\"markers\",\"name\":\"Candles\",\"orientation\":\"v\",\"showlegend\":true,\"x\":[460.01,156.4,16.32,281.02,201.05,270.62,159.81,188.69,379.2,340.11,106.16,275.27,42.68,205.59,447.88,175.28,418.27,232.55,409.73,231.35,310.85,367.94,435.4,280.66,269.69,84.21,415.93,105.65,363.81,15.14,16.32,196.67,419.33,43.37,212.93,244.38,266.47,80.05,260.74,13.59],\"xaxis\":\"x\",\"y\":[615,475,290,507,565,1918,28,211,684,876,1942,779,426,327,1689,1912,1503,746,347,1240,1110,390,643,1788,507,941,1553,1113,606,1446,769,1771,880,502,219,196,924,1419,339,8],\"yaxis\":\"y\",\"type\":\"scatter\"},{\"customdata\":[[\"Body Lotion\"],[\"Body Scrub\"],[\"Body Scrub\"],[\"Bath Salts\"],[\"Body Scrub\"],[\"Body Scrub\"],[\"Body Scrub\"],[\"Body Lotion\"],[\"Bath Salts\"],[\"Body Lotion\"],[\"Bath Salts\"],[\"Bath Salts\"],[\"Bath Salts\"],[\"Body Scrub\"],[\"Shower Gel\"],[\"Bath Salts\"],[\"Shower Gel\"],[\"Body Scrub\"],[\"Shower Gel\"],[\"Body Scrub\"],[\"Body Lotion\"],[\"Body Scrub\"],[\"Body Scrub\"],[\"Bath Salts\"],[\"Body Lotion\"],[\"Bath Salts\"],[\"Shower Gel\"],[\"Body Scrub\"],[\"Shower Gel\"],[\"Bath Salts\"],[\"Body Lotion\"],[\"Body Lotion\"],[\"Body Scrub\"],[\"Body Scrub\"],[\"Bath Salts\"],[\"Shower Gel\"],[\"Body Lotion\"],[\"Body Scrub\"],[\"Body Lotion\"],[\"Bath Salts\"]],\"hovertemplate\":\"Category=Bath and body<br>Price=%{x}<br>Sales=%{y}<br>ProductName=%{customdata[0]}<extra></extra>\",\"legendgroup\":\"Bath and body\",\"marker\":{\"color\":\"#FF97FF\",\"symbol\":\"circle\"},\"mode\":\"markers\",\"name\":\"Bath and body\",\"orientation\":\"v\",\"showlegend\":true,\"x\":[480.3,267.2,492.18,348.46,47.61,329.96,481.95,400.78,224.16,438.41,18.17,265.72,213.75,320.07,222.69,247.06,241.15,134.72,212.08,138.05,213.6,73.01,209.61,298.17,457.39,198.52,49.97,17.16,401.34,334.66,112.12,135.53,184.72,112.75,84.17,367.36,111.22,407.92,99.58,131.78],\"xaxis\":\"x\",\"y\":[1448,1735,419,1578,110,322,147,1854,998,562,698,1634,309,1462,626,1878,1906,648,1200,1560,1677,1983,428,1048,1771,1093,755,1191,1843,771,767,375,1781,178,492,697,955,1570,1013,972],\"yaxis\":\"y\",\"type\":\"scatter\"},{\"customdata\":[[\"Dutch Oven\"],[\"Frying Pan\"],[\"Dutch Oven\"],[\"Dutch Oven\"],[\"Dutch Oven\"],[\"Dutch Oven\"],[\"Frying Pan\"],[\"Grill Pan\"],[\"Saucepan\"],[\"Frying Pan\"],[\"Dutch Oven\"],[\"Saucepan\"],[\"Saucepan\"],[\"Frying Pan\"],[\"Frying Pan\"],[\"Saucepan\"],[\"Frying Pan\"],[\"Frying Pan\"],[\"Dutch Oven\"],[\"Frying Pan\"],[\"Frying Pan\"],[\"Dutch Oven\"],[\"Frying Pan\"],[\"Grill Pan\"],[\"Frying Pan\"],[\"Saucepan\"],[\"Saucepan\"],[\"Frying Pan\"],[\"Frying Pan\"],[\"Frying Pan\"],[\"Saucepan\"],[\"Grill Pan\"],[\"Dutch Oven\"],[\"Grill Pan\"],[\"Grill Pan\"],[\"Saucepan\"],[\"Dutch Oven\"],[\"Grill Pan\"],[\"Dutch Oven\"],[\"Dutch Oven\"]],\"hovertemplate\":\"Category=Cookware<br>Price=%{x}<br>Sales=%{y}<br>ProductName=%{customdata[0]}<extra></extra>\",\"legendgroup\":\"Cookware\",\"marker\":{\"color\":\"#FECB52\",\"symbol\":\"circle\"},\"mode\":\"markers\",\"name\":\"Cookware\",\"orientation\":\"v\",\"showlegend\":true,\"x\":[394.69,172.49,96.79,407.85,50.16,361.56,278.97,466.92,187.86,33.13,433.11,488.13,213.77,105.9,32.57,461.14,10.11,364.16,193.66,62.93,177.21,339.08,493.58,432.83,125.03,476.18,152.77,421.6,458.75,103.16,431.23,468.05,256.82,348.71,211.49,29.51,352.8,490.82,320.3,406.05],\"xaxis\":\"x\",\"y\":[133,893,1894,1644,236,1146,1762,1391,1525,1614,1245,1105,596,1296,998,1449,250,124,227,12,1102,70,493,1454,1957,981,1436,1317,1505,178,847,1963,1039,1861,210,793,1590,78,1337,517],\"yaxis\":\"y\",\"type\":\"scatter\"},{\"customdata\":[[\"Nail File\"],[\"Nail Clippers\"],[\"Nail File\"],[\"Nail Polish\"],[\"Nail Polish\"],[\"Nail Polish\"],[\"Nail Clippers\"],[\"Nail Polish\"],[\"Nail Polish\"],[\"Cuticle Oil\"],[\"Cuticle Oil\"],[\"Nail Clippers\"],[\"Nail Polish\"],[\"Nail Polish\"],[\"Nail Polish\"],[\"Nail Clippers\"],[\"Nail Polish\"],[\"Nail File\"],[\"Nail File\"],[\"Nail Polish\"],[\"Nail Clippers\"],[\"Nail File\"],[\"Nail Polish\"],[\"Nail Clippers\"],[\"Nail Polish\"],[\"Nail File\"],[\"Nail Clippers\"],[\"Cuticle Oil\"],[\"Nail Polish\"],[\"Nail Clippers\"],[\"Cuticle Oil\"],[\"Nail Clippers\"],[\"Nail Clippers\"],[\"Nail File\"],[\"Nail Clippers\"],[\"Cuticle Oil\"],[\"Nail File\"],[\"Nail Clippers\"],[\"Nail File\"],[\"Nail File\"]],\"hovertemplate\":\"Category=Nail care<br>Price=%{x}<br>Sales=%{y}<br>ProductName=%{customdata[0]}<extra></extra>\",\"legendgroup\":\"Nail care\",\"marker\":{\"color\":\"#636efa\",\"symbol\":\"circle\"},\"mode\":\"markers\",\"name\":\"Nail care\",\"orientation\":\"v\",\"showlegend\":true,\"x\":[82.77,467.15,240.94,345.1,186.59,53.98,463.77,227.45,303.69,371.58,52.68,249.63,162.97,304.68,206.92,245.34,376.82,404.75,228.9,335.02,387.18,253.65,202.88,184.49,272.32,336.79,55.43,246.31,485.21,170.91,76.82,258.28,462.1,174.8,169.06,393.67,257.41,218.23,59.28,172.89],\"xaxis\":\"x\",\"y\":[1705,1744,12,73,365,1341,1738,1577,131,987,1456,1952,1331,1152,859,1357,1945,1613,86,1206,1532,1269,618,580,1290,1675,957,1108,865,519,803,477,1724,241,38,1321,737,1236,1020,905],\"yaxis\":\"y\",\"type\":\"scatter\"},{\"customdata\":[[\"Thongs\"],[\"Thongs\"],[\"Thongs\"],[\"Boxers\"],[\"Briefs\"],[\"Boxers\"],[\"Panties\"],[\"Thongs\"],[\"Thongs\"],[\"Panties\"],[\"Panties\"],[\"Thongs\"],[\"Boxers\"],[\"Boxers\"],[\"Boxers\"],[\"Panties\"],[\"Boxers\"],[\"Boxers\"],[\"Briefs\"],[\"Briefs\"],[\"Panties\"],[\"Thongs\"],[\"Panties\"],[\"Briefs\"],[\"Thongs\"],[\"Boxers\"],[\"Briefs\"],[\"Thongs\"],[\"Boxers\"],[\"Thongs\"],[\"Briefs\"],[\"Thongs\"],[\"Briefs\"],[\"Briefs\"],[\"Briefs\"],[\"Panties\"],[\"Boxers\"],[\"Boxers\"],[\"Boxers\"],[\"Panties\"]],\"hovertemplate\":\"Category=Underwear<br>Price=%{x}<br>Sales=%{y}<br>ProductName=%{customdata[0]}<extra></extra>\",\"legendgroup\":\"Underwear\",\"marker\":{\"color\":\"#EF553B\",\"symbol\":\"circle\"},\"mode\":\"markers\",\"name\":\"Underwear\",\"orientation\":\"v\",\"showlegend\":true,\"x\":[496.7,425.61,165.84,165.52,17.85,203.1,450.63,341.44,312.14,112.46,20.29,207.49,228.18,172.76,125.44,324.96,426.75,308.02,242.41,340.28,135.64,216.16,361.51,432.85,109.96,206.83,261.46,194.17,230.62,481.09,239.18,447.72,455.34,259.39,168.92,50.46,436.14,407.23,16.96,434.92],\"xaxis\":\"x\",\"y\":[1831,1274,4,1278,1281,782,1798,576,236,615,1755,481,421,1609,521,100,104,1651,1954,58,1262,1103,1237,707,667,44,1784,1320,391,1081,1676,1289,79,631,236,54,200,314,1552,428],\"yaxis\":\"y\",\"type\":\"scatter\"},{\"customdata\":[[\"Oil Filter\"],[\"Oil Filter\"],[\"Brake Pads\"],[\"Spark Plugs\"],[\"Spark Plugs\"],[\"Car Battery\"],[\"Oil Filter\"],[\"Spark Plugs\"],[\"Oil Filter\"],[\"Car Battery\"],[\"Car Battery\"],[\"Car Battery\"],[\"Oil Filter\"],[\"Brake Pads\"],[\"Brake Pads\"],[\"Car Battery\"],[\"Car Battery\"],[\"Oil Filter\"],[\"Brake Pads\"],[\"Brake Pads\"],[\"Spark Plugs\"],[\"Brake Pads\"],[\"Car Battery\"],[\"Oil Filter\"],[\"Brake Pads\"],[\"Brake Pads\"],[\"Spark Plugs\"],[\"Spark Plugs\"],[\"Oil Filter\"],[\"Spark Plugs\"],[\"Brake Pads\"],[\"Spark Plugs\"],[\"Spark Plugs\"],[\"Spark Plugs\"],[\"Spark Plugs\"],[\"Oil Filter\"],[\"Spark Plugs\"],[\"Brake Pads\"],[\"Oil Filter\"],[\"Brake Pads\"]],\"hovertemplate\":\"Category=Motor vehicle parts<br>Price=%{x}<br>Sales=%{y}<br>ProductName=%{customdata[0]}<extra></extra>\",\"legendgroup\":\"Motor vehicle parts\",\"marker\":{\"color\":\"#00cc96\",\"symbol\":\"circle\"},\"mode\":\"markers\",\"name\":\"Motor vehicle parts\",\"orientation\":\"v\",\"showlegend\":true,\"x\":[254.18,54.37,448.91,177.61,80.34,433.08,192.3,279.67,267.79,412.66,104.21,208.5,302.11,235.56,180.43,114.64,434.45,185.74,186.24,210.5,409.89,308.74,173.55,227.87,35.83,159.02,325.51,133.39,139.91,249.39,73.25,76.47,232.42,498.86,119.27,440.87,225.17,219.18,466.42,377.28],\"xaxis\":\"x\",\"y\":[13,1634,1723,640,1903,821,1278,959,677,617,121,1697,325,1602,599,722,1191,813,769,1130,1848,1570,1897,446,394,1875,1813,1778,821,1860,1945,737,636,1893,1187,896,491,1099,1412,1284],\"yaxis\":\"y\",\"type\":\"scatter\"},{\"customdata\":[[\"Charger\"],[\"Charger\"],[\"Screen Protector\"],[\"Charger\"],[\"Screen Protector\"],[\"Earbuds\"],[\"Screen Protector\"],[\"Earbuds\"],[\"Phone Case\"],[\"Phone Case\"],[\"Screen Protector\"],[\"Earbuds\"],[\"Charger\"],[\"Charger\"],[\"Earbuds\"],[\"Earbuds\"],[\"Phone Case\"],[\"Charger\"],[\"Screen Protector\"],[\"Earbuds\"],[\"Earbuds\"],[\"Phone Case\"],[\"Screen Protector\"],[\"Screen Protector\"],[\"Phone Case\"],[\"Charger\"],[\"Charger\"],[\"Phone Case\"],[\"Phone Case\"],[\"Screen Protector\"],[\"Screen Protector\"],[\"Earbuds\"],[\"Earbuds\"],[\"Screen Protector\"],[\"Phone Case\"],[\"Earbuds\"],[\"Earbuds\"],[\"Earbuds\"],[\"Phone Case\"],[\"Phone Case\"]],\"hovertemplate\":\"Category=Mobile phone accessories<br>Price=%{x}<br>Sales=%{y}<br>ProductName=%{customdata[0]}<extra></extra>\",\"legendgroup\":\"Mobile phone accessories\",\"marker\":{\"color\":\"#ab63fa\",\"symbol\":\"circle\"},\"mode\":\"markers\",\"name\":\"Mobile phone accessories\",\"orientation\":\"v\",\"showlegend\":true,\"x\":[331.2,252.05,469.45,319.21,177.77,102.23,34.01,483.61,340.86,382.03,293.59,339.69,479.41,116.69,255.3,291.23,208.68,133.64,454.42,265.23,217.24,277.04,273.27,94.38,99.88,119.57,48.37,438.62,320.26,234.29,95.24,499.68,256.41,265.65,177.69,77.49,395.39,492.03,26.86,360.33],\"xaxis\":\"x\",\"y\":[524,1853,532,1325,1820,1116,1272,839,1837,1148,1622,1984,45,535,1973,1603,177,175,675,35,1132,1487,38,1997,946,540,1194,1597,1884,1922,1555,1075,1055,252,1164,575,811,1590,809,947],\"yaxis\":\"y\",\"type\":\"scatter\"},{\"customdata\":[[\"Throw Blanket\"],[\"Throw Blanket\"],[\"Electric Blanket\"],[\"Fleece Blanket\"],[\"Electric Blanket\"],[\"Fleece Blanket\"],[\"Weighted Blanket\"],[\"Weighted Blanket\"],[\"Throw Blanket\"],[\"Weighted Blanket\"],[\"Weighted Blanket\"],[\"Throw Blanket\"],[\"Electric Blanket\"],[\"Throw Blanket\"],[\"Throw Blanket\"],[\"Throw Blanket\"],[\"Throw Blanket\"],[\"Weighted Blanket\"],[\"Throw Blanket\"],[\"Fleece Blanket\"],[\"Electric Blanket\"],[\"Weighted Blanket\"],[\"Fleece Blanket\"],[\"Electric Blanket\"],[\"Fleece Blanket\"],[\"Throw Blanket\"],[\"Fleece Blanket\"],[\"Throw Blanket\"],[\"Throw Blanket\"],[\"Throw Blanket\"],[\"Throw Blanket\"],[\"Throw Blanket\"],[\"Electric Blanket\"],[\"Fleece Blanket\"],[\"Weighted Blanket\"],[\"Throw Blanket\"],[\"Fleece Blanket\"],[\"Throw Blanket\"],[\"Weighted Blanket\"],[\"Throw Blanket\"]],\"hovertemplate\":\"Category=Blankets<br>Price=%{x}<br>Sales=%{y}<br>ProductName=%{customdata[0]}<extra></extra>\",\"legendgroup\":\"Blankets\",\"marker\":{\"color\":\"#FFA15A\",\"symbol\":\"circle\"},\"mode\":\"markers\",\"name\":\"Blankets\",\"orientation\":\"v\",\"showlegend\":true,\"x\":[438.03,442.17,14.22,217.12,298.33,136.57,37.31,152.59,104.23,271.2,465.67,209.1,336.54,481.48,311.1,118.14,111.33,141.74,311.98,206.17,347.7,404.51,194.73,80.1,177.42,345.37,94.47,383.64,255.92,409.36,48.75,57.35,214.76,61.84,269.34,207.72,268.6,92.74,152.28,136.53],\"xaxis\":\"x\",\"y\":[891,718,1919,527,1712,1770,1711,1946,1269,454,1544,130,614,128,1196,28,63,1218,1172,1452,961,610,219,870,1340,1346,370,386,1969,991,991,1328,1564,56,800,325,1546,1295,1962,1089],\"yaxis\":\"y\",\"type\":\"scatter\"}],                        {\"template\":{\"data\":{\"histogram2dcontour\":[{\"type\":\"histogram2dcontour\",\"colorbar\":{\"outlinewidth\":0,\"ticks\":\"\"},\"colorscale\":[[0.0,\"#0d0887\"],[0.1111111111111111,\"#46039f\"],[0.2222222222222222,\"#7201a8\"],[0.3333333333333333,\"#9c179e\"],[0.4444444444444444,\"#bd3786\"],[0.5555555555555556,\"#d8576b\"],[0.6666666666666666,\"#ed7953\"],[0.7777777777777778,\"#fb9f3a\"],[0.8888888888888888,\"#fdca26\"],[1.0,\"#f0f921\"]]}],\"choropleth\":[{\"type\":\"choropleth\",\"colorbar\":{\"outlinewidth\":0,\"ticks\":\"\"}}],\"histogram2d\":[{\"type\":\"histogram2d\",\"colorbar\":{\"outlinewidth\":0,\"ticks\":\"\"},\"colorscale\":[[0.0,\"#0d0887\"],[0.1111111111111111,\"#46039f\"],[0.2222222222222222,\"#7201a8\"],[0.3333333333333333,\"#9c179e\"],[0.4444444444444444,\"#bd3786\"],[0.5555555555555556,\"#d8576b\"],[0.6666666666666666,\"#ed7953\"],[0.7777777777777778,\"#fb9f3a\"],[0.8888888888888888,\"#fdca26\"],[1.0,\"#f0f921\"]]}],\"heatmap\":[{\"type\":\"heatmap\",\"colorbar\":{\"outlinewidth\":0,\"ticks\":\"\"},\"colorscale\":[[0.0,\"#0d0887\"],[0.1111111111111111,\"#46039f\"],[0.2222222222222222,\"#7201a8\"],[0.3333333333333333,\"#9c179e\"],[0.4444444444444444,\"#bd3786\"],[0.5555555555555556,\"#d8576b\"],[0.6666666666666666,\"#ed7953\"],[0.7777777777777778,\"#fb9f3a\"],[0.8888888888888888,\"#fdca26\"],[1.0,\"#f0f921\"]]}],\"heatmapgl\":[{\"type\":\"heatmapgl\",\"colorbar\":{\"outlinewidth\":0,\"ticks\":\"\"},\"colorscale\":[[0.0,\"#0d0887\"],[0.1111111111111111,\"#46039f\"],[0.2222222222222222,\"#7201a8\"],[0.3333333333333333,\"#9c179e\"],[0.4444444444444444,\"#bd3786\"],[0.5555555555555556,\"#d8576b\"],[0.6666666666666666,\"#ed7953\"],[0.7777777777777778,\"#fb9f3a\"],[0.8888888888888888,\"#fdca26\"],[1.0,\"#f0f921\"]]}],\"contourcarpet\":[{\"type\":\"contourcarpet\",\"colorbar\":{\"outlinewidth\":0,\"ticks\":\"\"}}],\"contour\":[{\"type\":\"contour\",\"colorbar\":{\"outlinewidth\":0,\"ticks\":\"\"},\"colorscale\":[[0.0,\"#0d0887\"],[0.1111111111111111,\"#46039f\"],[0.2222222222222222,\"#7201a8\"],[0.3333333333333333,\"#9c179e\"],[0.4444444444444444,\"#bd3786\"],[0.5555555555555556,\"#d8576b\"],[0.6666666666666666,\"#ed7953\"],[0.7777777777777778,\"#fb9f3a\"],[0.8888888888888888,\"#fdca26\"],[1.0,\"#f0f921\"]]}],\"surface\":[{\"type\":\"surface\",\"colorbar\":{\"outlinewidth\":0,\"ticks\":\"\"},\"colorscale\":[[0.0,\"#0d0887\"],[0.1111111111111111,\"#46039f\"],[0.2222222222222222,\"#7201a8\"],[0.3333333333333333,\"#9c179e\"],[0.4444444444444444,\"#bd3786\"],[0.5555555555555556,\"#d8576b\"],[0.6666666666666666,\"#ed7953\"],[0.7777777777777778,\"#fb9f3a\"],[0.8888888888888888,\"#fdca26\"],[1.0,\"#f0f921\"]]}],\"mesh3d\":[{\"type\":\"mesh3d\",\"colorbar\":{\"outlinewidth\":0,\"ticks\":\"\"}}],\"scatter\":[{\"fillpattern\":{\"fillmode\":\"overlay\",\"size\":10,\"solidity\":0.2},\"type\":\"scatter\"}],\"parcoords\":[{\"type\":\"parcoords\",\"line\":{\"colorbar\":{\"outlinewidth\":0,\"ticks\":\"\"}}}],\"scatterpolargl\":[{\"type\":\"scatterpolargl\",\"marker\":{\"colorbar\":{\"outlinewidth\":0,\"ticks\":\"\"}}}],\"bar\":[{\"error_x\":{\"color\":\"#2a3f5f\"},\"error_y\":{\"color\":\"#2a3f5f\"},\"marker\":{\"line\":{\"color\":\"#E5ECF6\",\"width\":0.5},\"pattern\":{\"fillmode\":\"overlay\",\"size\":10,\"solidity\":0.2}},\"type\":\"bar\"}],\"scattergeo\":[{\"type\":\"scattergeo\",\"marker\":{\"colorbar\":{\"outlinewidth\":0,\"ticks\":\"\"}}}],\"scatterpolar\":[{\"type\":\"scatterpolar\",\"marker\":{\"colorbar\":{\"outlinewidth\":0,\"ticks\":\"\"}}}],\"histogram\":[{\"marker\":{\"pattern\":{\"fillmode\":\"overlay\",\"size\":10,\"solidity\":0.2}},\"type\":\"histogram\"}],\"scattergl\":[{\"type\":\"scattergl\",\"marker\":{\"colorbar\":{\"outlinewidth\":0,\"ticks\":\"\"}}}],\"scatter3d\":[{\"type\":\"scatter3d\",\"line\":{\"colorbar\":{\"outlinewidth\":0,\"ticks\":\"\"}},\"marker\":{\"colorbar\":{\"outlinewidth\":0,\"ticks\":\"\"}}}],\"scattermapbox\":[{\"type\":\"scattermapbox\",\"marker\":{\"colorbar\":{\"outlinewidth\":0,\"ticks\":\"\"}}}],\"scatterternary\":[{\"type\":\"scatterternary\",\"marker\":{\"colorbar\":{\"outlinewidth\":0,\"ticks\":\"\"}}}],\"scattercarpet\":[{\"type\":\"scattercarpet\",\"marker\":{\"colorbar\":{\"outlinewidth\":0,\"ticks\":\"\"}}}],\"carpet\":[{\"aaxis\":{\"endlinecolor\":\"#2a3f5f\",\"gridcolor\":\"white\",\"linecolor\":\"white\",\"minorgridcolor\":\"white\",\"startlinecolor\":\"#2a3f5f\"},\"baxis\":{\"endlinecolor\":\"#2a3f5f\",\"gridcolor\":\"white\",\"linecolor\":\"white\",\"minorgridcolor\":\"white\",\"startlinecolor\":\"#2a3f5f\"},\"type\":\"carpet\"}],\"table\":[{\"cells\":{\"fill\":{\"color\":\"#EBF0F8\"},\"line\":{\"color\":\"white\"}},\"header\":{\"fill\":{\"color\":\"#C8D4E3\"},\"line\":{\"color\":\"white\"}},\"type\":\"table\"}],\"barpolar\":[{\"marker\":{\"line\":{\"color\":\"#E5ECF6\",\"width\":0.5},\"pattern\":{\"fillmode\":\"overlay\",\"size\":10,\"solidity\":0.2}},\"type\":\"barpolar\"}],\"pie\":[{\"automargin\":true,\"type\":\"pie\"}]},\"layout\":{\"autotypenumbers\":\"strict\",\"colorway\":[\"#636efa\",\"#EF553B\",\"#00cc96\",\"#ab63fa\",\"#FFA15A\",\"#19d3f3\",\"#FF6692\",\"#B6E880\",\"#FF97FF\",\"#FECB52\"],\"font\":{\"color\":\"#2a3f5f\"},\"hovermode\":\"closest\",\"hoverlabel\":{\"align\":\"left\"},\"paper_bgcolor\":\"white\",\"plot_bgcolor\":\"#E5ECF6\",\"polar\":{\"bgcolor\":\"#E5ECF6\",\"angularaxis\":{\"gridcolor\":\"white\",\"linecolor\":\"white\",\"ticks\":\"\"},\"radialaxis\":{\"gridcolor\":\"white\",\"linecolor\":\"white\",\"ticks\":\"\"}},\"ternary\":{\"bgcolor\":\"#E5ECF6\",\"aaxis\":{\"gridcolor\":\"white\",\"linecolor\":\"white\",\"ticks\":\"\"},\"baxis\":{\"gridcolor\":\"white\",\"linecolor\":\"white\",\"ticks\":\"\"},\"caxis\":{\"gridcolor\":\"white\",\"linecolor\":\"white\",\"ticks\":\"\"}},\"coloraxis\":{\"colorbar\":{\"outlinewidth\":0,\"ticks\":\"\"}},\"colorscale\":{\"sequential\":[[0.0,\"#0d0887\"],[0.1111111111111111,\"#46039f\"],[0.2222222222222222,\"#7201a8\"],[0.3333333333333333,\"#9c179e\"],[0.4444444444444444,\"#bd3786\"],[0.5555555555555556,\"#d8576b\"],[0.6666666666666666,\"#ed7953\"],[0.7777777777777778,\"#fb9f3a\"],[0.8888888888888888,\"#fdca26\"],[1.0,\"#f0f921\"]],\"sequentialminus\":[[0.0,\"#0d0887\"],[0.1111111111111111,\"#46039f\"],[0.2222222222222222,\"#7201a8\"],[0.3333333333333333,\"#9c179e\"],[0.4444444444444444,\"#bd3786\"],[0.5555555555555556,\"#d8576b\"],[0.6666666666666666,\"#ed7953\"],[0.7777777777777778,\"#fb9f3a\"],[0.8888888888888888,\"#fdca26\"],[1.0,\"#f0f921\"]],\"diverging\":[[0,\"#8e0152\"],[0.1,\"#c51b7d\"],[0.2,\"#de77ae\"],[0.3,\"#f1b6da\"],[0.4,\"#fde0ef\"],[0.5,\"#f7f7f7\"],[0.6,\"#e6f5d0\"],[0.7,\"#b8e186\"],[0.8,\"#7fbc41\"],[0.9,\"#4d9221\"],[1,\"#276419\"]]},\"xaxis\":{\"gridcolor\":\"white\",\"linecolor\":\"white\",\"ticks\":\"\",\"title\":{\"standoff\":15},\"zerolinecolor\":\"white\",\"automargin\":true,\"zerolinewidth\":2},\"yaxis\":{\"gridcolor\":\"white\",\"linecolor\":\"white\",\"ticks\":\"\",\"title\":{\"standoff\":15},\"zerolinecolor\":\"white\",\"automargin\":true,\"zerolinewidth\":2},\"scene\":{\"xaxis\":{\"backgroundcolor\":\"#E5ECF6\",\"gridcolor\":\"white\",\"linecolor\":\"white\",\"showbackground\":true,\"ticks\":\"\",\"zerolinecolor\":\"white\",\"gridwidth\":2},\"yaxis\":{\"backgroundcolor\":\"#E5ECF6\",\"gridcolor\":\"white\",\"linecolor\":\"white\",\"showbackground\":true,\"ticks\":\"\",\"zerolinecolor\":\"white\",\"gridwidth\":2},\"zaxis\":{\"backgroundcolor\":\"#E5ECF6\",\"gridcolor\":\"white\",\"linecolor\":\"white\",\"showbackground\":true,\"ticks\":\"\",\"zerolinecolor\":\"white\",\"gridwidth\":2}},\"shapedefaults\":{\"line\":{\"color\":\"#2a3f5f\"}},\"annotationdefaults\":{\"arrowcolor\":\"#2a3f5f\",\"arrowhead\":0,\"arrowwidth\":1},\"geo\":{\"bgcolor\":\"white\",\"landcolor\":\"#E5ECF6\",\"subunitcolor\":\"white\",\"showland\":true,\"showlakes\":true,\"lakecolor\":\"white\"},\"title\":{\"x\":0.05},\"mapbox\":{\"style\":\"light\"}}},\"xaxis\":{\"anchor\":\"y\",\"domain\":[0.0,1.0],\"title\":{\"text\":\"Price\"}},\"yaxis\":{\"anchor\":\"x\",\"domain\":[0.0,1.0],\"title\":{\"text\":\"Sales\"}},\"legend\":{\"title\":{\"text\":\"Category\"},\"tracegroupgap\":0},\"margin\":{\"t\":60},\"title\":{\"text\":\"Price vs. Sales by Category\"}},                        {\"responsive\": true}                    ).then(function(){\n",
       "                            \n",
       "var gd = document.getElementById('64133538-f780-4323-9867-ae84d193ec33');\n",
       "var x = new MutationObserver(function (mutations, observer) {{\n",
       "        var display = window.getComputedStyle(gd).display;\n",
       "        if (!display || display === 'none') {{\n",
       "            console.log([gd, 'removed!']);\n",
       "            Plotly.purge(gd);\n",
       "            observer.disconnect();\n",
       "        }}\n",
       "}});\n",
       "\n",
       "// Listen for the removal of the full notebook cells\n",
       "var notebookContainer = gd.closest('#notebook-container');\n",
       "if (notebookContainer) {{\n",
       "    x.observe(notebookContainer, {childList: true});\n",
       "}}\n",
       "\n",
       "// Listen for the clearing of the current output cell\n",
       "var outputEl = gd.closest('.output');\n",
       "if (outputEl) {{\n",
       "    x.observe(outputEl, {childList: true});\n",
       "}}\n",
       "\n",
       "                        })                };                });            </script>        </div>"
      ]
     },
     "metadata": {},
     "output_type": "display_data"
    }
   ],
   "source": [
    "# Visualizations\n",
    "\n",
    "# Distribution of Ratings\n",
    "plt.figure(figsize=(10, 6))\n",
    "sns.histplot(df['Rating'], kde=True, bins=10)\n",
    "plt.title('Distribution of Ratings')\n",
    "plt.xlabel('Rating')\n",
    "plt.ylabel('Frequency')\n",
    "plt.show()\n",
    "\n",
    "\n",
    "# Sales Over Time\n",
    "plt.figure(figsize=(14, 7))\n",
    "df.groupby('DateAdded')['Sales'].sum().plot()\n",
    "plt.title('Sales Over Time')\n",
    "plt.xlabel('Date')\n",
    "plt.ylabel('Sales')\n",
    "plt.show()\n",
    "\n",
    "# Interactive Plot with Plotly: Price vs. Sales by Category\n",
    "fig = px.scatter(df, x='Price', y='Sales', color='Category', hover_data=['ProductName'])\n",
    "fig.update_layout(title='Price vs. Sales by Category', xaxis_title='Price', yaxis_title='Sales')\n",
    "fig.show()"
   ]
  },
  {
   "cell_type": "code",
   "execution_count": 26,
   "id": "4f07ebe9-6f41-448a-ae5f-85e8bbd330ef",
   "metadata": {},
   "outputs": [
    {
     "name": "stdout",
     "output_type": "stream",
     "text": [
      "First few rows of the dataset:\n",
      "   ProductID ProductName     Category   Price  Rating  NumReviews  \\\n",
      "0          1  Headphones  Electronics  400.31     1.7        3772   \n",
      "1          2  Headphones  Electronics  235.03     2.3        2919   \n",
      "2          3  Smartwatch  Electronics  417.90     1.8        1184   \n",
      "3          4  Smartphone  Electronics  152.70     3.4        2047   \n",
      "4          5      Laptop  Electronics  394.74     1.8        1267   \n",
      "\n",
      "   StockQuantity  Discount  Sales   DateAdded  \n",
      "0             20      0.08    466  2023-11-08  \n",
      "1            663      0.33   1332  2023-09-26  \n",
      "2            459      0.31    252  2023-10-18  \n",
      "3            475      0.49   1806  2023-12-03  \n",
      "4            831      0.23   1508  2023-08-08  \n",
      "\n",
      "Summary statistics:\n",
      "         ProductID       Price       Rating   NumReviews  StockQuantity  \\\n",
      "count  1000.000000  1000.00000  1000.000000  1000.000000    1000.000000   \n",
      "mean    500.500000   253.77551     3.025600  2498.753000     495.395000   \n",
      "std     288.819436   141.40362     1.151004  1463.241871     292.799253   \n",
      "min       1.000000    10.11000     1.000000     3.000000       0.000000   \n",
      "25%     250.750000   133.09250     2.100000  1201.750000     241.750000   \n",
      "50%     500.500000   251.31000     3.100000  2476.000000     505.000000   \n",
      "75%     750.250000   375.82750     4.000000  3797.500000     743.500000   \n",
      "max    1000.000000   499.74000     5.000000  4994.000000     993.000000   \n",
      "\n",
      "          Discount        Sales  \n",
      "count  1000.000000  1000.000000  \n",
      "mean      0.251640  1011.037000  \n",
      "std       0.146455   582.113466  \n",
      "min       0.000000     0.000000  \n",
      "25%       0.130000   502.000000  \n",
      "50%       0.250000   998.000000  \n",
      "75%       0.380000  1540.000000  \n",
      "max       0.500000  1997.000000  \n",
      "\n",
      "Dataset info:\n",
      "<class 'pandas.core.frame.DataFrame'>\n",
      "RangeIndex: 1000 entries, 0 to 999\n",
      "Data columns (total 10 columns):\n",
      " #   Column         Non-Null Count  Dtype  \n",
      "---  ------         --------------  -----  \n",
      " 0   ProductID      1000 non-null   int64  \n",
      " 1   ProductName    1000 non-null   object \n",
      " 2   Category       1000 non-null   object \n",
      " 3   Price          1000 non-null   float64\n",
      " 4   Rating         1000 non-null   float64\n",
      " 5   NumReviews     1000 non-null   int64  \n",
      " 6   StockQuantity  1000 non-null   int64  \n",
      " 7   Discount       1000 non-null   float64\n",
      " 8   Sales          1000 non-null   int64  \n",
      " 9   DateAdded      1000 non-null   object \n",
      "dtypes: float64(3), int64(4), object(3)\n",
      "memory usage: 78.3+ KB\n",
      "None\n",
      "\n",
      "Missing values:\n",
      "ProductID        0\n",
      "ProductName      0\n",
      "Category         0\n",
      "Price            0\n",
      "Rating           0\n",
      "NumReviews       0\n",
      "StockQuantity    0\n",
      "Discount         0\n",
      "Sales            0\n",
      "DateAdded        0\n",
      "dtype: int64\n",
      "\n",
      "Cleaned data preview:\n",
      "   ProductID ProductName     Category   Price  Rating  NumReviews  \\\n",
      "0          1  Headphones  Electronics  400.31     1.7        3772   \n",
      "1          2  Headphones  Electronics  235.03     2.3        2919   \n",
      "2          3  Smartwatch  Electronics  417.90     1.8        1184   \n",
      "3          4  Smartphone  Electronics  152.70     3.4        2047   \n",
      "4          5      Laptop  Electronics  394.74     1.8        1267   \n",
      "\n",
      "   StockQuantity  Discount  Sales  DateAdded  \n",
      "0             20      0.08    466 2023-11-08  \n",
      "1            663      0.33   1332 2023-09-26  \n",
      "2            459      0.31    252 2023-10-18  \n",
      "3            475      0.49   1806 2023-12-03  \n",
      "4            831      0.23   1508 2023-08-08  \n",
      "\n",
      "Total Sales: 1011037\n",
      "Average Sales: 1011.04\n",
      "\n",
      "Total Sales by Category:\n",
      "                      Category  Sales\n",
      "2                    Bedsheets  46631\n",
      "0   Art and crafting materials  45912\n",
      "15         Motor vehicle parts  45116\n",
      "23    Vitamins and supplements  44402\n",
      "14    Mobile phone accessories  43660\n",
      "11                 Electronics  42844\n",
      "3                     Bicycles  42750\n",
      "1                Bath and body  42454\n",
      "13                      Makeup  42337\n",
      "21                Toys & Games  42295\n",
      "20                       Socks  41812\n",
      "16                   Nail care  41545\n",
      "5                        Books  41215\n",
      "19                   Skin care  40889\n",
      "4                     Blankets  40480\n",
      "9                     Cookware  40268\n",
      "10                   Drinkware  39870\n",
      "7                     Clothing  37672\n",
      "18         Posters and artwork  36588\n",
      "24                        Wine  36352\n",
      "17         Perfume and cologne  35940\n",
      "12              Home & Kitchen  35777\n",
      "8            Coats and jackets  35640\n",
      "22                   Underwear  34384\n",
      "6                      Candles  34204\n"
     ]
    }
   ],
   "source": [
    "import numpy as np\n",
    "import pandas as pd\n",
    "import matplotlib.pyplot as plt\n",
    "import seaborn as sns\n",
    "import plotly.express as px\n",
    "import plotly.graph_objects as go\n",
    "from plotly.subplots import make_subplots\n",
    "\n",
    "# Load dataset\n",
    "df = pd.read_csv('e-commerce_data.csv')\n",
    "\n",
    "# Display first few rows\n",
    "print(\"First few rows of the dataset:\")\n",
    "print(df.head())\n",
    "\n",
    "# Display summary statistics\n",
    "print(\"\\nSummary statistics:\")\n",
    "print(df.describe())\n",
    "\n",
    "# Display dataset information\n",
    "print(\"\\nDataset info:\")\n",
    "print(df.info())\n",
    "\n",
    "# Check for missing values\n",
    "print(\"\\nMissing values:\")\n",
    "print(df.isnull().sum())\n",
    "\n",
    "# Data cleaning\n",
    "df = df.dropna()  # Dropping rows with missing values for simplicity\n",
    "\n",
    "# Convert 'DateAdded' to datetime\n",
    "df['DateAdded'] = pd.to_datetime(df['DateAdded'])\n",
    "\n",
    "# Preview cleaned data\n",
    "print(\"\\nCleaned data preview:\")\n",
    "print(df.head())\n",
    "\n",
    "# Calculate total sales and average sales\n",
    "total_sales = df['Sales'].sum()\n",
    "average_sales = df['Sales'].mean()\n",
    "\n",
    "print(f\"\\nTotal Sales: {total_sales}\")\n",
    "print(f\"Average Sales: {average_sales:.2f}\")\n",
    "\n",
    "# Calculate total sales by category\n",
    "total_sales_by_category = df.groupby('Category')['Sales'].sum().reset_index()\n",
    "total_sales_by_category = total_sales_by_category.sort_values(by='Sales', ascending=False)\n",
    "\n",
    "print(\"\\nTotal Sales by Category:\")\n",
    "print(total_sales_by_category)\n",
    "\n",
    "\n"
   ]
  },
  {
   "cell_type": "code",
   "execution_count": 23,
   "id": "817c0cd3-540d-41cc-b108-050e91ac3073",
   "metadata": {},
   "outputs": [
    {
     "data": {
      "image/png": "[encoded data removed]",
      "text/plain": [
       "<Figure size 1400x700 with 1 Axes>"
      ]
     },
     "metadata": {},
     "output_type": "display_data"
    },
    {
     "data": {
      "application/vnd.plotly.v1+json": {
       "config": {
        "plotlyServerURL": "https://plot.ly"
       },
       "data": [
        {
         "alignmentgroup": "True",
         "hovertemplate": "Category=%{x}<br>Total Sales=%{y}<extra></extra>",
         "legendgroup": "",
         "marker": {
          "color": "#636efa",
          "pattern": {
           "shape": ""
          }
         },
         "name": "",
         "offsetgroup": "",
         "orientation": "v",
         "showlegend": false,
         "textposition": "auto",
         "type": "bar",
         "x": [
          "Bedsheets",
          "Art and crafting materials",
          "Motor vehicle parts",
          "Vitamins and supplements",
          "Mobile phone accessories",
          "Electronics",
          "Bicycles",
          "Bath and body",
          "Makeup",
          "Toys & Games",
          "Socks",
          "Nail care",
          "Books",
          "Skin care",
          "Blankets",
          "Cookware",
          "Drinkware",
          "Clothing",
          "Posters and artwork",
          "Wine",
          "Perfume and cologne",
          "Home & Kitchen",
          "Coats and jackets",
          "Underwear",
          "Candles"
         ],
         "xaxis": "x",
         "y": [
          46631,
          45912,
          45116,
          44402,
          43660,
          42844,
          42750,
          42454,
          42337,
          42295,
          41812,
          41545,
          41215,
          40889,
          40480,
          40268,
          39870,
          37672,
          36588,
          36352,
          35940,
          35777,
          35640,
          34384,
          34204
         ],
         "yaxis": "y"
        }
       ],
       "layout": {
        "autosize": true,
        "barmode": "relative",
        "legend": {
         "tracegroupgap": 0
        },
        "template": {
         "data": {
          "bar": [
           {
            "error_x": {
             "color": "#2a3f5f"
            },
            "error_y": {
             "color": "#2a3f5f"
            },
            "marker": {
             "line": {
              "color": "#E5ECF6",
              "width": 0.5
             },
             "pattern": {
              "fillmode": "overlay",
              "size": 10,
              "solidity": 0.2
             }
            },
            "type": "bar"
           }
          ],
          "barpolar": [
           {
            "marker": {
             "line": {
              "color": "#E5ECF6",
              "width": 0.5
             },
             "pattern": {
              "fillmode": "overlay",
              "size": 10,
              "solidity": 0.2
             }
            },
            "type": "barpolar"
           }
          ],
          "carpet": [
           {
            "aaxis": {
             "endlinecolor": "#2a3f5f",
             "gridcolor": "white",
             "linecolor": "white",
             "minorgridcolor": "white",
             "startlinecolor": "#2a3f5f"
            },
            "baxis": {
             "endlinecolor": "#2a3f5f",
             "gridcolor": "white",
             "linecolor": "white",
             "minorgridcolor": "white",
             "startlinecolor": "#2a3f5f"
            },
            "type": "carpet"
           }
          ],
          "choropleth": [
           {
            "colorbar": {
             "outlinewidth": 0,
             "ticks": ""
            },
            "type": "choropleth"
           }
          ],
          "contour": [
           {
            "colorbar": {
             "outlinewidth": 0,
             "ticks": ""
            },
            "colorscale": [
             [
              0,
              "#0d0887"
             ],
             [
              0.1111111111111111,
              "#46039f"
             ],
             [
              0.2222222222222222,
              "#7201a8"
             ],
             [
              0.3333333333333333,
              "#9c179e"
             ],
             [
              0.4444444444444444,
              "#bd3786"
             ],
             [
              0.5555555555555556,
              "#d8576b"
             ],
             [
              0.6666666666666666,
              "#ed7953"
             ],
             [
              0.7777777777777778,
              "#fb9f3a"
             ],
             [
              0.8888888888888888,
              "#fdca26"
             ],
             [
              1,
              "#f0f921"
             ]
            ],
            "type": "contour"
           }
          ],
          "contourcarpet": [
           {
            "colorbar": {
             "outlinewidth": 0,
             "ticks": ""
            },
            "type": "contourcarpet"
           }
          ],
          "heatmap": [
           {
            "colorbar": {
             "outlinewidth": 0,
             "ticks": ""
            },
            "colorscale": [
             [
              0,
              "#0d0887"
             ],
             [
              0.1111111111111111,
              "#46039f"
             ],
             [
              0.2222222222222222,
              "#7201a8"
             ],
             [
              0.3333333333333333,
              "#9c179e"
             ],
             [
              0.4444444444444444,
              "#bd3786"
             ],
             [
              0.5555555555555556,
              "#d8576b"
             ],
             [
              0.6666666666666666,
              "#ed7953"
             ],
             [
              0.7777777777777778,
              "#fb9f3a"
             ],
             [
              0.8888888888888888,
              "#fdca26"
             ],
             [
              1,
              "#f0f921"
             ]
            ],
            "type": "heatmap"
           }
          ],
          "heatmapgl": [
           {
            "colorbar": {
             "outlinewidth": 0,
             "ticks": ""
            },
            "colorscale": [
             [
              0,
              "#0d0887"
             ],
             [
              0.1111111111111111,
              "#46039f"
             ],
             [
              0.2222222222222222,
              "#7201a8"
             ],
             [
              0.3333333333333333,
              "#9c179e"
             ],
             [
              0.4444444444444444,
              "#bd3786"
             ],
             [
              0.5555555555555556,
              "#d8576b"
             ],
             [
              0.6666666666666666,
              "#ed7953"
             ],
             [
              0.7777777777777778,
              "#fb9f3a"
             ],
             [
              0.8888888888888888,
              "#fdca26"
             ],
             [
              1,
              "#f0f921"
             ]
            ],
            "type": "heatmapgl"
           }
          ],
          "histogram": [
           {
            "marker": {
             "pattern": {
              "fillmode": "overlay",
              "size": 10,
              "solidity": 0.2
             }
            },
            "type": "histogram"
           }
          ],
          "histogram2d": [
           {
            "colorbar": {
             "outlinewidth": 0,
             "ticks": ""
            },
            "colorscale": [
             [
              0,
              "#0d0887"
             ],
             [
              0.1111111111111111,
              "#46039f"
             ],
             [
              0.2222222222222222,
              "#7201a8"
             ],
             [
              0.3333333333333333,
              "#9c179e"
             ],
             [
              0.4444444444444444,
              "#bd3786"
             ],
             [
              0.5555555555555556,
              "#d8576b"
             ],
             [
              0.6666666666666666,
              "#ed7953"
             ],
             [
              0.7777777777777778,
              "#fb9f3a"
             ],
             [
              0.8888888888888888,
              "#fdca26"
             ],
             [
              1,
              "#f0f921"
             ]
            ],
            "type": "histogram2d"
           }
          ],
          "histogram2dcontour": [
           {
            "colorbar": {
             "outlinewidth": 0,
             "ticks": ""
            },
            "colorscale": [
             [
              0,
              "#0d0887"
             ],
             [
              0.1111111111111111,
              "#46039f"
             ],
             [
              0.2222222222222222,
              "#7201a8"
             ],
             [
              0.3333333333333333,
              "#9c179e"
             ],
             [
              0.4444444444444444,
              "#bd3786"
             ],
             [
              0.5555555555555556,
              "#d8576b"
             ],
             [
              0.6666666666666666,
              "#ed7953"
             ],
             [
              0.7777777777777778,
              "#fb9f3a"
             ],
             [
              0.8888888888888888,
              "#fdca26"
             ],
             [
              1,
              "#f0f921"
             ]
            ],
            "type": "histogram2dcontour"
           }
          ],
          "mesh3d": [
           {
            "colorbar": {
             "outlinewidth": 0,
             "ticks": ""
            },
            "type": "mesh3d"
           }
          ],
          "parcoords": [
           {
            "line": {
             "colorbar": {
              "outlinewidth": 0,
              "ticks": ""
             }
            },
            "type": "parcoords"
           }
          ],
          "pie": [
           {
            "automargin": true,
            "type": "pie"
           }
          ],
          "scatter": [
           {
            "fillpattern": {
             "fillmode": "overlay",
             "size": 10,
             "solidity": 0.2
            },
            "type": "scatter"
           }
          ],
          "scatter3d": [
           {
            "line": {
             "colorbar": {
              "outlinewidth": 0,
              "ticks": ""
             }
            },
            "marker": {
             "colorbar": {
              "outlinewidth": 0,
              "ticks": ""
             }
            },
            "type": "scatter3d"
           }
          ],
          "scattercarpet": [
           {
            "marker": {
             "colorbar": {
              "outlinewidth": 0,
              "ticks": ""
             }
            },
            "type": "scattercarpet"
           }
          ],
          "scattergeo": [
           {
            "marker": {
             "colorbar": {
              "outlinewidth": 0,
              "ticks": ""
             }
            },
            "type": "scattergeo"
           }
          ],
          "scattergl": [
           {
            "marker": {
             "colorbar": {
              "outlinewidth": 0,
              "ticks": ""
             }
            },
            "type": "scattergl"
           }
          ],
          "scattermapbox": [
           {
            "marker": {
             "colorbar": {
              "outlinewidth": 0,
              "ticks": ""
             }
            },
            "type": "scattermapbox"
           }
          ],
          "scatterpolar": [
           {
            "marker": {
             "colorbar": {
              "outlinewidth": 0,
              "ticks": ""
             }
            },
            "type": "scatterpolar"
           }
          ],
          "scatterpolargl": [
           {
            "marker": {
             "colorbar": {
              "outlinewidth": 0,
              "ticks": ""
             }
            },
            "type": "scatterpolargl"
           }
          ],
          "scatterternary": [
           {
            "marker": {
             "colorbar": {
              "outlinewidth": 0,
              "ticks": ""
             }
            },
            "type": "scatterternary"
           }
          ],
          "surface": [
           {
            "colorbar": {
             "outlinewidth": 0,
             "ticks": ""
            },
            "colorscale": [
             [
              0,
              "#0d0887"
             ],
             [
              0.1111111111111111,
              "#46039f"
             ],
             [
              0.2222222222222222,
              "#7201a8"
             ],
             [
              0.3333333333333333,
              "#9c179e"
             ],
             [
              0.4444444444444444,
              "#bd3786"
             ],
             [
              0.5555555555555556,
              "#d8576b"
             ],
             [
              0.6666666666666666,
              "#ed7953"
             ],
             [
              0.7777777777777778,
              "#fb9f3a"
             ],
             [
              0.8888888888888888,
              "#fdca26"
             ],
             [
              1,
              "#f0f921"
             ]
            ],
            "type": "surface"
           }
          ],
          "table": [
           {
            "cells": {
             "fill": {
              "color": "#EBF0F8"
             },
             "line": {
              "color": "white"
             }
            },
            "header": {
             "fill": {
              "color": "#C8D4E3"
             },
             "line": {
              "color": "white"
             }
            },
            "type": "table"
           }
          ]
         },
         "layout": {
          "annotationdefaults": {
           "arrowcolor": "#2a3f5f",
           "arrowhead": 0,
           "arrowwidth": 1
          },
          "autotypenumbers": "strict",
          "coloraxis": {
           "colorbar": {
            "outlinewidth": 0,
            "ticks": ""
           }
          },
          "colorscale": {
           "diverging": [
            [
             0,
             "#8e0152"
            ],
            [
             0.1,
             "#c51b7d"
            ],
            [
             0.2,
             "#de77ae"
            ],
            [
             0.3,
             "#f1b6da"
            ],
            [
             0.4,
             "#fde0ef"
            ],
            [
             0.5,
             "#f7f7f7"
            ],
            [
             0.6,
             "#e6f5d0"
            ],
            [
             0.7,
             "#b8e186"
            ],
            [
             0.8,
             "#7fbc41"
            ],
            [
             0.9,
             "#4d9221"
            ],
            [
             1,
             "#276419"
            ]
           ],
           "sequential": [
            [
             0,
             "#0d0887"
            ],
            [
             0.1111111111111111,
             "#46039f"
            ],
            [
             0.2222222222222222,
             "#7201a8"
            ],
            [
             0.3333333333333333,
             "#9c179e"
            ],
            [
             0.4444444444444444,
             "#bd3786"
            ],
            [
             0.5555555555555556,
             "#d8576b"
            ],
            [
             0.6666666666666666,
             "#ed7953"
            ],
            [
             0.7777777777777778,
             "#fb9f3a"
            ],
            [
             0.8888888888888888,
             "#fdca26"
            ],
            [
             1,
             "#f0f921"
            ]
           ],
           "sequentialminus": [
            [
             0,
             "#0d0887"
            ],
            [
             0.1111111111111111,
             "#46039f"
            ],
            [
             0.2222222222222222,
             "#7201a8"
            ],
            [
             0.3333333333333333,
             "#9c179e"
            ],
            [
             0.4444444444444444,
             "#bd3786"
            ],
            [
             0.5555555555555556,
             "#d8576b"
            ],
            [
             0.6666666666666666,
             "#ed7953"
            ],
            [
             0.7777777777777778,
             "#fb9f3a"
            ],
            [
             0.8888888888888888,
             "#fdca26"
            ],
            [
             1,
             "#f0f921"
            ]
           ]
          },
          "colorway": [
           "#636efa",
           "#EF553B",
           "#00cc96",
           "#ab63fa",
           "#FFA15A",
           "#19d3f3",
           "#FF6692",
           "#B6E880",
           "#FF97FF",
           "#FECB52"
          ],
          "font": {
           "color": "#2a3f5f"
          },
          "geo": {
           "bgcolor": "white",
           "lakecolor": "white",
           "landcolor": "#E5ECF6",
           "showlakes": true,
           "showland": true,
           "subunitcolor": "white"
          },
          "hoverlabel": {
           "align": "left"
          },
          "hovermode": "closest",
          "mapbox": {
           "style": "light"
          },
          "paper_bgcolor": "white",
          "plot_bgcolor": "#E5ECF6",
          "polar": {
           "angularaxis": {
            "gridcolor": "white",
            "linecolor": "white",
            "ticks": ""
           },
           "bgcolor": "#E5ECF6",
           "radialaxis": {
            "gridcolor": "white",
            "linecolor": "white",
            "ticks": ""
           }
          },
          "scene": {
           "xaxis": {
            "backgroundcolor": "#E5ECF6",
            "gridcolor": "white",
            "gridwidth": 2,
            "linecolor": "white",
            "showbackground": true,
            "ticks": "",
            "zerolinecolor": "white"
           },
           "yaxis": {
            "backgroundcolor": "#E5ECF6",
            "gridcolor": "white",
            "gridwidth": 2,
            "linecolor": "white",
            "showbackground": true,
            "ticks": "",
            "zerolinecolor": "white"
           },
           "zaxis": {
            "backgroundcolor": "#E5ECF6",
            "gridcolor": "white",
            "gridwidth": 2,
            "linecolor": "white",
            "showbackground": true,
            "ticks": "",
            "zerolinecolor": "white"
           }
          },
          "shapedefaults": {
           "line": {
            "color": "#2a3f5f"
           }
          },
          "ternary": {
           "aaxis": {
            "gridcolor": "white",
            "linecolor": "white",
            "ticks": ""
           },
           "baxis": {
            "gridcolor": "white",
            "linecolor": "white",
            "ticks": ""
           },
           "bgcolor": "#E5ECF6",
           "caxis": {
            "gridcolor": "white",
            "linecolor": "white",
            "ticks": ""
           }
          },
          "title": {
           "x": 0.05
          },
          "xaxis": {
           "automargin": true,
           "gridcolor": "white",
           "linecolor": "white",
           "ticks": "",
           "title": {
            "standoff": 15
           },
           "zerolinecolor": "white",
           "zerolinewidth": 2
          },
          "yaxis": {
           "automargin": true,
           "gridcolor": "white",
           "linecolor": "white",
           "ticks": "",
           "title": {
            "standoff": 15
           },
           "zerolinecolor": "white",
           "zerolinewidth": 2
          }
         }
        },
        "title": {
         "text": "Total Sales by Category"
        },
        "xaxis": {
         "anchor": "y",
         "autorange": true,
         "categoryorder": "total descending",
         "domain": [
          0,
          1
         ],
         "range": [
          -0.5,
          24.5
         ],
         "title": {
          "text": "Category"
         },
         "type": "category"
        },
        "yaxis": {
         "anchor": "x",
         "autorange": true,
         "domain": [
          0,
          1
         ],
         "range": [
          0,
          49085.26315789474
         ],
         "title": {
          "text": "Total Sales"
         },
         "type": "linear"
        }
       }
      },
      "image/png": "[encoded data removed]",
      "text/html": [
       "<div>                            <div id=\"f0ffaedb-082d-4f9a-8577-305e87e963a7\" class=\"plotly-graph-div\" style=\"height:525px; width:100%;\"></div>            <script type=\"text/javascript\">                require([\"plotly\"], function(Plotly) {                    window.PLOTLYENV=window.PLOTLYENV || {};                                    if (document.getElementById(\"f0ffaedb-082d-4f9a-8577-305e87e963a7\")) {                    Plotly.newPlot(                        \"f0ffaedb-082d-4f9a-8577-305e87e963a7\",                        [{\"alignmentgroup\":\"True\",\"hovertemplate\":\"Category=%{x}<br>Total Sales=%{y}<extra></extra>\",\"legendgroup\":\"\",\"marker\":{\"color\":\"#636efa\",\"pattern\":{\"shape\":\"\"}},\"name\":\"\",\"offsetgroup\":\"\",\"orientation\":\"v\",\"showlegend\":false,\"textposition\":\"auto\",\"x\":[\"Bedsheets\",\"Art and crafting materials\",\"Motor vehicle parts\",\"Vitamins and supplements\",\"Mobile phone accessories\",\"Electronics\",\"Bicycles\",\"Bath and body\",\"Makeup\",\"Toys & Games\",\"Socks\",\"Nail care\",\"Books\",\"Skin care\",\"Blankets\",\"Cookware\",\"Drinkware\",\"Clothing\",\"Posters and artwork\",\"Wine\",\"Perfume and cologne\",\"Home & Kitchen\",\"Coats and jackets\",\"Underwear\",\"Candles\"],\"xaxis\":\"x\",\"y\":[46631,45912,45116,44402,43660,42844,42750,42454,42337,42295,41812,41545,41215,40889,40480,40268,39870,37672,36588,36352,35940,35777,35640,34384,34204],\"yaxis\":\"y\",\"type\":\"bar\"}],                        {\"template\":{\"data\":{\"histogram2dcontour\":[{\"type\":\"histogram2dcontour\",\"colorbar\":{\"outlinewidth\":0,\"ticks\":\"\"},\"colorscale\":[[0.0,\"#0d0887\"],[0.1111111111111111,\"#46039f\"],[0.2222222222222222,\"#7201a8\"],[0.3333333333333333,\"#9c179e\"],[0.4444444444444444,\"#bd3786\"],[0.5555555555555556,\"#d8576b\"],[0.6666666666666666,\"#ed7953\"],[0.7777777777777778,\"#fb9f3a\"],[0.8888888888888888,\"#fdca26\"],[1.0,\"#f0f921\"]]}],\"choropleth\":[{\"type\":\"choropleth\",\"colorbar\":{\"outlinewidth\":0,\"ticks\":\"\"}}],\"histogram2d\":[{\"type\":\"histogram2d\",\"colorbar\":{\"outlinewidth\":0,\"ticks\":\"\"},\"colorscale\":[[0.0,\"#0d0887\"],[0.1111111111111111,\"#46039f\"],[0.2222222222222222,\"#7201a8\"],[0.3333333333333333,\"#9c179e\"],[0.4444444444444444,\"#bd3786\"],[0.5555555555555556,\"#d8576b\"],[0.6666666666666666,\"#ed7953\"],[0.7777777777777778,\"#fb9f3a\"],[0.8888888888888888,\"#fdca26\"],[1.0,\"#f0f921\"]]}],\"heatmap\":[{\"type\":\"heatmap\",\"colorbar\":{\"outlinewidth\":0,\"ticks\":\"\"},\"colorscale\":[[0.0,\"#0d0887\"],[0.1111111111111111,\"#46039f\"],[0.2222222222222222,\"#7201a8\"],[0.3333333333333333,\"#9c179e\"],[0.4444444444444444,\"#bd3786\"],[0.5555555555555556,\"#d8576b\"],[0.6666666666666666,\"#ed7953\"],[0.7777777777777778,\"#fb9f3a\"],[0.8888888888888888,\"#fdca26\"],[1.0,\"#f0f921\"]]}],\"heatmapgl\":[{\"type\":\"heatmapgl\",\"colorbar\":{\"outlinewidth\":0,\"ticks\":\"\"},\"colorscale\":[[0.0,\"#0d0887\"],[0.1111111111111111,\"#46039f\"],[0.2222222222222222,\"#7201a8\"],[0.3333333333333333,\"#9c179e\"],[0.4444444444444444,\"#bd3786\"],[0.5555555555555556,\"#d8576b\"],[0.6666666666666666,\"#ed7953\"],[0.7777777777777778,\"#fb9f3a\"],[0.8888888888888888,\"#fdca26\"],[1.0,\"#f0f921\"]]}],\"contourcarpet\":[{\"type\":\"contourcarpet\",\"colorbar\":{\"outlinewidth\":0,\"ticks\":\"\"}}],\"contour\":[{\"type\":\"contour\",\"colorbar\":{\"outlinewidth\":0,\"ticks\":\"\"},\"colorscale\":[[0.0,\"#0d0887\"],[0.1111111111111111,\"#46039f\"],[0.2222222222222222,\"#7201a8\"],[0.3333333333333333,\"#9c179e\"],[0.4444444444444444,\"#bd3786\"],[0.5555555555555556,\"#d8576b\"],[0.6666666666666666,\"#ed7953\"],[0.7777777777777778,\"#fb9f3a\"],[0.8888888888888888,\"#fdca26\"],[1.0,\"#f0f921\"]]}],\"surface\":[{\"type\":\"surface\",\"colorbar\":{\"outlinewidth\":0,\"ticks\":\"\"},\"colorscale\":[[0.0,\"#0d0887\"],[0.1111111111111111,\"#46039f\"],[0.2222222222222222,\"#7201a8\"],[0.3333333333333333,\"#9c179e\"],[0.4444444444444444,\"#bd3786\"],[0.5555555555555556,\"#d8576b\"],[0.6666666666666666,\"#ed7953\"],[0.7777777777777778,\"#fb9f3a\"],[0.8888888888888888,\"#fdca26\"],[1.0,\"#f0f921\"]]}],\"mesh3d\":[{\"type\":\"mesh3d\",\"colorbar\":{\"outlinewidth\":0,\"ticks\":\"\"}}],\"scatter\":[{\"fillpattern\":{\"fillmode\":\"overlay\",\"size\":10,\"solidity\":0.2},\"type\":\"scatter\"}],\"parcoords\":[{\"type\":\"parcoords\",\"line\":{\"colorbar\":{\"outlinewidth\":0,\"ticks\":\"\"}}}],\"scatterpolargl\":[{\"type\":\"scatterpolargl\",\"marker\":{\"colorbar\":{\"outlinewidth\":0,\"ticks\":\"\"}}}],\"bar\":[{\"error_x\":{\"color\":\"#2a3f5f\"},\"error_y\":{\"color\":\"#2a3f5f\"},\"marker\":{\"line\":{\"color\":\"#E5ECF6\",\"width\":0.5},\"pattern\":{\"fillmode\":\"overlay\",\"size\":10,\"solidity\":0.2}},\"type\":\"bar\"}],\"scattergeo\":[{\"type\":\"scattergeo\",\"marker\":{\"colorbar\":{\"outlinewidth\":0,\"ticks\":\"\"}}}],\"scatterpolar\":[{\"type\":\"scatterpolar\",\"marker\":{\"colorbar\":{\"outlinewidth\":0,\"ticks\":\"\"}}}],\"histogram\":[{\"marker\":{\"pattern\":{\"fillmode\":\"overlay\",\"size\":10,\"solidity\":0.2}},\"type\":\"histogram\"}],\"scattergl\":[{\"type\":\"scattergl\",\"marker\":{\"colorbar\":{\"outlinewidth\":0,\"ticks\":\"\"}}}],\"scatter3d\":[{\"type\":\"scatter3d\",\"line\":{\"colorbar\":{\"outlinewidth\":0,\"ticks\":\"\"}},\"marker\":{\"colorbar\":{\"outlinewidth\":0,\"ticks\":\"\"}}}],\"scattermapbox\":[{\"type\":\"scattermapbox\",\"marker\":{\"colorbar\":{\"outlinewidth\":0,\"ticks\":\"\"}}}],\"scatterternary\":[{\"type\":\"scatterternary\",\"marker\":{\"colorbar\":{\"outlinewidth\":0,\"ticks\":\"\"}}}],\"scattercarpet\":[{\"type\":\"scattercarpet\",\"marker\":{\"colorbar\":{\"outlinewidth\":0,\"ticks\":\"\"}}}],\"carpet\":[{\"aaxis\":{\"endlinecolor\":\"#2a3f5f\",\"gridcolor\":\"white\",\"linecolor\":\"white\",\"minorgridcolor\":\"white\",\"startlinecolor\":\"#2a3f5f\"},\"baxis\":{\"endlinecolor\":\"#2a3f5f\",\"gridcolor\":\"white\",\"linecolor\":\"white\",\"minorgridcolor\":\"white\",\"startlinecolor\":\"#2a3f5f\"},\"type\":\"carpet\"}],\"table\":[{\"cells\":{\"fill\":{\"color\":\"#EBF0F8\"},\"line\":{\"color\":\"white\"}},\"header\":{\"fill\":{\"color\":\"#C8D4E3\"},\"line\":{\"color\":\"white\"}},\"type\":\"table\"}],\"barpolar\":[{\"marker\":{\"line\":{\"color\":\"#E5ECF6\",\"width\":0.5},\"pattern\":{\"fillmode\":\"overlay\",\"size\":10,\"solidity\":0.2}},\"type\":\"barpolar\"}],\"pie\":[{\"automargin\":true,\"type\":\"pie\"}]},\"layout\":{\"autotypenumbers\":\"strict\",\"colorway\":[\"#636efa\",\"#EF553B\",\"#00cc96\",\"#ab63fa\",\"#FFA15A\",\"#19d3f3\",\"#FF6692\",\"#B6E880\",\"#FF97FF\",\"#FECB52\"],\"font\":{\"color\":\"#2a3f5f\"},\"hovermode\":\"closest\",\"hoverlabel\":{\"align\":\"left\"},\"paper_bgcolor\":\"white\",\"plot_bgcolor\":\"#E5ECF6\",\"polar\":{\"bgcolor\":\"#E5ECF6\",\"angularaxis\":{\"gridcolor\":\"white\",\"linecolor\":\"white\",\"ticks\":\"\"},\"radialaxis\":{\"gridcolor\":\"white\",\"linecolor\":\"white\",\"ticks\":\"\"}},\"ternary\":{\"bgcolor\":\"#E5ECF6\",\"aaxis\":{\"gridcolor\":\"white\",\"linecolor\":\"white\",\"ticks\":\"\"},\"baxis\":{\"gridcolor\":\"white\",\"linecolor\":\"white\",\"ticks\":\"\"},\"caxis\":{\"gridcolor\":\"white\",\"linecolor\":\"white\",\"ticks\":\"\"}},\"coloraxis\":{\"colorbar\":{\"outlinewidth\":0,\"ticks\":\"\"}},\"colorscale\":{\"sequential\":[[0.0,\"#0d0887\"],[0.1111111111111111,\"#46039f\"],[0.2222222222222222,\"#7201a8\"],[0.3333333333333333,\"#9c179e\"],[0.4444444444444444,\"#bd3786\"],[0.5555555555555556,\"#d8576b\"],[0.6666666666666666,\"#ed7953\"],[0.7777777777777778,\"#fb9f3a\"],[0.8888888888888888,\"#fdca26\"],[1.0,\"#f0f921\"]],\"sequentialminus\":[[0.0,\"#0d0887\"],[0.1111111111111111,\"#46039f\"],[0.2222222222222222,\"#7201a8\"],[0.3333333333333333,\"#9c179e\"],[0.4444444444444444,\"#bd3786\"],[0.5555555555555556,\"#d8576b\"],[0.6666666666666666,\"#ed7953\"],[0.7777777777777778,\"#fb9f3a\"],[0.8888888888888888,\"#fdca26\"],[1.0,\"#f0f921\"]],\"diverging\":[[0,\"#8e0152\"],[0.1,\"#c51b7d\"],[0.2,\"#de77ae\"],[0.3,\"#f1b6da\"],[0.4,\"#fde0ef\"],[0.5,\"#f7f7f7\"],[0.6,\"#e6f5d0\"],[0.7,\"#b8e186\"],[0.8,\"#7fbc41\"],[0.9,\"#4d9221\"],[1,\"#276419\"]]},\"xaxis\":{\"gridcolor\":\"white\",\"linecolor\":\"white\",\"ticks\":\"\",\"title\":{\"standoff\":15},\"zerolinecolor\":\"white\",\"automargin\":true,\"zerolinewidth\":2},\"yaxis\":{\"gridcolor\":\"white\",\"linecolor\":\"white\",\"ticks\":\"\",\"title\":{\"standoff\":15},\"zerolinecolor\":\"white\",\"automargin\":true,\"zerolinewidth\":2},\"scene\":{\"xaxis\":{\"backgroundcolor\":\"#E5ECF6\",\"gridcolor\":\"white\",\"linecolor\":\"white\",\"showbackground\":true,\"ticks\":\"\",\"zerolinecolor\":\"white\",\"gridwidth\":2},\"yaxis\":{\"backgroundcolor\":\"#E5ECF6\",\"gridcolor\":\"white\",\"linecolor\":\"white\",\"showbackground\":true,\"ticks\":\"\",\"zerolinecolor\":\"white\",\"gridwidth\":2},\"zaxis\":{\"backgroundcolor\":\"#E5ECF6\",\"gridcolor\":\"white\",\"linecolor\":\"white\",\"showbackground\":true,\"ticks\":\"\",\"zerolinecolor\":\"white\",\"gridwidth\":2}},\"shapedefaults\":{\"line\":{\"color\":\"#2a3f5f\"}},\"annotationdefaults\":{\"arrowcolor\":\"#2a3f5f\",\"arrowhead\":0,\"arrowwidth\":1},\"geo\":{\"bgcolor\":\"white\",\"landcolor\":\"#E5ECF6\",\"subunitcolor\":\"white\",\"showland\":true,\"showlakes\":true,\"lakecolor\":\"white\"},\"title\":{\"x\":0.05},\"mapbox\":{\"style\":\"light\"}}},\"xaxis\":{\"anchor\":\"y\",\"domain\":[0.0,1.0],\"title\":{\"text\":\"Category\"},\"categoryorder\":\"total descending\"},\"yaxis\":{\"anchor\":\"x\",\"domain\":[0.0,1.0],\"title\":{\"text\":\"Total Sales\"}},\"legend\":{\"tracegroupgap\":0},\"title\":{\"text\":\"Total Sales by Category\"},\"barmode\":\"relative\"},                        {\"responsive\": true}                    ).then(function(){\n",
       "                            \n",
       "var gd = document.getElementById('f0ffaedb-082d-4f9a-8577-305e87e963a7');\n",
       "var x = new MutationObserver(function (mutations, observer) {{\n",
       "        var display = window.getComputedStyle(gd).display;\n",
       "        if (!display || display === 'none') {{\n",
       "            console.log([gd, 'removed!']);\n",
       "            Plotly.purge(gd);\n",
       "            observer.disconnect();\n",
       "        }}\n",
       "}});\n",
       "\n",
       "// Listen for the removal of the full notebook cells\n",
       "var notebookContainer = gd.closest('#notebook-container');\n",
       "if (notebookContainer) {{\n",
       "    x.observe(notebookContainer, {childList: true});\n",
       "}}\n",
       "\n",
       "// Listen for the clearing of the current output cell\n",
       "var outputEl = gd.closest('.output');\n",
       "if (outputEl) {{\n",
       "    x.observe(outputEl, {childList: true});\n",
       "}}\n",
       "\n",
       "                        })                };                });            </script>        </div>"
      ]
     },
     "metadata": {},
     "output_type": "display_data"
    }
   ],
   "source": [
    "# Visualization of total sales by category using Matplotlib and Seaborn\n",
    "plt.figure(figsize=(14, 7))\n",
    "sns.barplot(data=total_sales_by_category, x='Sales', y='Category')\n",
    "plt.title('Total Sales by Category')\n",
    "plt.xlabel('Total Sales')\n",
    "plt.ylabel('Category')\n",
    "plt.show()\n",
    "\n",
    "# Visualization of total sales by category using Plotly\n",
    "fig = px.bar(total_sales_by_category, x='Category', y='Sales', title='Total Sales by Category', labels={'Sales': 'Total Sales'})\n",
    "fig.update_layout(xaxis={'categoryorder':'total descending'})\n",
    "fig.show()"
   ]
  },
  {
   "cell_type": "code",
   "execution_count": 30,
   "id": "b170cd93-1bc0-42dc-95b2-de0fc62f5fc0",
   "metadata": {},
   "outputs": [
    {
     "name": "stdout",
     "output_type": "stream",
     "text": [
      "\n",
      "Top 10 Products by Sales:\n",
      "        ProductName  Sales\n",
      "6         Biography  23947\n",
      "54    Mountain Bike  20069\n",
      "21         Cleanser  15886\n",
      "82      Spark Plugs  15745\n",
      "89    Throw Blanket  15315\n",
      "93        Vitamin D  15239\n",
      "42       Headphones  15116\n",
      "32  Eau de Toilette  14820\n",
      "27     Denim Jacket  14472\n",
      "61        Paint Set  14455\n"
     ]
    },
    {
     "data": {
      "image/png": "[encoded data removed]",
      "text/plain": [
       "<Figure size 1400x700 with 1 Axes>"
      ]
     },
     "metadata": {},
     "output_type": "display_data"
    },
    {
     "data": {
      "application/vnd.plotly.v1+json": {
       "config": {
        "plotlyServerURL": "https://plot.ly"
       },
       "data": [
        {
         "alignmentgroup": "True",
         "hovertemplate": "Total Sales=%{x}<br>Product Name=%{y}<extra></extra>",
         "legendgroup": "",
         "marker": {
          "color": "#636efa",
          "pattern": {
           "shape": ""
          }
         },
         "name": "",
         "offsetgroup": "",
         "orientation": "h",
         "showlegend": false,
         "textposition": "auto",
         "type": "bar",
         "x": [
          23947,
          20069,
          15886,
          15745,
          15315,
          15239,
          15116,
          14820,
          14472,
          14455
         ],
         "xaxis": "x",
         "y": [
          "Biography",
          "Mountain Bike",
          "Cleanser",
          "Spark Plugs",
          "Throw Blanket",
          "Vitamin D",
          "Headphones",
          "Eau de Toilette",
          "Denim Jacket",
          "Paint Set"
         ],
         "yaxis": "y"
        }
       ],
       "layout": {
        "autosize": true,
        "barmode": "relative",
        "legend": {
         "tracegroupgap": 0
        },
        "template": {
         "data": {
          "bar": [
           {
            "error_x": {
             "color": "#2a3f5f"
            },
            "error_y": {
             "color": "#2a3f5f"
            },
            "marker": {
             "line": {
              "color": "#E5ECF6",
              "width": 0.5
             },
             "pattern": {
              "fillmode": "overlay",
              "size": 10,
              "solidity": 0.2
             }
            },
            "type": "bar"
           }
          ],
          "barpolar": [
           {
            "marker": {
             "line": {
              "color": "#E5ECF6",
              "width": 0.5
             },
             "pattern": {
              "fillmode": "overlay",
              "size": 10,
              "solidity": 0.2
             }
            },
            "type": "barpolar"
           }
          ],
          "carpet": [
           {
            "aaxis": {
             "endlinecolor": "#2a3f5f",
             "gridcolor": "white",
             "linecolor": "white",
             "minorgridcolor": "white",
             "startlinecolor": "#2a3f5f"
            },
            "baxis": {
             "endlinecolor": "#2a3f5f",
             "gridcolor": "white",
             "linecolor": "white",
             "minorgridcolor": "white",
             "startlinecolor": "#2a3f5f"
            },
            "type": "carpet"
           }
          ],
          "choropleth": [
           {
            "colorbar": {
             "outlinewidth": 0,
             "ticks": ""
            },
            "type": "choropleth"
           }
          ],
          "contour": [
           {
            "colorbar": {
             "outlinewidth": 0,
             "ticks": ""
            },
            "colorscale": [
             [
              0,
              "#0d0887"
             ],
             [
              0.1111111111111111,
              "#46039f"
             ],
             [
              0.2222222222222222,
              "#7201a8"
             ],
             [
              0.3333333333333333,
              "#9c179e"
             ],
             [
              0.4444444444444444,
              "#bd3786"
             ],
             [
              0.5555555555555556,
              "#d8576b"
             ],
             [
              0.6666666666666666,
              "#ed7953"
             ],
             [
              0.7777777777777778,
              "#fb9f3a"
             ],
             [
              0.8888888888888888,
              "#fdca26"
             ],
             [
              1,
              "#f0f921"
             ]
            ],
            "type": "contour"
           }
          ],
          "contourcarpet": [
           {
            "colorbar": {
             "outlinewidth": 0,
             "ticks": ""
            },
            "type": "contourcarpet"
           }
          ],
          "heatmap": [
           {
            "colorbar": {
             "outlinewidth": 0,
             "ticks": ""
            },
            "colorscale": [
             [
              0,
              "#0d0887"
             ],
             [
              0.1111111111111111,
              "#46039f"
             ],
             [
              0.2222222222222222,
              "#7201a8"
             ],
             [
              0.3333333333333333,
              "#9c179e"
             ],
             [
              0.4444444444444444,
              "#bd3786"
             ],
             [
              0.5555555555555556,
              "#d8576b"
             ],
             [
              0.6666666666666666,
              "#ed7953"
             ],
             [
              0.7777777777777778,
              "#fb9f3a"
             ],
             [
              0.8888888888888888,
              "#fdca26"
             ],
             [
              1,
              "#f0f921"
             ]
            ],
            "type": "heatmap"
           }
          ],
          "heatmapgl": [
           {
            "colorbar": {
             "outlinewidth": 0,
             "ticks": ""
            },
            "colorscale": [
             [
              0,
              "#0d0887"
             ],
             [
              0.1111111111111111,
              "#46039f"
             ],
             [
              0.2222222222222222,
              "#7201a8"
             ],
             [
              0.3333333333333333,
              "#9c179e"
             ],
             [
              0.4444444444444444,
              "#bd3786"
             ],
             [
              0.5555555555555556,
              "#d8576b"
             ],
             [
              0.6666666666666666,
              "#ed7953"
             ],
             [
              0.7777777777777778,
              "#fb9f3a"
             ],
             [
              0.8888888888888888,
              "#fdca26"
             ],
             [
              1,
              "#f0f921"
             ]
            ],
            "type": "heatmapgl"
           }
          ],
          "histogram": [
           {
            "marker": {
             "pattern": {
              "fillmode": "overlay",
              "size": 10,
              "solidity": 0.2
             }
            },
            "type": "histogram"
           }
          ],
          "histogram2d": [
           {
            "colorbar": {
             "outlinewidth": 0,
             "ticks": ""
            },
            "colorscale": [
             [
              0,
              "#0d0887"
             ],
             [
              0.1111111111111111,
              "#46039f"
             ],
             [
              0.2222222222222222,
              "#7201a8"
             ],
             [
              0.3333333333333333,
              "#9c179e"
             ],
             [
              0.4444444444444444,
              "#bd3786"
             ],
             [
              0.5555555555555556,
              "#d8576b"
             ],
             [
              0.6666666666666666,
              "#ed7953"
             ],
             [
              0.7777777777777778,
              "#fb9f3a"
             ],
             [
              0.8888888888888888,
              "#fdca26"
             ],
             [
              1,
              "#f0f921"
             ]
            ],
            "type": "histogram2d"
           }
          ],
          "histogram2dcontour": [
           {
            "colorbar": {
             "outlinewidth": 0,
             "ticks": ""
            },
            "colorscale": [
             [
              0,
              "#0d0887"
             ],
             [
              0.1111111111111111,
              "#46039f"
             ],
             [
              0.2222222222222222,
              "#7201a8"
             ],
             [
              0.3333333333333333,
              "#9c179e"
             ],
             [
              0.4444444444444444,
              "#bd3786"
             ],
             [
              0.5555555555555556,
              "#d8576b"
             ],
             [
              0.6666666666666666,
              "#ed7953"
             ],
             [
              0.7777777777777778,
              "#fb9f3a"
             ],
             [
              0.8888888888888888,
              "#fdca26"
             ],
             [
              1,
              "#f0f921"
             ]
            ],
            "type": "histogram2dcontour"
           }
          ],
          "mesh3d": [
           {
            "colorbar": {
             "outlinewidth": 0,
             "ticks": ""
            },
            "type": "mesh3d"
           }
          ],
          "parcoords": [
           {
            "line": {
             "colorbar": {
              "outlinewidth": 0,
              "ticks": ""
             }
            },
            "type": "parcoords"
           }
          ],
          "pie": [
           {
            "automargin": true,
            "type": "pie"
           }
          ],
          "scatter": [
           {
            "fillpattern": {
             "fillmode": "overlay",
             "size": 10,
             "solidity": 0.2
            },
            "type": "scatter"
           }
          ],
          "scatter3d": [
           {
            "line": {
             "colorbar": {
              "outlinewidth": 0,
              "ticks": ""
             }
            },
            "marker": {
             "colorbar": {
              "outlinewidth": 0,
              "ticks": ""
             }
            },
            "type": "scatter3d"
           }
          ],
          "scattercarpet": [
           {
            "marker": {
             "colorbar": {
              "outlinewidth": 0,
              "ticks": ""
             }
            },
            "type": "scattercarpet"
           }
          ],
          "scattergeo": [
           {
            "marker": {
             "colorbar": {
              "outlinewidth": 0,
              "ticks": ""
             }
            },
            "type": "scattergeo"
           }
          ],
          "scattergl": [
           {
            "marker": {
             "colorbar": {
              "outlinewidth": 0,
              "ticks": ""
             }
            },
            "type": "scattergl"
           }
          ],
          "scattermapbox": [
           {
            "marker": {
             "colorbar": {
              "outlinewidth": 0,
              "ticks": ""
             }
            },
            "type": "scattermapbox"
           }
          ],
          "scatterpolar": [
           {
            "marker": {
             "colorbar": {
              "outlinewidth": 0,
              "ticks": ""
             }
            },
            "type": "scatterpolar"
           }
          ],
          "scatterpolargl": [
           {
            "marker": {
             "colorbar": {
              "outlinewidth": 0,
              "ticks": ""
             }
            },
            "type": "scatterpolargl"
           }
          ],
          "scatterternary": [
           {
            "marker": {
             "colorbar": {
              "outlinewidth": 0,
              "ticks": ""
             }
            },
            "type": "scatterternary"
           }
          ],
          "surface": [
           {
            "colorbar": {
             "outlinewidth": 0,
             "ticks": ""
            },
            "colorscale": [
             [
              0,
              "#0d0887"
             ],
             [
              0.1111111111111111,
              "#46039f"
             ],
             [
              0.2222222222222222,
              "#7201a8"
             ],
             [
              0.3333333333333333,
              "#9c179e"
             ],
             [
              0.4444444444444444,
              "#bd3786"
             ],
             [
              0.5555555555555556,
              "#d8576b"
             ],
             [
              0.6666666666666666,
              "#ed7953"
             ],
             [
              0.7777777777777778,
              "#fb9f3a"
             ],
             [
              0.8888888888888888,
              "#fdca26"
             ],
             [
              1,
              "#f0f921"
             ]
            ],
            "type": "surface"
           }
          ],
          "table": [
           {
            "cells": {
             "fill": {
              "color": "#EBF0F8"
             },
             "line": {
              "color": "white"
             }
            },
            "header": {
             "fill": {
              "color": "#C8D4E3"
             },
             "line": {
              "color": "white"
             }
            },
            "type": "table"
           }
          ]
         },
         "layout": {
          "annotationdefaults": {
           "arrowcolor": "#2a3f5f",
           "arrowhead": 0,
           "arrowwidth": 1
          },
          "autotypenumbers": "strict",
          "coloraxis": {
           "colorbar": {
            "outlinewidth": 0,
            "ticks": ""
           }
          },
          "colorscale": {
           "diverging": [
            [
             0,
             "#8e0152"
            ],
            [
             0.1,
             "#c51b7d"
            ],
            [
             0.2,
             "#de77ae"
            ],
            [
             0.3,
             "#f1b6da"
            ],
            [
             0.4,
             "#fde0ef"
            ],
            [
             0.5,
             "#f7f7f7"
            ],
            [
             0.6,
             "#e6f5d0"
            ],
            [
             0.7,
             "#b8e186"
            ],
            [
             0.8,
             "#7fbc41"
            ],
            [
             0.9,
             "#4d9221"
            ],
            [
             1,
             "#276419"
            ]
           ],
           "sequential": [
            [
             0,
             "#0d0887"
            ],
            [
             0.1111111111111111,
             "#46039f"
            ],
            [
             0.2222222222222222,
             "#7201a8"
            ],
            [
             0.3333333333333333,
             "#9c179e"
            ],
            [
             0.4444444444444444,
             "#bd3786"
            ],
            [
             0.5555555555555556,
             "#d8576b"
            ],
            [
             0.6666666666666666,
             "#ed7953"
            ],
            [
             0.7777777777777778,
             "#fb9f3a"
            ],
            [
             0.8888888888888888,
             "#fdca26"
            ],
            [
             1,
             "#f0f921"
            ]
           ],
           "sequentialminus": [
            [
             0,
             "#0d0887"
            ],
            [
             0.1111111111111111,
             "#46039f"
            ],
            [
             0.2222222222222222,
             "#7201a8"
            ],
            [
             0.3333333333333333,
             "#9c179e"
            ],
            [
             0.4444444444444444,
             "#bd3786"
            ],
            [
             0.5555555555555556,
             "#d8576b"
            ],
            [
             0.6666666666666666,
             "#ed7953"
            ],
            [
             0.7777777777777778,
             "#fb9f3a"
            ],
            [
             0.8888888888888888,
             "#fdca26"
            ],
            [
             1,
             "#f0f921"
            ]
           ]
          },
          "colorway": [
           "#636efa",
           "#EF553B",
           "#00cc96",
           "#ab63fa",
           "#FFA15A",
           "#19d3f3",
           "#FF6692",
           "#B6E880",
           "#FF97FF",
           "#FECB52"
          ],
          "font": {
           "color": "#2a3f5f"
          },
          "geo": {
           "bgcolor": "white",
           "lakecolor": "white",
           "landcolor": "#E5ECF6",
           "showlakes": true,
           "showland": true,
           "subunitcolor": "white"
          },
          "hoverlabel": {
           "align": "left"
          },
          "hovermode": "closest",
          "mapbox": {
           "style": "light"
          },
          "paper_bgcolor": "white",
          "plot_bgcolor": "#E5ECF6",
          "polar": {
           "angularaxis": {
            "gridcolor": "white",
            "linecolor": "white",
            "ticks": ""
           },
           "bgcolor": "#E5ECF6",
           "radialaxis": {
            "gridcolor": "white",
            "linecolor": "white",
            "ticks": ""
           }
          },
          "scene": {
           "xaxis": {
            "backgroundcolor": "#E5ECF6",
            "gridcolor": "white",
            "gridwidth": 2,
            "linecolor": "white",
            "showbackground": true,
            "ticks": "",
            "zerolinecolor": "white"
           },
           "yaxis": {
            "backgroundcolor": "#E5ECF6",
            "gridcolor": "white",
            "gridwidth": 2,
            "linecolor": "white",
            "showbackground": true,
            "ticks": "",
            "zerolinecolor": "white"
           },
           "zaxis": {
            "backgroundcolor": "#E5ECF6",
            "gridcolor": "white",
            "gridwidth": 2,
            "linecolor": "white",
            "showbackground": true,
            "ticks": "",
            "zerolinecolor": "white"
           }
          },
          "shapedefaults": {
           "line": {
            "color": "#2a3f5f"
           }
          },
          "ternary": {
           "aaxis": {
            "gridcolor": "white",
            "linecolor": "white",
            "ticks": ""
           },
           "baxis": {
            "gridcolor": "white",
            "linecolor": "white",
            "ticks": ""
           },
           "bgcolor": "#E5ECF6",
           "caxis": {
            "gridcolor": "white",
            "linecolor": "white",
            "ticks": ""
           }
          },
          "title": {
           "x": 0.05
          },
          "xaxis": {
           "automargin": true,
           "gridcolor": "white",
           "linecolor": "white",
           "ticks": "",
           "title": {
            "standoff": 15
           },
           "zerolinecolor": "white",
           "zerolinewidth": 2
          },
          "yaxis": {
           "automargin": true,
           "gridcolor": "white",
           "linecolor": "white",
           "ticks": "",
           "title": {
            "standoff": 15
           },
           "zerolinecolor": "white",
           "zerolinewidth": 2
          }
         }
        },
        "title": {
         "text": "Top 10 Products by Sales"
        },
        "xaxis": {
         "anchor": "y",
         "autorange": true,
         "domain": [
          0,
          1
         ],
         "range": [
          0,
          25207.368421052633
         ],
         "title": {
          "text": "Total Sales"
         },
         "type": "linear"
        },
        "yaxis": {
         "anchor": "x",
         "autorange": true,
         "domain": [
          0,
          1
         ],
         "range": [
          -0.5,
          9.5
         ],
         "title": {
          "text": "Product Name"
         },
         "type": "category"
        }
       }
      },
      "image/png": "[encoded data removed]",
      "text/html": [
       "<div>                            <div id=\"61313364-9869-4696-adc9-97a65411dd29\" class=\"plotly-graph-div\" style=\"height:525px; width:100%;\"></div>            <script type=\"text/javascript\">                require([\"plotly\"], function(Plotly) {                    window.PLOTLYENV=window.PLOTLYENV || {};                                    if (document.getElementById(\"61313364-9869-4696-adc9-97a65411dd29\")) {                    Plotly.newPlot(                        \"61313364-9869-4696-adc9-97a65411dd29\",                        [{\"alignmentgroup\":\"True\",\"hovertemplate\":\"Total Sales=%{x}<br>Product Name=%{y}<extra></extra>\",\"legendgroup\":\"\",\"marker\":{\"color\":\"#636efa\",\"pattern\":{\"shape\":\"\"}},\"name\":\"\",\"offsetgroup\":\"\",\"orientation\":\"h\",\"showlegend\":false,\"textposition\":\"auto\",\"x\":[23947,20069,15886,15745,15315,15239,15116,14820,14472,14455],\"xaxis\":\"x\",\"y\":[\"Biography\",\"Mountain Bike\",\"Cleanser\",\"Spark Plugs\",\"Throw Blanket\",\"Vitamin D\",\"Headphones\",\"Eau de Toilette\",\"Denim Jacket\",\"Paint Set\"],\"yaxis\":\"y\",\"type\":\"bar\"}],                        {\"template\":{\"data\":{\"histogram2dcontour\":[{\"type\":\"histogram2dcontour\",\"colorbar\":{\"outlinewidth\":0,\"ticks\":\"\"},\"colorscale\":[[0.0,\"#0d0887\"],[0.1111111111111111,\"#46039f\"],[0.2222222222222222,\"#7201a8\"],[0.3333333333333333,\"#9c179e\"],[0.4444444444444444,\"#bd3786\"],[0.5555555555555556,\"#d8576b\"],[0.6666666666666666,\"#ed7953\"],[0.7777777777777778,\"#fb9f3a\"],[0.8888888888888888,\"#fdca26\"],[1.0,\"#f0f921\"]]}],\"choropleth\":[{\"type\":\"choropleth\",\"colorbar\":{\"outlinewidth\":0,\"ticks\":\"\"}}],\"histogram2d\":[{\"type\":\"histogram2d\",\"colorbar\":{\"outlinewidth\":0,\"ticks\":\"\"},\"colorscale\":[[0.0,\"#0d0887\"],[0.1111111111111111,\"#46039f\"],[0.2222222222222222,\"#7201a8\"],[0.3333333333333333,\"#9c179e\"],[0.4444444444444444,\"#bd3786\"],[0.5555555555555556,\"#d8576b\"],[0.6666666666666666,\"#ed7953\"],[0.7777777777777778,\"#fb9f3a\"],[0.8888888888888888,\"#fdca26\"],[1.0,\"#f0f921\"]]}],\"heatmap\":[{\"type\":\"heatmap\",\"colorbar\":{\"outlinewidth\":0,\"ticks\":\"\"},\"colorscale\":[[0.0,\"#0d0887\"],[0.1111111111111111,\"#46039f\"],[0.2222222222222222,\"#7201a8\"],[0.3333333333333333,\"#9c179e\"],[0.4444444444444444,\"#bd3786\"],[0.5555555555555556,\"#d8576b\"],[0.6666666666666666,\"#ed7953\"],[0.7777777777777778,\"#fb9f3a\"],[0.8888888888888888,\"#fdca26\"],[1.0,\"#f0f921\"]]}],\"heatmapgl\":[{\"type\":\"heatmapgl\",\"colorbar\":{\"outlinewidth\":0,\"ticks\":\"\"},\"colorscale\":[[0.0,\"#0d0887\"],[0.1111111111111111,\"#46039f\"],[0.2222222222222222,\"#7201a8\"],[0.3333333333333333,\"#9c179e\"],[0.4444444444444444,\"#bd3786\"],[0.5555555555555556,\"#d8576b\"],[0.6666666666666666,\"#ed7953\"],[0.7777777777777778,\"#fb9f3a\"],[0.8888888888888888,\"#fdca26\"],[1.0,\"#f0f921\"]]}],\"contourcarpet\":[{\"type\":\"contourcarpet\",\"colorbar\":{\"outlinewidth\":0,\"ticks\":\"\"}}],\"contour\":[{\"type\":\"contour\",\"colorbar\":{\"outlinewidth\":0,\"ticks\":\"\"},\"colorscale\":[[0.0,\"#0d0887\"],[0.1111111111111111,\"#46039f\"],[0.2222222222222222,\"#7201a8\"],[0.3333333333333333,\"#9c179e\"],[0.4444444444444444,\"#bd3786\"],[0.5555555555555556,\"#d8576b\"],[0.6666666666666666,\"#ed7953\"],[0.7777777777777778,\"#fb9f3a\"],[0.8888888888888888,\"#fdca26\"],[1.0,\"#f0f921\"]]}],\"surface\":[{\"type\":\"surface\",\"colorbar\":{\"outlinewidth\":0,\"ticks\":\"\"},\"colorscale\":[[0.0,\"#0d0887\"],[0.1111111111111111,\"#46039f\"],[0.2222222222222222,\"#7201a8\"],[0.3333333333333333,\"#9c179e\"],[0.4444444444444444,\"#bd3786\"],[0.5555555555555556,\"#d8576b\"],[0.6666666666666666,\"#ed7953\"],[0.7777777777777778,\"#fb9f3a\"],[0.8888888888888888,\"#fdca26\"],[1.0,\"#f0f921\"]]}],\"mesh3d\":[{\"type\":\"mesh3d\",\"colorbar\":{\"outlinewidth\":0,\"ticks\":\"\"}}],\"scatter\":[{\"fillpattern\":{\"fillmode\":\"overlay\",\"size\":10,\"solidity\":0.2},\"type\":\"scatter\"}],\"parcoords\":[{\"type\":\"parcoords\",\"line\":{\"colorbar\":{\"outlinewidth\":0,\"ticks\":\"\"}}}],\"scatterpolargl\":[{\"type\":\"scatterpolargl\",\"marker\":{\"colorbar\":{\"outlinewidth\":0,\"ticks\":\"\"}}}],\"bar\":[{\"error_x\":{\"color\":\"#2a3f5f\"},\"error_y\":{\"color\":\"#2a3f5f\"},\"marker\":{\"line\":{\"color\":\"#E5ECF6\",\"width\":0.5},\"pattern\":{\"fillmode\":\"overlay\",\"size\":10,\"solidity\":0.2}},\"type\":\"bar\"}],\"scattergeo\":[{\"type\":\"scattergeo\",\"marker\":{\"colorbar\":{\"outlinewidth\":0,\"ticks\":\"\"}}}],\"scatterpolar\":[{\"type\":\"scatterpolar\",\"marker\":{\"colorbar\":{\"outlinewidth\":0,\"ticks\":\"\"}}}],\"histogram\":[{\"marker\":{\"pattern\":{\"fillmode\":\"overlay\",\"size\":10,\"solidity\":0.2}},\"type\":\"histogram\"}],\"scattergl\":[{\"type\":\"scattergl\",\"marker\":{\"colorbar\":{\"outlinewidth\":0,\"ticks\":\"\"}}}],\"scatter3d\":[{\"type\":\"scatter3d\",\"line\":{\"colorbar\":{\"outlinewidth\":0,\"ticks\":\"\"}},\"marker\":{\"colorbar\":{\"outlinewidth\":0,\"ticks\":\"\"}}}],\"scattermapbox\":[{\"type\":\"scattermapbox\",\"marker\":{\"colorbar\":{\"outlinewidth\":0,\"ticks\":\"\"}}}],\"scatterternary\":[{\"type\":\"scatterternary\",\"marker\":{\"colorbar\":{\"outlinewidth\":0,\"ticks\":\"\"}}}],\"scattercarpet\":[{\"type\":\"scattercarpet\",\"marker\":{\"colorbar\":{\"outlinewidth\":0,\"ticks\":\"\"}}}],\"carpet\":[{\"aaxis\":{\"endlinecolor\":\"#2a3f5f\",\"gridcolor\":\"white\",\"linecolor\":\"white\",\"minorgridcolor\":\"white\",\"startlinecolor\":\"#2a3f5f\"},\"baxis\":{\"endlinecolor\":\"#2a3f5f\",\"gridcolor\":\"white\",\"linecolor\":\"white\",\"minorgridcolor\":\"white\",\"startlinecolor\":\"#2a3f5f\"},\"type\":\"carpet\"}],\"table\":[{\"cells\":{\"fill\":{\"color\":\"#EBF0F8\"},\"line\":{\"color\":\"white\"}},\"header\":{\"fill\":{\"color\":\"#C8D4E3\"},\"line\":{\"color\":\"white\"}},\"type\":\"table\"}],\"barpolar\":[{\"marker\":{\"line\":{\"color\":\"#E5ECF6\",\"width\":0.5},\"pattern\":{\"fillmode\":\"overlay\",\"size\":10,\"solidity\":0.2}},\"type\":\"barpolar\"}],\"pie\":[{\"automargin\":true,\"type\":\"pie\"}]},\"layout\":{\"autotypenumbers\":\"strict\",\"colorway\":[\"#636efa\",\"#EF553B\",\"#00cc96\",\"#ab63fa\",\"#FFA15A\",\"#19d3f3\",\"#FF6692\",\"#B6E880\",\"#FF97FF\",\"#FECB52\"],\"font\":{\"color\":\"#2a3f5f\"},\"hovermode\":\"closest\",\"hoverlabel\":{\"align\":\"left\"},\"paper_bgcolor\":\"white\",\"plot_bgcolor\":\"#E5ECF6\",\"polar\":{\"bgcolor\":\"#E5ECF6\",\"angularaxis\":{\"gridcolor\":\"white\",\"linecolor\":\"white\",\"ticks\":\"\"},\"radialaxis\":{\"gridcolor\":\"white\",\"linecolor\":\"white\",\"ticks\":\"\"}},\"ternary\":{\"bgcolor\":\"#E5ECF6\",\"aaxis\":{\"gridcolor\":\"white\",\"linecolor\":\"white\",\"ticks\":\"\"},\"baxis\":{\"gridcolor\":\"white\",\"linecolor\":\"white\",\"ticks\":\"\"},\"caxis\":{\"gridcolor\":\"white\",\"linecolor\":\"white\",\"ticks\":\"\"}},\"coloraxis\":{\"colorbar\":{\"outlinewidth\":0,\"ticks\":\"\"}},\"colorscale\":{\"sequential\":[[0.0,\"#0d0887\"],[0.1111111111111111,\"#46039f\"],[0.2222222222222222,\"#7201a8\"],[0.3333333333333333,\"#9c179e\"],[0.4444444444444444,\"#bd3786\"],[0.5555555555555556,\"#d8576b\"],[0.6666666666666666,\"#ed7953\"],[0.7777777777777778,\"#fb9f3a\"],[0.8888888888888888,\"#fdca26\"],[1.0,\"#f0f921\"]],\"sequentialminus\":[[0.0,\"#0d0887\"],[0.1111111111111111,\"#46039f\"],[0.2222222222222222,\"#7201a8\"],[0.3333333333333333,\"#9c179e\"],[0.4444444444444444,\"#bd3786\"],[0.5555555555555556,\"#d8576b\"],[0.6666666666666666,\"#ed7953\"],[0.7777777777777778,\"#fb9f3a\"],[0.8888888888888888,\"#fdca26\"],[1.0,\"#f0f921\"]],\"diverging\":[[0,\"#8e0152\"],[0.1,\"#c51b7d\"],[0.2,\"#de77ae\"],[0.3,\"#f1b6da\"],[0.4,\"#fde0ef\"],[0.5,\"#f7f7f7\"],[0.6,\"#e6f5d0\"],[0.7,\"#b8e186\"],[0.8,\"#7fbc41\"],[0.9,\"#4d9221\"],[1,\"#276419\"]]},\"xaxis\":{\"gridcolor\":\"white\",\"linecolor\":\"white\",\"ticks\":\"\",\"title\":{\"standoff\":15},\"zerolinecolor\":\"white\",\"automargin\":true,\"zerolinewidth\":2},\"yaxis\":{\"gridcolor\":\"white\",\"linecolor\":\"white\",\"ticks\":\"\",\"title\":{\"standoff\":15},\"zerolinecolor\":\"white\",\"automargin\":true,\"zerolinewidth\":2},\"scene\":{\"xaxis\":{\"backgroundcolor\":\"#E5ECF6\",\"gridcolor\":\"white\",\"linecolor\":\"white\",\"showbackground\":true,\"ticks\":\"\",\"zerolinecolor\":\"white\",\"gridwidth\":2},\"yaxis\":{\"backgroundcolor\":\"#E5ECF6\",\"gridcolor\":\"white\",\"linecolor\":\"white\",\"showbackground\":true,\"ticks\":\"\",\"zerolinecolor\":\"white\",\"gridwidth\":2},\"zaxis\":{\"backgroundcolor\":\"#E5ECF6\",\"gridcolor\":\"white\",\"linecolor\":\"white\",\"showbackground\":true,\"ticks\":\"\",\"zerolinecolor\":\"white\",\"gridwidth\":2}},\"shapedefaults\":{\"line\":{\"color\":\"#2a3f5f\"}},\"annotationdefaults\":{\"arrowcolor\":\"#2a3f5f\",\"arrowhead\":0,\"arrowwidth\":1},\"geo\":{\"bgcolor\":\"white\",\"landcolor\":\"#E5ECF6\",\"subunitcolor\":\"white\",\"showland\":true,\"showlakes\":true,\"lakecolor\":\"white\"},\"title\":{\"x\":0.05},\"mapbox\":{\"style\":\"light\"}}},\"xaxis\":{\"anchor\":\"y\",\"domain\":[0.0,1.0],\"title\":{\"text\":\"Total Sales\"}},\"yaxis\":{\"anchor\":\"x\",\"domain\":[0.0,1.0],\"title\":{\"text\":\"Product Name\"}},\"legend\":{\"tracegroupgap\":0},\"title\":{\"text\":\"Top 10 Products by Sales\"},\"barmode\":\"relative\"},                        {\"responsive\": true}                    ).then(function(){\n",
       "                            \n",
       "var gd = document.getElementById('61313364-9869-4696-adc9-97a65411dd29');\n",
       "var x = new MutationObserver(function (mutations, observer) {{\n",
       "        var display = window.getComputedStyle(gd).display;\n",
       "        if (!display || display === 'none') {{\n",
       "            console.log([gd, 'removed!']);\n",
       "            Plotly.purge(gd);\n",
       "            observer.disconnect();\n",
       "        }}\n",
       "}});\n",
       "\n",
       "// Listen for the removal of the full notebook cells\n",
       "var notebookContainer = gd.closest('#notebook-container');\n",
       "if (notebookContainer) {{\n",
       "    x.observe(notebookContainer, {childList: true});\n",
       "}}\n",
       "\n",
       "// Listen for the clearing of the current output cell\n",
       "var outputEl = gd.closest('.output');\n",
       "if (outputEl) {{\n",
       "    x.observe(outputEl, {childList: true});\n",
       "}}\n",
       "\n",
       "                        })                };                });            </script>        </div>"
      ]
     },
     "metadata": {},
     "output_type": "display_data"
    }
   ],
   "source": [
    "# Calculate top 10 products by sales\n",
    "top_10_products = df.groupby('ProductName')['Sales'].sum().reset_index().nlargest(10, 'Sales')\n",
    "\n",
    "print(\"\\nTop 10 Products by Sales:\")\n",
    "print(top_10_products)\n",
    "\n",
    "# Visualization of top 10 products by sales using Seaborn\n",
    "plt.figure(figsize=(14, 7))\n",
    "sns.barplot(data=top_10_products, x='Sales', y='ProductName')\n",
    "plt.title('Top 10 Products by Sales')\n",
    "plt.xlabel('Sales')\n",
    "plt.ylabel('Product Name')\n",
    "plt.show()\n",
    "\n",
    "# Visualization of top 10 products by sales using Plotly\n",
    "fig = px.bar(top_10_products, x='Sales', y='ProductName', title='Top 10 Products by Sales', orientation='h',\n",
    "             labels={'Sales': 'Total Sales', 'ProductName': 'Product Name'})\n",
    "fig.show()"
   ]
  },
  {
   "cell_type": "code",
   "execution_count": 31,
   "id": "b9536e6c-0443-40c8-8a00-27e53da89bad",
   "metadata": {},
   "outputs": [
    {
     "name": "stdout",
     "output_type": "stream",
     "text": [
      "\n",
      "Top 10 Categories by Sales:\n",
      "                      Category  Sales\n",
      "2                    Bedsheets  46631\n",
      "0   Art and crafting materials  45912\n",
      "15         Motor vehicle parts  45116\n",
      "23    Vitamins and supplements  44402\n",
      "14    Mobile phone accessories  43660\n",
      "11                 Electronics  42844\n",
      "3                     Bicycles  42750\n",
      "1                Bath and body  42454\n",
      "13                      Makeup  42337\n",
      "21                Toys & Games  42295\n"
     ]
    },
    {
     "data": {
      "image/png": "[encoded data removed]",
      "text/plain": [
       "<Figure size 1400x700 with 1 Axes>"
      ]
     },
     "metadata": {},
     "output_type": "display_data"
    },
    {
     "data": {
      "application/vnd.plotly.v1+json": {
       "config": {
        "plotlyServerURL": "https://plot.ly"
       },
       "data": [
        {
         "alignmentgroup": "True",
         "hovertemplate": "Total Sales=%{x}<br>Category=%{y}<extra></extra>",
         "legendgroup": "",
         "marker": {
          "color": "#636efa",
          "pattern": {
           "shape": ""
          }
         },
         "name": "",
         "offsetgroup": "",
         "orientation": "h",
         "showlegend": false,
         "textposition": "auto",
         "type": "bar",
         "x": [
          46631,
          45912,
          45116,
          44402,
          43660,
          42844,
          42750,
          42454,
          42337,
          42295
         ],
         "xaxis": "x",
         "y": [
          "Bedsheets",
          "Art and crafting materials",
          "Motor vehicle parts",
          "Vitamins and supplements",
          "Mobile phone accessories",
          "Electronics",
          "Bicycles",
          "Bath and body",
          "Makeup",
          "Toys & Games"
         ],
         "yaxis": "y"
        }
       ],
       "layout": {
        "autosize": true,
        "barmode": "relative",
        "legend": {
         "tracegroupgap": 0
        },
        "template": {
         "data": {
          "bar": [
           {
            "error_x": {
             "color": "#2a3f5f"
            },
            "error_y": {
             "color": "#2a3f5f"
            },
            "marker": {
             "line": {
              "color": "#E5ECF6",
              "width": 0.5
             },
             "pattern": {
              "fillmode": "overlay",
              "size": 10,
              "solidity": 0.2
             }
            },
            "type": "bar"
           }
          ],
          "barpolar": [
           {
            "marker": {
             "line": {
              "color": "#E5ECF6",
              "width": 0.5
             },
             "pattern": {
              "fillmode": "overlay",
              "size": 10,
              "solidity": 0.2
             }
            },
            "type": "barpolar"
           }
          ],
          "carpet": [
           {
            "aaxis": {
             "endlinecolor": "#2a3f5f",
             "gridcolor": "white",
             "linecolor": "white",
             "minorgridcolor": "white",
             "startlinecolor": "#2a3f5f"
            },
            "baxis": {
             "endlinecolor": "#2a3f5f",
             "gridcolor": "white",
             "linecolor": "white",
             "minorgridcolor": "white",
             "startlinecolor": "#2a3f5f"
            },
            "type": "carpet"
           }
          ],
          "choropleth": [
           {
            "colorbar": {
             "outlinewidth": 0,
             "ticks": ""
            },
            "type": "choropleth"
           }
          ],
          "contour": [
           {
            "colorbar": {
             "outlinewidth": 0,
             "ticks": ""
            },
            "colorscale": [
             [
              0,
              "#0d0887"
             ],
             [
              0.1111111111111111,
              "#46039f"
             ],
             [
              0.2222222222222222,
              "#7201a8"
             ],
             [
              0.3333333333333333,
              "#9c179e"
             ],
             [
              0.4444444444444444,
              "#bd3786"
             ],
             [
              0.5555555555555556,
              "#d8576b"
             ],
             [
              0.6666666666666666,
              "#ed7953"
             ],
             [
              0.7777777777777778,
              "#fb9f3a"
             ],
             [
              0.8888888888888888,
              "#fdca26"
             ],
             [
              1,
              "#f0f921"
             ]
            ],
            "type": "contour"
           }
          ],
          "contourcarpet": [
           {
            "colorbar": {
             "outlinewidth": 0,
             "ticks": ""
            },
            "type": "contourcarpet"
           }
          ],
          "heatmap": [
           {
            "colorbar": {
             "outlinewidth": 0,
             "ticks": ""
            },
            "colorscale": [
             [
              0,
              "#0d0887"
             ],
             [
              0.1111111111111111,
              "#46039f"
             ],
             [
              0.2222222222222222,
              "#7201a8"
             ],
             [
              0.3333333333333333,
              "#9c179e"
             ],
             [
              0.4444444444444444,
              "#bd3786"
             ],
             [
              0.5555555555555556,
              "#d8576b"
             ],
             [
              0.6666666666666666,
              "#ed7953"
             ],
             [
              0.7777777777777778,
              "#fb9f3a"
             ],
             [
              0.8888888888888888,
              "#fdca26"
             ],
             [
              1,
              "#f0f921"
             ]
            ],
            "type": "heatmap"
           }
          ],
          "heatmapgl": [
           {
            "colorbar": {
             "outlinewidth": 0,
             "ticks": ""
            },
            "colorscale": [
             [
              0,
              "#0d0887"
             ],
             [
              0.1111111111111111,
              "#46039f"
             ],
             [
              0.2222222222222222,
              "#7201a8"
             ],
             [
              0.3333333333333333,
              "#9c179e"
             ],
             [
              0.4444444444444444,
              "#bd3786"
             ],
             [
              0.5555555555555556,
              "#d8576b"
             ],
             [
              0.6666666666666666,
              "#ed7953"
             ],
             [
              0.7777777777777778,
              "#fb9f3a"
             ],
             [
              0.8888888888888888,
              "#fdca26"
             ],
             [
              1,
              "#f0f921"
             ]
            ],
            "type": "heatmapgl"
           }
          ],
          "histogram": [
           {
            "marker": {
             "pattern": {
              "fillmode": "overlay",
              "size": 10,
              "solidity": 0.2
             }
            },
            "type": "histogram"
           }
          ],
          "histogram2d": [
           {
            "colorbar": {
             "outlinewidth": 0,
             "ticks": ""
            },
            "colorscale": [
             [
              0,
              "#0d0887"
             ],
             [
              0.1111111111111111,
              "#46039f"
             ],
             [
              0.2222222222222222,
              "#7201a8"
             ],
             [
              0.3333333333333333,
              "#9c179e"
             ],
             [
              0.4444444444444444,
              "#bd3786"
             ],
             [
              0.5555555555555556,
              "#d8576b"
             ],
             [
              0.6666666666666666,
              "#ed7953"
             ],
             [
              0.7777777777777778,
              "#fb9f3a"
             ],
             [
              0.8888888888888888,
              "#fdca26"
             ],
             [
              1,
              "#f0f921"
             ]
            ],
            "type": "histogram2d"
           }
          ],
          "histogram2dcontour": [
           {
            "colorbar": {
             "outlinewidth": 0,
             "ticks": ""
            },
            "colorscale": [
             [
              0,
              "#0d0887"
             ],
             [
              0.1111111111111111,
              "#46039f"
             ],
             [
              0.2222222222222222,
              "#7201a8"
             ],
             [
              0.3333333333333333,
              "#9c179e"
             ],
             [
              0.4444444444444444,
              "#bd3786"
             ],
             [
              0.5555555555555556,
              "#d8576b"
             ],
             [
              0.6666666666666666,
              "#ed7953"
             ],
             [
              0.7777777777777778,
              "#fb9f3a"
             ],
             [
              0.8888888888888888,
              "#fdca26"
             ],
             [
              1,
              "#f0f921"
             ]
            ],
            "type": "histogram2dcontour"
           }
          ],
          "mesh3d": [
           {
            "colorbar": {
             "outlinewidth": 0,
             "ticks": ""
            },
            "type": "mesh3d"
           }
          ],
          "parcoords": [
           {
            "line": {
             "colorbar": {
              "outlinewidth": 0,
              "ticks": ""
             }
            },
            "type": "parcoords"
           }
          ],
          "pie": [
           {
            "automargin": true,
            "type": "pie"
           }
          ],
          "scatter": [
           {
            "fillpattern": {
             "fillmode": "overlay",
             "size": 10,
             "solidity": 0.2
            },
            "type": "scatter"
           }
          ],
          "scatter3d": [
           {
            "line": {
             "colorbar": {
              "outlinewidth": 0,
              "ticks": ""
             }
            },
            "marker": {
             "colorbar": {
              "outlinewidth": 0,
              "ticks": ""
             }
            },
            "type": "scatter3d"
           }
          ],
          "scattercarpet": [
           {
            "marker": {
             "colorbar": {
              "outlinewidth": 0,
              "ticks": ""
             }
            },
            "type": "scattercarpet"
           }
          ],
          "scattergeo": [
           {
            "marker": {
             "colorbar": {
              "outlinewidth": 0,
              "ticks": ""
             }
            },
            "type": "scattergeo"
           }
          ],
          "scattergl": [
           {
            "marker": {
             "colorbar": {
              "outlinewidth": 0,
              "ticks": ""
             }
            },
            "type": "scattergl"
           }
          ],
          "scattermapbox": [
           {
            "marker": {
             "colorbar": {
              "outlinewidth": 0,
              "ticks": ""
             }
            },
            "type": "scattermapbox"
           }
          ],
          "scatterpolar": [
           {
            "marker": {
             "colorbar": {
              "outlinewidth": 0,
              "ticks": ""
             }
            },
            "type": "scatterpolar"
           }
          ],
          "scatterpolargl": [
           {
            "marker": {
             "colorbar": {
              "outlinewidth": 0,
              "ticks": ""
             }
            },
            "type": "scatterpolargl"
           }
          ],
          "scatterternary": [
           {
            "marker": {
             "colorbar": {
              "outlinewidth": 0,
              "ticks": ""
             }
            },
            "type": "scatterternary"
           }
          ],
          "surface": [
           {
            "colorbar": {
             "outlinewidth": 0,
             "ticks": ""
            },
            "colorscale": [
             [
              0,
              "#0d0887"
             ],
             [
              0.1111111111111111,
              "#46039f"
             ],
             [
              0.2222222222222222,
              "#7201a8"
             ],
             [
              0.3333333333333333,
              "#9c179e"
             ],
             [
              0.4444444444444444,
              "#bd3786"
             ],
             [
              0.5555555555555556,
              "#d8576b"
             ],
             [
              0.6666666666666666,
              "#ed7953"
             ],
             [
              0.7777777777777778,
              "#fb9f3a"
             ],
             [
              0.8888888888888888,
              "#fdca26"
             ],
             [
              1,
              "#f0f921"
             ]
            ],
            "type": "surface"
           }
          ],
          "table": [
           {
            "cells": {
             "fill": {
              "color": "#EBF0F8"
             },
             "line": {
              "color": "white"
             }
            },
            "header": {
             "fill": {
              "color": "#C8D4E3"
             },
             "line": {
              "color": "white"
             }
            },
            "type": "table"
           }
          ]
         },
         "layout": {
          "annotationdefaults": {
           "arrowcolor": "#2a3f5f",
           "arrowhead": 0,
           "arrowwidth": 1
          },
          "autotypenumbers": "strict",
          "coloraxis": {
           "colorbar": {
            "outlinewidth": 0,
            "ticks": ""
           }
          },
          "colorscale": {
           "diverging": [
            [
             0,
             "#8e0152"
            ],
            [
             0.1,
             "#c51b7d"
            ],
            [
             0.2,
             "#de77ae"
            ],
            [
             0.3,
             "#f1b6da"
            ],
            [
             0.4,
             "#fde0ef"
            ],
            [
             0.5,
             "#f7f7f7"
            ],
            [
             0.6,
             "#e6f5d0"
            ],
            [
             0.7,
             "#b8e186"
            ],
            [
             0.8,
             "#7fbc41"
            ],
            [
             0.9,
             "#4d9221"
            ],
            [
             1,
             "#276419"
            ]
           ],
           "sequential": [
            [
             0,
             "#0d0887"
            ],
            [
             0.1111111111111111,
             "#46039f"
            ],
            [
             0.2222222222222222,
             "#7201a8"
            ],
            [
             0.3333333333333333,
             "#9c179e"
            ],
            [
             0.4444444444444444,
             "#bd3786"
            ],
            [
             0.5555555555555556,
             "#d8576b"
            ],
            [
             0.6666666666666666,
             "#ed7953"
            ],
            [
             0.7777777777777778,
             "#fb9f3a"
            ],
            [
             0.8888888888888888,
             "#fdca26"
            ],
            [
             1,
             "#f0f921"
            ]
           ],
           "sequentialminus": [
            [
             0,
             "#0d0887"
            ],
            [
             0.1111111111111111,
             "#46039f"
            ],
            [
             0.2222222222222222,
             "#7201a8"
            ],
            [
             0.3333333333333333,
             "#9c179e"
            ],
            [
             0.4444444444444444,
             "#bd3786"
            ],
            [
             0.5555555555555556,
             "#d8576b"
            ],
            [
             0.6666666666666666,
             "#ed7953"
            ],
            [
             0.7777777777777778,
             "#fb9f3a"
            ],
            [
             0.8888888888888888,
             "#fdca26"
            ],
            [
             1,
             "#f0f921"
            ]
           ]
          },
          "colorway": [
           "#636efa",
           "#EF553B",
           "#00cc96",
           "#ab63fa",
           "#FFA15A",
           "#19d3f3",
           "#FF6692",
           "#B6E880",
           "#FF97FF",
           "#FECB52"
          ],
          "font": {
           "color": "#2a3f5f"
          },
          "geo": {
           "bgcolor": "white",
           "lakecolor": "white",
           "landcolor": "#E5ECF6",
           "showlakes": true,
           "showland": true,
           "subunitcolor": "white"
          },
          "hoverlabel": {
           "align": "left"
          },
          "hovermode": "closest",
          "mapbox": {
           "style": "light"
          },
          "paper_bgcolor": "white",
          "plot_bgcolor": "#E5ECF6",
          "polar": {
           "angularaxis": {
            "gridcolor": "white",
            "linecolor": "white",
            "ticks": ""
           },
           "bgcolor": "#E5ECF6",
           "radialaxis": {
            "gridcolor": "white",
            "linecolor": "white",
            "ticks": ""
           }
          },
          "scene": {
           "xaxis": {
            "backgroundcolor": "#E5ECF6",
            "gridcolor": "white",
            "gridwidth": 2,
            "linecolor": "white",
            "showbackground": true,
            "ticks": "",
            "zerolinecolor": "white"
           },
           "yaxis": {
            "backgroundcolor": "#E5ECF6",
            "gridcolor": "white",
            "gridwidth": 2,
            "linecolor": "white",
            "showbackground": true,
            "ticks": "",
            "zerolinecolor": "white"
           },
           "zaxis": {
            "backgroundcolor": "#E5ECF6",
            "gridcolor": "white",
            "gridwidth": 2,
            "linecolor": "white",
            "showbackground": true,
            "ticks": "",
            "zerolinecolor": "white"
           }
          },
          "shapedefaults": {
           "line": {
            "color": "#2a3f5f"
           }
          },
          "ternary": {
           "aaxis": {
            "gridcolor": "white",
            "linecolor": "white",
            "ticks": ""
           },
           "baxis": {
            "gridcolor": "white",
            "linecolor": "white",
            "ticks": ""
           },
           "bgcolor": "#E5ECF6",
           "caxis": {
            "gridcolor": "white",
            "linecolor": "white",
            "ticks": ""
           }
          },
          "title": {
           "x": 0.05
          },
          "xaxis": {
           "automargin": true,
           "gridcolor": "white",
           "linecolor": "white",
           "ticks": "",
           "title": {
            "standoff": 15
           },
           "zerolinecolor": "white",
           "zerolinewidth": 2
          },
          "yaxis": {
           "automargin": true,
           "gridcolor": "white",
           "linecolor": "white",
           "ticks": "",
           "title": {
            "standoff": 15
           },
           "zerolinecolor": "white",
           "zerolinewidth": 2
          }
         }
        },
        "title": {
         "text": "Top 10 Categories by Sales"
        },
        "xaxis": {
         "anchor": "y",
         "autorange": true,
         "domain": [
          0,
          1
         ],
         "range": [
          0,
          49085.26315789474
         ],
         "title": {
          "text": "Total Sales"
         },
         "type": "linear"
        },
        "yaxis": {
         "anchor": "x",
         "autorange": true,
         "domain": [
          0,
          1
         ],
         "range": [
          -0.5,
          9.5
         ],
         "title": {
          "text": "Category"
         },
         "type": "category"
        }
       }
      },
      "image/png": "[encoded data removed]",
      "text/html": [
       "<div>                            <div id=\"374867f6-0b9a-4168-a9e9-609b045e50ed\" class=\"plotly-graph-div\" style=\"height:525px; width:100%;\"></div>            <script type=\"text/javascript\">                require([\"plotly\"], function(Plotly) {                    window.PLOTLYENV=window.PLOTLYENV || {};                                    if (document.getElementById(\"374867f6-0b9a-4168-a9e9-609b045e50ed\")) {                    Plotly.newPlot(                        \"374867f6-0b9a-4168-a9e9-609b045e50ed\",                        [{\"alignmentgroup\":\"True\",\"hovertemplate\":\"Total Sales=%{x}<br>Category=%{y}<extra></extra>\",\"legendgroup\":\"\",\"marker\":{\"color\":\"#636efa\",\"pattern\":{\"shape\":\"\"}},\"name\":\"\",\"offsetgroup\":\"\",\"orientation\":\"h\",\"showlegend\":false,\"textposition\":\"auto\",\"x\":[46631,45912,45116,44402,43660,42844,42750,42454,42337,42295],\"xaxis\":\"x\",\"y\":[\"Bedsheets\",\"Art and crafting materials\",\"Motor vehicle parts\",\"Vitamins and supplements\",\"Mobile phone accessories\",\"Electronics\",\"Bicycles\",\"Bath and body\",\"Makeup\",\"Toys & Games\"],\"yaxis\":\"y\",\"type\":\"bar\"}],                        {\"template\":{\"data\":{\"histogram2dcontour\":[{\"type\":\"histogram2dcontour\",\"colorbar\":{\"outlinewidth\":0,\"ticks\":\"\"},\"colorscale\":[[0.0,\"#0d0887\"],[0.1111111111111111,\"#46039f\"],[0.2222222222222222,\"#7201a8\"],[0.3333333333333333,\"#9c179e\"],[0.4444444444444444,\"#bd3786\"],[0.5555555555555556,\"#d8576b\"],[0.6666666666666666,\"#ed7953\"],[0.7777777777777778,\"#fb9f3a\"],[0.8888888888888888,\"#fdca26\"],[1.0,\"#f0f921\"]]}],\"choropleth\":[{\"type\":\"choropleth\",\"colorbar\":{\"outlinewidth\":0,\"ticks\":\"\"}}],\"histogram2d\":[{\"type\":\"histogram2d\",\"colorbar\":{\"outlinewidth\":0,\"ticks\":\"\"},\"colorscale\":[[0.0,\"#0d0887\"],[0.1111111111111111,\"#46039f\"],[0.2222222222222222,\"#7201a8\"],[0.3333333333333333,\"#9c179e\"],[0.4444444444444444,\"#bd3786\"],[0.5555555555555556,\"#d8576b\"],[0.6666666666666666,\"#ed7953\"],[0.7777777777777778,\"#fb9f3a\"],[0.8888888888888888,\"#fdca26\"],[1.0,\"#f0f921\"]]}],\"heatmap\":[{\"type\":\"heatmap\",\"colorbar\":{\"outlinewidth\":0,\"ticks\":\"\"},\"colorscale\":[[0.0,\"#0d0887\"],[0.1111111111111111,\"#46039f\"],[0.2222222222222222,\"#7201a8\"],[0.3333333333333333,\"#9c179e\"],[0.4444444444444444,\"#bd3786\"],[0.5555555555555556,\"#d8576b\"],[0.6666666666666666,\"#ed7953\"],[0.7777777777777778,\"#fb9f3a\"],[0.8888888888888888,\"#fdca26\"],[1.0,\"#f0f921\"]]}],\"heatmapgl\":[{\"type\":\"heatmapgl\",\"colorbar\":{\"outlinewidth\":0,\"ticks\":\"\"},\"colorscale\":[[0.0,\"#0d0887\"],[0.1111111111111111,\"#46039f\"],[0.2222222222222222,\"#7201a8\"],[0.3333333333333333,\"#9c179e\"],[0.4444444444444444,\"#bd3786\"],[0.5555555555555556,\"#d8576b\"],[0.6666666666666666,\"#ed7953\"],[0.7777777777777778,\"#fb9f3a\"],[0.8888888888888888,\"#fdca26\"],[1.0,\"#f0f921\"]]}],\"contourcarpet\":[{\"type\":\"contourcarpet\",\"colorbar\":{\"outlinewidth\":0,\"ticks\":\"\"}}],\"contour\":[{\"type\":\"contour\",\"colorbar\":{\"outlinewidth\":0,\"ticks\":\"\"},\"colorscale\":[[0.0,\"#0d0887\"],[0.1111111111111111,\"#46039f\"],[0.2222222222222222,\"#7201a8\"],[0.3333333333333333,\"#9c179e\"],[0.4444444444444444,\"#bd3786\"],[0.5555555555555556,\"#d8576b\"],[0.6666666666666666,\"#ed7953\"],[0.7777777777777778,\"#fb9f3a\"],[0.8888888888888888,\"#fdca26\"],[1.0,\"#f0f921\"]]}],\"surface\":[{\"type\":\"surface\",\"colorbar\":{\"outlinewidth\":0,\"ticks\":\"\"},\"colorscale\":[[0.0,\"#0d0887\"],[0.1111111111111111,\"#46039f\"],[0.2222222222222222,\"#7201a8\"],[0.3333333333333333,\"#9c179e\"],[0.4444444444444444,\"#bd3786\"],[0.5555555555555556,\"#d8576b\"],[0.6666666666666666,\"#ed7953\"],[0.7777777777777778,\"#fb9f3a\"],[0.8888888888888888,\"#fdca26\"],[1.0,\"#f0f921\"]]}],\"mesh3d\":[{\"type\":\"mesh3d\",\"colorbar\":{\"outlinewidth\":0,\"ticks\":\"\"}}],\"scatter\":[{\"fillpattern\":{\"fillmode\":\"overlay\",\"size\":10,\"solidity\":0.2},\"type\":\"scatter\"}],\"parcoords\":[{\"type\":\"parcoords\",\"line\":{\"colorbar\":{\"outlinewidth\":0,\"ticks\":\"\"}}}],\"scatterpolargl\":[{\"type\":\"scatterpolargl\",\"marker\":{\"colorbar\":{\"outlinewidth\":0,\"ticks\":\"\"}}}],\"bar\":[{\"error_x\":{\"color\":\"#2a3f5f\"},\"error_y\":{\"color\":\"#2a3f5f\"},\"marker\":{\"line\":{\"color\":\"#E5ECF6\",\"width\":0.5},\"pattern\":{\"fillmode\":\"overlay\",\"size\":10,\"solidity\":0.2}},\"type\":\"bar\"}],\"scattergeo\":[{\"type\":\"scattergeo\",\"marker\":{\"colorbar\":{\"outlinewidth\":0,\"ticks\":\"\"}}}],\"scatterpolar\":[{\"type\":\"scatterpolar\",\"marker\":{\"colorbar\":{\"outlinewidth\":0,\"ticks\":\"\"}}}],\"histogram\":[{\"marker\":{\"pattern\":{\"fillmode\":\"overlay\",\"size\":10,\"solidity\":0.2}},\"type\":\"histogram\"}],\"scattergl\":[{\"type\":\"scattergl\",\"marker\":{\"colorbar\":{\"outlinewidth\":0,\"ticks\":\"\"}}}],\"scatter3d\":[{\"type\":\"scatter3d\",\"line\":{\"colorbar\":{\"outlinewidth\":0,\"ticks\":\"\"}},\"marker\":{\"colorbar\":{\"outlinewidth\":0,\"ticks\":\"\"}}}],\"scattermapbox\":[{\"type\":\"scattermapbox\",\"marker\":{\"colorbar\":{\"outlinewidth\":0,\"ticks\":\"\"}}}],\"scatterternary\":[{\"type\":\"scatterternary\",\"marker\":{\"colorbar\":{\"outlinewidth\":0,\"ticks\":\"\"}}}],\"scattercarpet\":[{\"type\":\"scattercarpet\",\"marker\":{\"colorbar\":{\"outlinewidth\":0,\"ticks\":\"\"}}}],\"carpet\":[{\"aaxis\":{\"endlinecolor\":\"#2a3f5f\",\"gridcolor\":\"white\",\"linecolor\":\"white\",\"minorgridcolor\":\"white\",\"startlinecolor\":\"#2a3f5f\"},\"baxis\":{\"endlinecolor\":\"#2a3f5f\",\"gridcolor\":\"white\",\"linecolor\":\"white\",\"minorgridcolor\":\"white\",\"startlinecolor\":\"#2a3f5f\"},\"type\":\"carpet\"}],\"table\":[{\"cells\":{\"fill\":{\"color\":\"#EBF0F8\"},\"line\":{\"color\":\"white\"}},\"header\":{\"fill\":{\"color\":\"#C8D4E3\"},\"line\":{\"color\":\"white\"}},\"type\":\"table\"}],\"barpolar\":[{\"marker\":{\"line\":{\"color\":\"#E5ECF6\",\"width\":0.5},\"pattern\":{\"fillmode\":\"overlay\",\"size\":10,\"solidity\":0.2}},\"type\":\"barpolar\"}],\"pie\":[{\"automargin\":true,\"type\":\"pie\"}]},\"layout\":{\"autotypenumbers\":\"strict\",\"colorway\":[\"#636efa\",\"#EF553B\",\"#00cc96\",\"#ab63fa\",\"#FFA15A\",\"#19d3f3\",\"#FF6692\",\"#B6E880\",\"#FF97FF\",\"#FECB52\"],\"font\":{\"color\":\"#2a3f5f\"},\"hovermode\":\"closest\",\"hoverlabel\":{\"align\":\"left\"},\"paper_bgcolor\":\"white\",\"plot_bgcolor\":\"#E5ECF6\",\"polar\":{\"bgcolor\":\"#E5ECF6\",\"angularaxis\":{\"gridcolor\":\"white\",\"linecolor\":\"white\",\"ticks\":\"\"},\"radialaxis\":{\"gridcolor\":\"white\",\"linecolor\":\"white\",\"ticks\":\"\"}},\"ternary\":{\"bgcolor\":\"#E5ECF6\",\"aaxis\":{\"gridcolor\":\"white\",\"linecolor\":\"white\",\"ticks\":\"\"},\"baxis\":{\"gridcolor\":\"white\",\"linecolor\":\"white\",\"ticks\":\"\"},\"caxis\":{\"gridcolor\":\"white\",\"linecolor\":\"white\",\"ticks\":\"\"}},\"coloraxis\":{\"colorbar\":{\"outlinewidth\":0,\"ticks\":\"\"}},\"colorscale\":{\"sequential\":[[0.0,\"#0d0887\"],[0.1111111111111111,\"#46039f\"],[0.2222222222222222,\"#7201a8\"],[0.3333333333333333,\"#9c179e\"],[0.4444444444444444,\"#bd3786\"],[0.5555555555555556,\"#d8576b\"],[0.6666666666666666,\"#ed7953\"],[0.7777777777777778,\"#fb9f3a\"],[0.8888888888888888,\"#fdca26\"],[1.0,\"#f0f921\"]],\"sequentialminus\":[[0.0,\"#0d0887\"],[0.1111111111111111,\"#46039f\"],[0.2222222222222222,\"#7201a8\"],[0.3333333333333333,\"#9c179e\"],[0.4444444444444444,\"#bd3786\"],[0.5555555555555556,\"#d8576b\"],[0.6666666666666666,\"#ed7953\"],[0.7777777777777778,\"#fb9f3a\"],[0.8888888888888888,\"#fdca26\"],[1.0,\"#f0f921\"]],\"diverging\":[[0,\"#8e0152\"],[0.1,\"#c51b7d\"],[0.2,\"#de77ae\"],[0.3,\"#f1b6da\"],[0.4,\"#fde0ef\"],[0.5,\"#f7f7f7\"],[0.6,\"#e6f5d0\"],[0.7,\"#b8e186\"],[0.8,\"#7fbc41\"],[0.9,\"#4d9221\"],[1,\"#276419\"]]},\"xaxis\":{\"gridcolor\":\"white\",\"linecolor\":\"white\",\"ticks\":\"\",\"title\":{\"standoff\":15},\"zerolinecolor\":\"white\",\"automargin\":true,\"zerolinewidth\":2},\"yaxis\":{\"gridcolor\":\"white\",\"linecolor\":\"white\",\"ticks\":\"\",\"title\":{\"standoff\":15},\"zerolinecolor\":\"white\",\"automargin\":true,\"zerolinewidth\":2},\"scene\":{\"xaxis\":{\"backgroundcolor\":\"#E5ECF6\",\"gridcolor\":\"white\",\"linecolor\":\"white\",\"showbackground\":true,\"ticks\":\"\",\"zerolinecolor\":\"white\",\"gridwidth\":2},\"yaxis\":{\"backgroundcolor\":\"#E5ECF6\",\"gridcolor\":\"white\",\"linecolor\":\"white\",\"showbackground\":true,\"ticks\":\"\",\"zerolinecolor\":\"white\",\"gridwidth\":2},\"zaxis\":{\"backgroundcolor\":\"#E5ECF6\",\"gridcolor\":\"white\",\"linecolor\":\"white\",\"showbackground\":true,\"ticks\":\"\",\"zerolinecolor\":\"white\",\"gridwidth\":2}},\"shapedefaults\":{\"line\":{\"color\":\"#2a3f5f\"}},\"annotationdefaults\":{\"arrowcolor\":\"#2a3f5f\",\"arrowhead\":0,\"arrowwidth\":1},\"geo\":{\"bgcolor\":\"white\",\"landcolor\":\"#E5ECF6\",\"subunitcolor\":\"white\",\"showland\":true,\"showlakes\":true,\"lakecolor\":\"white\"},\"title\":{\"x\":0.05},\"mapbox\":{\"style\":\"light\"}}},\"xaxis\":{\"anchor\":\"y\",\"domain\":[0.0,1.0],\"title\":{\"text\":\"Total Sales\"}},\"yaxis\":{\"anchor\":\"x\",\"domain\":[0.0,1.0],\"title\":{\"text\":\"Category\"}},\"legend\":{\"tracegroupgap\":0},\"title\":{\"text\":\"Top 10 Categories by Sales\"},\"barmode\":\"relative\"},                        {\"responsive\": true}                    ).then(function(){\n",
       "                            \n",
       "var gd = document.getElementById('374867f6-0b9a-4168-a9e9-609b045e50ed');\n",
       "var x = new MutationObserver(function (mutations, observer) {{\n",
       "        var display = window.getComputedStyle(gd).display;\n",
       "        if (!display || display === 'none') {{\n",
       "            console.log([gd, 'removed!']);\n",
       "            Plotly.purge(gd);\n",
       "            observer.disconnect();\n",
       "        }}\n",
       "}});\n",
       "\n",
       "// Listen for the removal of the full notebook cells\n",
       "var notebookContainer = gd.closest('#notebook-container');\n",
       "if (notebookContainer) {{\n",
       "    x.observe(notebookContainer, {childList: true});\n",
       "}}\n",
       "\n",
       "// Listen for the clearing of the current output cell\n",
       "var outputEl = gd.closest('.output');\n",
       "if (outputEl) {{\n",
       "    x.observe(outputEl, {childList: true});\n",
       "}}\n",
       "\n",
       "                        })                };                });            </script>        </div>"
      ]
     },
     "metadata": {},
     "output_type": "display_data"
    }
   ],
   "source": [
    "# Calculate top 10 categories by sales\n",
    "top_10_categories = df.groupby('Category')['Sales'].sum().reset_index().nlargest(10, 'Sales')\n",
    "\n",
    "print(\"\\nTop 10 Categories by Sales:\")\n",
    "print(top_10_categories)\n",
    "\n",
    "# Visualization of top 10 categories by sales using Seaborn\n",
    "plt.figure(figsize=(14, 7))\n",
    "sns.barplot(data=top_10_categories, x='Sales', y='Category')\n",
    "plt.title('Top 10 Categories by Sales')\n",
    "plt.xlabel('Sales')\n",
    "plt.ylabel('Category')\n",
    "plt.show()\n",
    "\n",
    "# Visualization of top 10 categories by sales using Plotly\n",
    "fig = px.bar(top_10_categories, x='Sales', y='Category', title='Top 10 Categories by Sales',\n",
    "             labels={'Sales': 'Total Sales', 'Category': 'Category'})\n",
    "fig.show()"
   ]
  },
  {
   "cell_type": "code",
   "execution_count": 32,
   "id": "13120d70-f616-46b7-9759-1dc3ba70d7aa",
   "metadata": {},
   "outputs": [
    {
     "name": "stdout",
     "output_type": "stream",
     "text": [
      "\n",
      "Average Price by Category:\n",
      "                      Category      Price\n",
      "0   Art and crafting materials  211.28625\n",
      "1                Bath and body  238.12625\n",
      "2                    Bedsheets  272.97575\n",
      "3                     Bicycles  252.60550\n",
      "4                     Blankets  225.20375\n",
      "5                        Books  275.45350\n",
      "6                      Candles  235.02800\n",
      "7                     Clothing  265.25400\n",
      "8            Coats and jackets  274.68050\n",
      "9                     Cookware  282.79675\n",
      "10                   Drinkware  258.92450\n",
      "11                 Electronics  276.14925\n",
      "12              Home & Kitchen  257.94075\n",
      "13                      Makeup  259.43825\n",
      "14    Mobile phone accessories  262.49975\n",
      "15         Motor vehicle parts  241.38950\n",
      "16                   Nail care  253.71100\n",
      "17         Perfume and cologne  256.79825\n",
      "18         Posters and artwork  217.95550\n",
      "19                   Skin care  282.06850\n",
      "20                       Socks  287.12250\n",
      "21                Toys & Games  269.97450\n",
      "22                   Underwear  265.86050\n",
      "23    Vitamins and supplements  219.96125\n",
      "24                        Wine  201.18350\n"
     ]
    }
   ],
   "source": [
    "# Data cleaning (assuming 'Price' column has no missing values)\n",
    "# Convert 'Price' to numeric if it's not already\n",
    "df['Price'] = pd.to_numeric(df['Price'], errors='coerce')\n",
    "\n",
    "# Calculate average price per category\n",
    "average_price_by_category = df.groupby('Category')['Price'].mean().reset_index()\n",
    "\n",
    "print(\"\\nAverage Price by Category:\")\n",
    "print(average_price_by_category)"
   ]
  },
  {
   "cell_type": "code",
   "execution_count": 7,
   "id": "cb5abd09-af72-455c-807f-b5618f0e79be",
   "metadata": {},
   "outputs": [
    {
     "name": "stdout",
     "output_type": "stream",
     "text": [
      "\n",
      "Average Price by Product:\n",
      "         ProductName       Price\n",
      "0      Action Figure  265.747778\n",
      "1        Ankle Socks  270.226154\n",
      "2          Art Print  183.042222\n",
      "3      Bamboo Sheets  299.282857\n",
      "4         Bath Salts  214.965455\n",
      "..               ...         ...\n",
      "95  Weighted Blanket  236.830000\n",
      "96        White Wine  202.907000\n",
      "97        Wine Glass  234.146364\n",
      "98       Winter Coat  235.114000\n",
      "99        Wool Socks  331.466000\n",
      "\n",
      "[100 rows x 2 columns]\n"
     ]
    }
   ],
   "source": [
    "# Data cleaning (assuming 'Price' column has no missing values)\n",
    "# Convert 'Price' to numeric if it's not already\n",
    "df['Price'] = pd.to_numeric(df['Price'], errors='coerce')\n",
    "\n",
    "# Calculate average price by product\n",
    "average_price_by_product = df.groupby('ProductName')['Price'].mean().reset_index()\n",
    "\n",
    "print(\"\\nAverage Price by Product:\")\n",
    "print(average_price_by_product)"
   ]
  },
  {
   "cell_type": "code",
   "execution_count": null,
   "id": "87c10f07-39c7-4f02-917d-075b8be4c94a",
   "metadata": {},
   "outputs": [],
   "source": []
  }
 ],
 "metadata": {
  "kernelspec": {
   "display_name": "Python 3 (ipykernel)",
   "language": "python",
   "name": "python3"
  },
  "language_info": {
   "codemirror_mode": {
    "name": "ipython",
    "version": 3
   },
   "file_extension": ".py",
   "mimetype": "text/x-python",
   "name": "python",
   "nbconvert_exporter": "python",
   "pygments_lexer": "ipython3",
   "version": "3.11.7"
  }
 },
 "nbformat": 4,
 "nbformat_minor": 5
}
